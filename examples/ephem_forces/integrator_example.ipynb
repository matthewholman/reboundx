{
 "cells": [
  {
   "cell_type": "code",
   "execution_count": 1,
   "metadata": {},
   "outputs": [],
   "source": [
    "import numpy as np\n",
    "import pandas as pd\n",
    "pd.set_option('display.max_rows', 999)\n",
    "pd.set_option('display.width', 500)\n",
    "pd.set_option('display.notebook_repr_html', True)\n",
    "import matplotlib\n",
    "import matplotlib.pyplot as plt\n",
    "#import seaborn as sns\n",
    "%matplotlib inline\n",
    "import math\n",
    "from collections import defaultdict\n",
    "from collections import Counter\n",
    "from astropy.io import fits\n",
    "\n",
    "import importlib\n",
    "import ctypes\n",
    "\n",
    "import ephem_forces\n",
    "import importlib\n",
    "\n",
    "import MPC_library"
   ]
  },
  {
   "cell_type": "code",
   "execution_count": 2,
   "metadata": {},
   "outputs": [
    {
     "data": {
      "text/plain": [
       "(8.887692446706601e-10,\n",
       " -0.17014509160474314,\n",
       " 0.8959835119684351,\n",
       " 0.38843663075439716,\n",
       " -0.01724754632529073,\n",
       " -0.0027375795909724476,\n",
       " -0.0011861712177350964,\n",
       " 5.322627328905174e-05,\n",
       " -0.0002770479550535439,\n",
       " -0.00012024045421369004)"
      ]
     },
     "execution_count": 2,
     "metadata": {},
     "output_type": "execute_result"
    }
   ],
   "source": [
    "ephem_forces.all_ephem(3, 2458849.500000000)"
   ]
  },
  {
   "cell_type": "code",
   "execution_count": 3,
   "metadata": {},
   "outputs": [
    {
     "data": {
      "text/plain": [
       "(-0.17014438934489898, 0.8959838310534314, 0.38843666016083983)"
      ]
     },
     "execution_count": 3,
     "metadata": {},
     "output_type": "execute_result"
    }
   ],
   "source": [
    "MPC_library.getEarthPosition(2458849.500000000)"
   ]
  },
  {
   "cell_type": "markdown",
   "metadata": {},
   "source": [
    "### Plan\n",
    "\n",
    "The integrator works.  Now it's time to use it.  \n",
    "\n",
    "1. Integrate over some interval, outputting substeps for each integration step.\n",
    "2. Use the output of the substeps to generate Chebyshev polynomials for each integration step.\n",
    "3. Use those to accurately interpolate the position, and possiby velocity, of the integrated object at any time within the interval.\n",
    "\n",
    "4. Get the observatory position at a set of UTC times.\n",
    "5. Use iterative light-time correction to get the observed position of the object at those times.\n",
    "\n",
    "6. Integrate initial conditions to match a set of observations."
   ]
  },
  {
   "cell_type": "markdown",
   "metadata": {},
   "source": [
    "Here we demonstrate the ephemeris-quality integrator by calling a python-wrapped C function that has been compiled into a library.  That library is imported with the ephem_forces.py package.\n",
    "\n",
    "The primary function in ephem_forces is 'integration_function', although we will access it with a higher-level function called 'production_integration_function_wrapper'.  'integration_function' integrates massless test particles in the field of the Sun, planets, moon, and 16 massive asteroids.  It also includes the J2 and J4 gravitational harmonics of the Earth, the J2 gravitational harmonic of the Sun, and the solar GR terms (using the PPN formulation).  \n",
    "\n",
    "The positions of the massive bodies come from two binary files, both from JPL.  The first is for the Sun, planets, and moon, with the latest DE441 ephemeris. The other is for the asteroids, corresponding to DE441.  \n",
    "\n",
    "The coordinate frame and units are not flexible, currently.  The coordinate frame is the equatorial ICRF, which is the native coordinate system for the JPL binary files.  Note that this is equatorial rather than ecliptic.  In addition, the native coordinates are barycentric, rather than heliocentric. \n",
    "\n",
    "For units we use solar masses, au, and days.  The independent time coordinate is TDB in Julian days."
   ]
  },
  {
   "cell_type": "markdown",
   "metadata": {},
   "source": [
    "We collect some initial conditions from JPL Horizons.  For asteroid (3666) Holman, we grab the barycentric position and velocity vectors, in units of au and au/day."
   ]
  },
  {
   "cell_type": "code",
   "execution_count": 4,
   "metadata": {},
   "outputs": [],
   "source": [
    "# DE441\n",
    "# (3666) Holman\n",
    "#2458849.500000000 = A.D. 2020-Jan-01 00:00:00.0000 TDB [del_T=     69.183900 s]\n",
    "# X = 3.338875349745594E+00 Y =-9.176518281675284E-01 Z =-5.038590682977396E-01\n",
    "# VX= 2.805663319000732E-03 VY= 7.550408687780768E-03 VZ= 2.980028206579994E-03\n",
    "row = [3.338875349745594E+00, -9.176518281675284E-01, -5.038590682977396E-01, 2.805663319000732E-03, 7.550408687780768E-03, 2.980028206579994E-03]"
   ]
  },
  {
   "cell_type": "code",
   "execution_count": 3,
   "metadata": {},
   "outputs": [],
   "source": [
    "# DE441\n",
    "# (394130)\n",
    "# 2458849.500000000 = A.D. 2020-Jan-01 00:00:00.0000 TDB [del_T=     69.183900 s]\n",
    "# X =-5.527953617126498E+08 Y =-2.285030107930585E+08 Z = 5.732343925013500E+07\n",
    "# VX=-8.271684793395774E+00 VY=-5.376349883875548E+00 VZ=-1.468175458463820E+00\n",
    "row = [-5.527953617126498E+08, -2.285030107930585E+08, 5.732343925013500E+07, -8.271684793395774E+00, -5.376349883875548E+00, -1.468175458463820E+00]"
   ]
  },
  {
   "cell_type": "markdown",
   "metadata": {},
   "source": [
    "production_integration_function_wrapper is called with\n",
    "\n",
    "tstart: the start time of the output, in JD (TDB).\n",
    "\n",
    "tend: the end time of the output, in JD (TDB).\n",
    "    \n",
    "tepoch: the time at which the initial conditions, in JD (TDB).  Note that tepoch does not need to correspond to tstart or tend, nor does it need to be within the range of tstart and tend.\n",
    "\n",
    "instates: an array of 6-vectors, each of which is the position and velocity of a test particle at tstart.\n",
    "\n"
   ]
  },
  {
   "cell_type": "markdown",
   "metadata": {},
   "source": [
    "The output is:\n",
    "\n",
    "times: a numpy array of the times of output\n",
    "\n",
    "states: a numpy array of 6-vectors, one for each real particle at each output time.\n",
    "\n",
    "var: a numpy array of 6-vectors, one for each variational particle at each output time.\n",
    "\n",
    "var_ng: a numpy array of vectors (length?) to represent the variations with respect to the non-gravitational parameters.\n",
    "\n",
    "status: a flag indicating the outcome of the integration."
   ]
  },
  {
   "cell_type": "markdown",
   "metadata": {},
   "source": [
    "Now we integrate this one particle for 10,000 days.  "
   ]
  },
  {
   "cell_type": "code",
   "execution_count": 5,
   "metadata": {},
   "outputs": [],
   "source": [
    "instates = np.array([row])\n",
    "n_particles = 1\n",
    "\n",
    "tstart, tstep, trange = 2458849.5, 20.0, 10000\n",
    "\n",
    "epoch = tstart\n",
    "tend = tstart + trange"
   ]
  },
  {
   "cell_type": "code",
   "execution_count": 6,
   "metadata": {
    "scrolled": true
   },
   "outputs": [],
   "source": [
    "times, states, var, var_ng, status = ephem_forces.production_integration_function_wrapper(tstart, tend, epoch, instates)\n"
   ]
  },
  {
   "cell_type": "markdown",
   "metadata": {},
   "source": [
    "If we swap the start and end points, we get the same result."
   ]
  },
  {
   "cell_type": "code",
   "execution_count": 7,
   "metadata": {
    "scrolled": true
   },
   "outputs": [],
   "source": [
    "\n",
    "timesp, statesp, varp, varp_ng, statusp = ephem_forces.production_integration_function_wrapper(tend, tstart, epoch, instates)\n"
   ]
  },
  {
   "cell_type": "code",
   "execution_count": 8,
   "metadata": {},
   "outputs": [
    {
     "data": {
      "text/plain": [
       "0.0"
      ]
     },
     "execution_count": 8,
     "metadata": {},
     "output_type": "execute_result"
    }
   ],
   "source": [
    "np.sum(statesp-states)"
   ]
  },
  {
   "cell_type": "markdown",
   "metadata": {},
   "source": [
    "If we keep the same epoch but cut down the range, the overlapping section is nearly the same, to the few meter level.  Numerically, this probably due to slightly different step sizes being used.  It might be the best that can be achieved with the precision of the positions of the  planets and asteroids.  Regardless, it is extremely small."
   ]
  },
  {
   "cell_type": "code",
   "execution_count": 9,
   "metadata": {},
   "outputs": [],
   "source": [
    "timesp, statesp, varp, varp_ng, statusp = ephem_forces.production_integration_function_wrapper(tend-2000, tend, epoch, instates)#, epsilon=1e-8, tstep=20)\n"
   ]
  },
  {
   "cell_type": "code",
   "execution_count": 10,
   "metadata": {},
   "outputs": [
    {
     "data": {
      "text/plain": [
       "array([ 1.37210243e-11,  2.55007127e-11,  9.90296734e-12, -7.79714834e-14,\n",
       "        3.21400892e-14,  1.61550461e-14])"
      ]
     },
     "execution_count": 10,
     "metadata": {},
     "output_type": "execute_result"
    }
   ],
   "source": [
    "(statesp[-1][0]-states[-1][0])"
   ]
  },
  {
   "cell_type": "markdown",
   "metadata": {},
   "source": [
    "The underlying numerical integrator is IAS15 (Rein & Liu 2015), a 15th order predictor-corrector integrator with an adaptive step-size.  Each time step involves eight sub-steps.  We have modified the integrator to output the state at each of the sub-steps in order to support interpolation of the output.\n",
    "\n",
    "Below is a plot of the overall step-size as a function of elapsed integration time.  (The sub-steps are smaller).  A rough periodicity on the ~2000 day asteroid orbital period is evident."
   ]
  },
  {
   "cell_type": "code",
   "execution_count": 11,
   "metadata": {},
   "outputs": [
    {
     "data": {
      "text/plain": [
       "Text(0, 0.5, 'step-size (days)')"
      ]
     },
     "execution_count": 11,
     "metadata": {},
     "output_type": "execute_result"
    },
    {
     "data": {
      "image/png": "[encoded data removed]",
      "text/plain": [
       "<Figure size 432x288 with 1 Axes>"
      ]
     },
     "metadata": {
      "needs_background": "light"
     },
     "output_type": "display_data"
    }
   ],
   "source": [
    "t=(times-times[0])[::8]\n",
    "dt=t[1:]-t[:-1]\n",
    "\n",
    "plt.plot(t[:-1], dt)\n",
    "plt.xlabel(\"time (days)\")\n",
    "plt.ylabel(\"step-size (days)\")"
   ]
  },
  {
   "cell_type": "markdown",
   "metadata": {},
   "source": [
    "And here is a histogram of the step-sizes.  Most are 15-25 days."
   ]
  },
  {
   "cell_type": "code",
   "execution_count": 12,
   "metadata": {},
   "outputs": [
    {
     "data": {
      "text/plain": [
       "Text(0, 0.5, 'N')"
      ]
     },
     "execution_count": 12,
     "metadata": {},
     "output_type": "execute_result"
    },
    {
     "data": {
      "image/png": "[encoded data removed]",
      "text/plain": [
       "<Figure size 432x288 with 1 Axes>"
      ]
     },
     "metadata": {
      "needs_background": "light"
     },
     "output_type": "display_data"
    }
   ],
   "source": [
    "_=plt.hist(dt,bins=30)\n",
    "plt.xlabel(\"step-size (days)\")\n",
    "plt.ylabel(\"N\")"
   ]
  },
  {
   "cell_type": "markdown",
   "metadata": {},
   "source": [
    "Here are the xyz values as a function of time.  The coordinate system is equatorial, so the z component is not nearly zero."
   ]
  },
  {
   "cell_type": "code",
   "execution_count": 13,
   "metadata": {},
   "outputs": [
    {
     "data": {
      "image/png": "[encoded data removed]",
      "text/plain": [
       "<Figure size 432x288 with 1 Axes>"
      ]
     },
     "metadata": {
      "needs_background": "light"
     },
     "output_type": "display_data"
    }
   ],
   "source": [
    "for i in range(3):\n",
    "    plt.plot(times-times[0], states[:,0,i])"
   ]
  },
  {
   "cell_type": "code",
   "execution_count": 14,
   "metadata": {},
   "outputs": [
    {
     "data": {
      "text/plain": [
       "Text(0, 0.5, 'y (AU)')"
      ]
     },
     "execution_count": 14,
     "metadata": {},
     "output_type": "execute_result"
    },
    {
     "data": {
      "image/png": "[encoded data removed]",
      "text/plain": [
       "<Figure size 432x288 with 1 Axes>"
      ]
     },
     "metadata": {
      "needs_background": "light"
     },
     "output_type": "display_data"
    }
   ],
   "source": [
    "plt.plot(states[:,0,0], states[:,0,1], linewidth=0.2)\n",
    "plt.axis('square')\n",
    "plt.xlabel('x (AU)')\n",
    "plt.ylabel('y (AU)')"
   ]
  },
  {
   "cell_type": "markdown",
   "metadata": {},
   "source": [
    "And we can compare the output to what JPL Horizons gives.  "
   ]
  },
  {
   "cell_type": "code",
   "execution_count": 15,
   "metadata": {},
   "outputs": [],
   "source": [
    "# No non-gravs\n",
    "# dt_min = 1e-2\n",
    "# epsilon = 1e-8\n",
    "\n",
    "# This is from JPL Horizons, using DE441 for the planets and sb431-n16 for the massive asteroids.\n",
    "\n",
    "#2468849.500000000 = A.D. 2047-May-19 00:00:00.0000 TDB [del_T=     69.185214 s]\n",
    "# X = 3.170610684726161E+00 Y =-1.304064355874703E+00 Z =-6.557860840042533E-01\n",
    "# VX= 3.883515127959035E-03 VY= 7.175467895958359E-03 VZ= 2.785507467676363E-03\n",
    "\n",
    "#DE441\n",
    "\n",
    "holman = np.array([3.170610684726161E+00, -1.304064355874703E+00, -6.557860840042533E-01,\n",
    "                   3.883515127959035E-03, 7.175467895958359E-03, 2.785507467676363E-03])\n",
    "    \n"
   ]
  },
  {
   "cell_type": "markdown",
   "metadata": {},
   "source": [
    "The agreement after ~27 years is excellent, ~25 m or 1e-2 mas (assuming the object is 3 AU away)!  The remaining difference is probably due to the integrator or differences in the precision of the constants.\n"
   ]
  },
  {
   "cell_type": "code",
   "execution_count": 16,
   "metadata": {},
   "outputs": [
    {
     "data": {
      "text/plain": [
       "(array([-9.88144817e-06,  1.15088606e-05,  4.95111306e-06,  3.98142110e-08,\n",
       "         8.62555313e-09,  1.47699135e-09]),\n",
       " array([-2.15579554e+01,  2.51084153e+01,  1.08016429e+01,  8.68610522e-02,\n",
       "         1.88180201e-02,  3.22229222e-03]))"
      ]
     },
     "execution_count": 16,
     "metadata": {},
     "output_type": "execute_result"
    }
   ],
   "source": [
    "((states[-1][0]-holman)/3)*206265, (states[-1][0]-holman)*1.5e11"
   ]
  },
  {
   "cell_type": "markdown",
   "metadata": {},
   "source": [
    "Let's look at the output states in more detail."
   ]
  },
  {
   "cell_type": "code",
   "execution_count": 17,
   "metadata": {},
   "outputs": [
    {
     "data": {
      "text/plain": [
       "((3865,), (3865, 1, 6), 1)"
      ]
     },
     "execution_count": 17,
     "metadata": {},
     "output_type": "execute_result"
    }
   ],
   "source": [
    "times.shape, states.shape, n_particles"
   ]
  },
  {
   "cell_type": "code",
   "execution_count": 18,
   "metadata": {},
   "outputs": [
    {
     "data": {
      "text/plain": [
       "(3865, 6, 6)"
      ]
     },
     "execution_count": 18,
     "metadata": {},
     "output_type": "execute_result"
    }
   ],
   "source": [
    "var.shape"
   ]
  },
  {
   "cell_type": "markdown",
   "metadata": {},
   "source": [
    "What about 'var' in the output?  It looks like there are extra particles.  In fact, for each actual particle production_integration_function_wrapper generates six \"variational particles\" or tangent vectors.  These are vectors with the same dimensionality as an actual particle state, but they are the result of integrating the linearized tangent equations, or variational equations.  There is one variational particle for each of the six dimensions, with the initial state being a unit vector.\n",
    "\n",
    "One way to think of the variational equations is to consider two states that are initially close to each other.  As we integrate both the two states will begin to separate.  We can imagine a vector pointing from one of the particles to the other.  (This is a vector is all six dimensions, both positions and velocities.) \n",
    "\n",
    "Suppose that instead of integrating the two particles we could integrate one of the particles and the vector from that particle to the other.  In addition to the equations of motion for the actual particle, we would need the equations of motion for the state vector between the two.  \n",
    "\n",
    "That is what the linearized variational equations are, the equations of motion for the separation between two particles.  As \"linearized\" suggests, these equations are good to first order in the separation.  Also, the variational equations are associated with a big 6x6 matrix, with the terms of the matrix depending only upon the state of the actual particle.  The terms in the matrix are independent of the state vector describing the separation of the particles.  \n",
    "\n",
    "The variational equations are the result of multiplying this big matrix by the state vector of the current separation.  That means we can multiply the same big matrix by any number of state vectors.   The big matrix is sparse (most of the elements are zero). So, the multiplication is not too expensive.  \n"
   ]
  },
  {
   "cell_type": "markdown",
   "metadata": {},
   "source": [
    "We can explore this in more detail using the primary routine 'integration_function', which requires more input but allows more control over what is actually integrated.\n",
    "\n",
    "integration_function is called with\n",
    "\n",
    "tstart: the start time in JD (TDB)\n",
    "\n",
    "tend: the end time in JD (TDB)\n",
    "\n",
    "tstep: a suggested time step in days.  The integrator might alter this, depending upon the value of epsilon (see below).\n",
    "\n",
    "geocentric: this is an integer (0 or 1).  0 is for barycentric and 1 is for geocentric.\n",
    "n_particles: the integer number of input particles\n",
    "\n",
    "instates: an array of 6-vectors, each of which is the position and velocity of a test particle at tstart.\n",
    "\n",
    "invar_part: an array of integers that specify which real particle is the host for each input variational particle\n",
    "\n",
    "invar: an array of 6-vectors, each of which represents a variational particle.\n",
    "\n",
    "epsilon: this is a float that affects the adaptive step size control.  The default value is 1e-8.  Negative values indicate a fixed step size."
   ]
  },
  {
   "cell_type": "markdown",
   "metadata": {},
   "source": [
    "Now we test the variational equation by looking at a set of addition real particles.  In particular, we include another six real particles, each offset by a small amount, given by 'scale', along each of those same dimension."
   ]
  },
  {
   "cell_type": "code",
   "execution_count": 19,
   "metadata": {},
   "outputs": [],
   "source": [
    "instates = np.array([row])\n",
    "n_var = 6\n",
    "n_particles = 7\n",
    "geocentric = 0\n",
    "\n",
    "\n",
    "invar_part = np.zeros(6, dtype=int)\n",
    "invar = np.identity(6)\n",
    "\n",
    "scale = 1e-8\n",
    "instatesp = np.array([row]*6)+scale*invar\n",
    "instates=np.vstack([instates, instatesp])\n"
   ]
  },
  {
   "cell_type": "code",
   "execution_count": 20,
   "metadata": {},
   "outputs": [],
   "source": [
    "times, states, var, var_ng, status = ephem_forces.integration_function(tstart, tend, tstep, geocentric, \n",
    "                                                               n_particles, instates, n_var, invar_part, invar)#, epsilon=1e-8)\n"
   ]
  },
  {
   "cell_type": "markdown",
   "metadata": {},
   "source": [
    "The plot below shows the difference the x-components of two initially nearby trajectories, as well as the x-component of a corresponding 'variational particle' with the same displacement.  The two curves are offset by a small amount.  Otherwise the difference is not visible on this scale."
   ]
  },
  {
   "cell_type": "code",
   "execution_count": 21,
   "metadata": {},
   "outputs": [
    {
     "data": {
      "text/plain": [
       "<matplotlib.legend.Legend at 0x7fde2df92e80>"
      ]
     },
     "execution_count": 21,
     "metadata": {},
     "output_type": "execute_result"
    },
    {
     "data": {
      "image/png": "[encoded data removed]",
      "text/plain": [
       "<Figure size 432x288 with 1 Axes>"
      ]
     },
     "metadata": {
      "needs_background": "light"
     },
     "output_type": "display_data"
    }
   ],
   "source": [
    "plt.plot(times-times[0], (states[:,1,:]-states[:,0,:])[:,0], label='diff')\n",
    "plt.plot(times-times[0], var[:,0,0]*scale+1e-7, label='vari')\n",
    "plt.legend()\n"
   ]
  },
  {
   "cell_type": "markdown",
   "metadata": {},
   "source": [
    "We can see the difference between the two approaches more by subtracting one from the other.  They are, indeed, very close.  The difference is due to the nonlinear terms that are not included in the variational equations.   The amplitude of difference is quadratic in time.  This is expect as the variational equations are valide to first order in the initial displacement."
   ]
  },
  {
   "cell_type": "code",
   "execution_count": 22,
   "metadata": {},
   "outputs": [
    {
     "data": {
      "text/plain": [
       "[<matplotlib.lines.Line2D at 0x7fde2e86a250>]"
      ]
     },
     "execution_count": 22,
     "metadata": {},
     "output_type": "execute_result"
    },
    {
     "data": {
      "image/png": "[encoded data removed]",
      "text/plain": [
       "<Figure size 432x288 with 1 Axes>"
      ]
     },
     "metadata": {
      "needs_background": "light"
     },
     "output_type": "display_data"
    }
   ],
   "source": [
    "plt.plot(times-times[0], (states[:,1,:]-states[:,0,:]-var[:,0,:]*scale)[:,0], label='x')\n"
   ]
  },
  {
   "cell_type": "markdown",
   "metadata": {},
   "source": [
    "The plot below shows the results for the x, y, and z components."
   ]
  },
  {
   "cell_type": "code",
   "execution_count": 23,
   "metadata": {},
   "outputs": [
    {
     "data": {
      "text/plain": [
       "<matplotlib.legend.Legend at 0x7fde2e9c87c0>"
      ]
     },
     "execution_count": 23,
     "metadata": {},
     "output_type": "execute_result"
    },
    {
     "data": {
      "image/png": "[encoded data removed]",
      "text/plain": [
       "<Figure size 432x288 with 1 Axes>"
      ]
     },
     "metadata": {
      "needs_background": "light"
     },
     "output_type": "display_data"
    }
   ],
   "source": [
    "plt.plot(times-times[0], (states[:,1,:]-states[:,0,:]-var[:,0,:]*scale)[:,0], label='x')\n",
    "plt.plot(times-times[0], (states[:,2,:]-states[:,0,:]-var[:,1,:]*scale)[:,1], label='y')\n",
    "plt.plot(times-times[0], (states[:,3,:]-states[:,0,:]-var[:,2,:]*scale)[:,2], label='z')\n",
    "#plt.ylim(-1e-13, 1e-13)\n",
    "plt.xlabel(\"time (days)\")\n",
    "plt.ylabel(\"AU\")\n",
    "plt.legend()"
   ]
  },
  {
   "cell_type": "markdown",
   "metadata": {},
   "source": [
    "### Chebyshev polynomials\n",
    "\n",
    "Each combination of initial conditions and associated parameters represents a trajectory over some time span, finite or infinite.  For the purposes of fitting an orbit to observations, it is necessary to determine the position, and possibly velocity, at the light-time corrected times of the observations.  Thus, it is often necessary to be able to determine the dynamical state at arbitrary times along the trajectory.  Rather than repeated integrating to a set of observation times, it can be more efficient to integrate once to a series of reference times and then interpolate the results for other times.\n",
    "\n",
    "Note that for each overall step taken by the integrator, a number of substeps are included in the output.  I have explored a couple of options for this.  One is output at each of the Gauss-Radau integration substeps.  Another is output at the conventional Chebyshev nodes, as well as the end points.  Both sets of output make interpolation relatively easy, but the latter appears to have better performance.  The goal is to ensure that the error associated with the interpolation is smaller than the error of the integration itself, which is machine precision for IAS15.\n",
    "\n"
   ]
  },
  {
   "cell_type": "code",
   "execution_count": 24,
   "metadata": {},
   "outputs": [],
   "source": [
    "instates = np.array([row])\n",
    "n_particles = 1\n",
    "\n",
    "tstart, tstep, trange = 2458849.5, 20.0, 10000\n",
    "\n",
    "epoch = tstart\n",
    "tend = tstart + trange\n",
    "\n",
    "timesp, statesp, varp, varp_ng, statusp = ephem_forces.production_integration_function_wrapper(tstart, tend, epoch, instates)\n"
   ]
  },
  {
   "cell_type": "code",
   "execution_count": 25,
   "metadata": {},
   "outputs": [
    {
     "data": {
      "text/plain": [
       "(3865, 1, 6)"
      ]
     },
     "execution_count": 25,
     "metadata": {},
     "output_type": "execute_result"
    }
   ],
   "source": [
    "statesp.shape"
   ]
  },
  {
   "cell_type": "code",
   "execution_count": 26,
   "metadata": {},
   "outputs": [],
   "source": [
    "import numpy.polynomial.chebyshev as ch"
   ]
  },
  {
   "cell_type": "markdown",
   "metadata": {},
   "source": [
    "\n",
    "\n",
    "Let's set aside for now the idea of using the invere vandermonde matrix and just concentrate on least squares fitting of chebyshev polynomials."
   ]
  },
  {
   "cell_type": "code",
   "execution_count": 27,
   "metadata": {},
   "outputs": [
    {
     "data": {
      "text/plain": [
       "array([-9.74927912e-01, -7.81831482e-01, -4.33883739e-01,  6.12323400e-17,\n",
       "        4.33883739e-01,  7.81831482e-01,  9.74927912e-01])"
      ]
     },
     "execution_count": 27,
     "metadata": {},
     "output_type": "execute_result"
    }
   ],
   "source": [
    "pts = np.polynomial.chebyshev.chebpts1(7)\n",
    "pts"
   ]
  },
  {
   "cell_type": "code",
   "execution_count": 28,
   "metadata": {},
   "outputs": [],
   "source": [
    "V = ch.chebvander(pts, 6 )\n",
    "\n",
    "Vinv = np.linalg.inv(V)"
   ]
  },
  {
   "cell_type": "code",
   "execution_count": 29,
   "metadata": {},
   "outputs": [],
   "source": [
    "y = statesp[1:8,:,2]"
   ]
  },
  {
   "cell_type": "code",
   "execution_count": 30,
   "metadata": {},
   "outputs": [],
   "source": [
    "f0 = np.dot(Vinv, y)"
   ]
  },
  {
   "cell_type": "code",
   "execution_count": 31,
   "metadata": {},
   "outputs": [
    {
     "data": {
      "text/plain": [
       "array([-1.   , -0.999, -0.998, ...,  0.997,  0.998,  0.999])"
      ]
     },
     "execution_count": 31,
     "metadata": {},
     "output_type": "execute_result"
    }
   ],
   "source": [
    "x = np.arange(-1, 1, 0.001)\n",
    "x"
   ]
  },
  {
   "cell_type": "code",
   "execution_count": 32,
   "metadata": {},
   "outputs": [],
   "source": [
    "y0 = ch.chebval(x, f0)"
   ]
  },
  {
   "cell_type": "code",
   "execution_count": 33,
   "metadata": {},
   "outputs": [
    {
     "data": {
      "text/plain": [
       "[<matplotlib.lines.Line2D at 0x7fde2ec7a0d0>]"
      ]
     },
     "execution_count": 33,
     "metadata": {},
     "output_type": "execute_result"
    },
    {
     "data": {
      "image/png": "[encoded data removed]",
      "text/plain": [
       "<Figure size 432x288 with 1 Axes>"
      ]
     },
     "metadata": {
      "needs_background": "light"
     },
     "output_type": "display_data"
    }
   ],
   "source": [
    "plt.plot(x, y0[0]-y[0])\n",
    "#plt.ylim(-1e-15, 1e-15)"
   ]
  },
  {
   "cell_type": "code",
   "execution_count": 34,
   "metadata": {},
   "outputs": [
    {
     "data": {
      "text/plain": [
       "(array([[-0.50385907, -0.50382927, -0.50379947, ..., -0.4436824 ,\n",
       "         -0.44365195, -0.4436215 ]]),\n",
       " array([[-0.5031118 ],\n",
       "        [-0.49734934],\n",
       "        [-0.48693353],\n",
       "        [-0.47388837],\n",
       "        [-0.46078172],\n",
       "        [-0.45022774],\n",
       "        [-0.44435448]]))"
      ]
     },
     "execution_count": 34,
     "metadata": {},
     "output_type": "execute_result"
    }
   ],
   "source": [
    "y0, y"
   ]
  },
  {
   "cell_type": "markdown",
   "metadata": {},
   "source": [
    "* integrate the trajectory over a time span. DONE\n",
    "* get the observatory positions for a series of observations (these should be barycentric J2000 equatorial).\n",
    "* fit the segments and save the results. DONE\n",
    "* evaluate the trajectory at various times. DONE\n",
    "* do light-time correction iteration from a specific observatory location at a specific time. DONE\n",
    "* compare the model results to the observed results. DONE\n",
    "* get the partial derivatives of the observables with respect to the parameters\n"
   ]
  },
  {
   "cell_type": "code",
   "execution_count": 35,
   "metadata": {},
   "outputs": [
    {
     "data": {
      "text/plain": [
       "15.0"
      ]
     },
     "execution_count": 35,
     "metadata": {},
     "output_type": "execute_result"
    }
   ],
   "source": [
    "1e-7*1.5e8"
   ]
  },
  {
   "cell_type": "code",
   "execution_count": 36,
   "metadata": {},
   "outputs": [],
   "source": [
    "# include geocentric option\n",
    "def get_observation_data(line, geocentric=False):\n",
    "    \n",
    "    fields = line.split()\n",
    "    trackletID = fields[0].strip()\n",
    "    obsCode = fields[4].strip()\n",
    "    jd_tdb = float(fields[7])\n",
    "        \n",
    "    x_target, y_target, z_target = fields[8:11]\n",
    "    r_target = np.array([float(x_target), float(y_target), float(z_target)])\n",
    "\n",
    "    x_obs, y_obs, z_obs = fields[11:14]\n",
    "    r_obs = np.array([float(x_obs), float(y_obs), float(z_obs)])\n",
    "    if geocentric:\n",
    "        r_E = np.array(MPC_library.getEarthPosition(jd_tdb))\n",
    "        #r_E = np.array(ephem_forces.all_ephem(3, jd_tdb)[1:4])\n",
    "        r_obs -= r_E\n",
    "        print(jd_tdb, r_obs, obsCode)\n",
    "    \n",
    "    return jd_tdb, r_target, r_obs"
   ]
  },
  {
   "cell_type": "code",
   "execution_count": 37,
   "metadata": {},
   "outputs": [],
   "source": [
    "def get_basis(v):\n",
    "    x, y, z = v\n",
    "    r = np.sqrt(x*x + y*y)\n",
    "    if r==0.0:\n",
    "        A = np.array((-1, 0.0, 0.0))\n",
    "    else:\n",
    "        A = np.array((-y/r, x/r, 0.0))\n",
    "    \n",
    "    D = np.cross(v, A)\n",
    "    \n",
    "    return A, D\n",
    "    \n",
    "    "
   ]
  },
  {
   "cell_type": "code",
   "execution_count": 38,
   "metadata": {},
   "outputs": [],
   "source": [
    "v = np.array((0, 1, 0))\n",
    "A, D = get_basis(v)"
   ]
  },
  {
   "cell_type": "code",
   "execution_count": 39,
   "metadata": {},
   "outputs": [
    {
     "data": {
      "text/plain": [
       "(array([-1.,  0.,  0.]), array([ 0., -0.,  1.]))"
      ]
     },
     "execution_count": 39,
     "metadata": {},
     "output_type": "execute_result"
    }
   ],
   "source": [
    "A, D"
   ]
  },
  {
   "cell_type": "code",
   "execution_count": 40,
   "metadata": {},
   "outputs": [
    {
     "data": {
      "text/plain": [
       "8.1"
      ]
     },
     "execution_count": 40,
     "metadata": {},
     "output_type": "execute_result"
    }
   ],
   "source": [
    "(36*8 + 36)/40"
   ]
  },
  {
   "cell_type": "code",
   "execution_count": 41,
   "metadata": {},
   "outputs": [],
   "source": [
    "def get_residuals(v1, v2):\n",
    "    # This can be streamlined\n",
    "    # The A and D matrices and be\n",
    "    # saved for each data point\n",
    "    x, y, z = v1\n",
    "    #r = np.sqrt(x*x + y*y)\n",
    "    delta = np.arcsin(z)\n",
    "    alpha = np.arctan2(y, x)\n",
    "    sina = np.sin(alpha)\n",
    "    #sina = y/r\n",
    "    cosa = np.cos(alpha)\n",
    "    #cosa = x/r\n",
    "    sind = np.sin(delta)\n",
    "    #sind = z\n",
    "    cosd = np.cos(delta)\n",
    "    A = np.array((-sina, cosa, 0.0))\n",
    "    D = np.array((-sind*cosa, -sind*sina, cosd))\n",
    "    return (np.dot(v2, A), np.dot(v2, D))"
   ]
  },
  {
   "cell_type": "code",
   "execution_count": 42,
   "metadata": {},
   "outputs": [],
   "source": [
    "def save_trajectory(times, states):\n",
    "    fits = []\n",
    "    time_tags = []\n",
    "    for i in range(0, len(times)-1, 8):\n",
    "        data = np.reshape(states[i:i+9,:,0:3], (9, 3))\n",
    "        x = times[i:i+9]-times[i+4]\n",
    "        t0 = times[i+4]\n",
    "        dt = x[-1]-x[0]\n",
    "        f = ch.chebfit(2*x/dt, data, 7)\n",
    "        fits.append((t0, dt, f))\n",
    "        time_tags.append(times[i])\n",
    "    time_tags = np.array(time_tags)\n",
    "    return time_tags, fits"
   ]
  },
  {
   "cell_type": "code",
   "execution_count": 43,
   "metadata": {},
   "outputs": [],
   "source": [
    "# DE441\n",
    "# (3666) Holman\n",
    "#2458849.500000000 = A.D. 2020-Jan-01 00:00:00.0000 TDB [del_T=     69.183900 s]\n",
    "# X = 3.338875349745594E+00 Y =-9.176518281675284E-01 Z =-5.038590682977396E-01\n",
    "# VX= 2.805663319000732E-03 VY= 7.550408687780768E-03 VZ= 2.980028206579994E-03\n",
    "row = [3.338875349745594E+00, -9.176518281675284E-01, -5.038590682977396E-01, 2.805663319000732E-03, 7.550408687780768E-03, 2.980028206579994E-03]\n"
   ]
  },
  {
   "cell_type": "code",
   "execution_count": 44,
   "metadata": {},
   "outputs": [],
   "source": [
    "tstart = 2458895.017041\n",
    "\n",
    "       \n",
    "#       2458895.017041000 = A.D. 2020-Feb-15 12:24:32.3424 TDB [del_T=     69.185127 s]\n",
    "# X =-8.249088716487324E-01 Y = 5.128233312454121E-01 Z = 2.229322025922279E-01\n",
    "# VX=-1.055227553661174E-02 VY=-1.358415461735038E-02 VZ=-5.295679016887025E-03\n",
    "row = [-8.249088716487324E-01, 5.128233312454121E-01, 2.229322025922279E-01,\n",
    "        -1.055227553661174E-02, -1.358415461735038E-02, -5.295679016887025E-03]\n",
    "\n",
    "#2458894.500000000 = A.D. 2020-Feb-15 00:00:00.0000 TDB [del_T=     69.185116 s]\n",
    "# X =-8.193874027610940E-01 Y = 5.198340919082048E-01 Z = 2.256562195597833E-01\n",
    "# VX=-1.081684176011098E-02 VY=-1.353532640193796E-02 VZ=-5.241845834560792E-03\n",
    "\n",
    "#2458894.500000000 = A.D. 2020-Feb-15 00:00:00.0000 TDB [del_T=     69.185116 s]\n",
    "row = [-8.193874027610940E-01, 5.198340919082048E-01, 2.256562195597833E-01,\n",
    "       -1.081684176011098E-02, -1.353532640193796E-02, -5.241845834560792E-03]\n",
    "\n",
    "#2458897.500000000 = A.D. 2020-Feb-18 00:00:00.0000 TDB [del_T=     69.185180 s]\n",
    "# X =-8.499386338554212E-01 Y = 4.787625651895777E-01 Z = 2.094777670024411E-01\n",
    "# VX=-9.661210198068209E-03 VY=-1.385885178755969E-02 VZ=-5.532765642013616E-03\n",
    "row = [-8.499386338554212E-01, 4.787625651895777E-01, 2.094777670024411E-01, \n",
    "    -9.661210198068209E-03, -1.385885178755969E-02, -5.532765642013616E-03]\n",
    "\n",
    "#2458897.500000000 = A.D. 2020-Feb-18 00:00:00.0000 TDB [del_T=     69.185180 s]\n",
    "# X =-3.118500479970055E-03 Y =-1.512873873465409E-03 Z = 1.239844826099388E-03\n",
    "# VX=-3.789003661569063E-04 VY=-3.369885641555601E-04 VZ= 3.279972338540866E-04\n",
    "row = [-3.118500479970055E-03, -1.512873873465409E-03, 1.239844826099388E-03, \n",
    "     -3.789003661569063E-04, -3.369885641555601E-04, 3.279972338540866E-04]"
   ]
  },
  {
   "cell_type": "code",
   "execution_count": 45,
   "metadata": {},
   "outputs": [],
   "source": [
    "instates = np.array([row])\n",
    "\n",
    "n_particles = 1\n",
    "\n",
    "tstart, tstep, trange = 2458849.5, 2.0, 2000\n",
    "tstart, tstep, tend = 2458894.500000000, 2, 2458932.50\n",
    "\n",
    "epoch = 2458897.500000000\n",
    "#tend = tstart + trange\n",
    "\n",
    "timesp, statesp, varp, varp_ng, statusp = ephem_forces.production_integration_function_wrapper(tstart, tend, epoch, instates, tstep=2.0, geocentric=1)#, epsilon=1e-8, tstep=20)\n"
   ]
  },
  {
   "cell_type": "code",
   "execution_count": 46,
   "metadata": {},
   "outputs": [
    {
     "data": {
      "text/plain": [
       "(641, 641)"
      ]
     },
     "execution_count": 46,
     "metadata": {},
     "output_type": "execute_result"
    }
   ],
   "source": [
    "len(timesp), len(statesp)"
   ]
  },
  {
   "cell_type": "code",
   "execution_count": 47,
   "metadata": {},
   "outputs": [
    {
     "data": {
      "text/plain": [
       "(2458932.5,\n",
       " array([[-8.85562631e-03, -6.17424471e-03,  7.06569444e-03,\n",
       "         -1.28207028e-04, -1.33884324e-05,  6.54870731e-05]]),\n",
       " array([[-0.00156233, -0.0003278 ,  0.00013009, -0.00077388, -0.00047231,\n",
       "          0.00042027]]),\n",
       " 2458894.5)"
      ]
     },
     "execution_count": 47,
     "metadata": {},
     "output_type": "execute_result"
    }
   ],
   "source": [
    "timesp[-1], statesp[-1], statesp[0], timesp[0]"
   ]
  },
  {
   "cell_type": "code",
   "execution_count": 48,
   "metadata": {},
   "outputs": [],
   "source": [
    "#2458894.500000000 = A.D. 2020-Feb-15 00:00:00.0000 TDB [del_T=     69.185116 s]\n",
    "K20C03D = np.array([-1.562333877039780E-03, -3.277988442969260E-04, 1.300908692605723E-04,\n",
    "     -7.738749028274221E-04, -4.723132211708606E-04, 4.202738544505411E-04])"
   ]
  },
  {
   "cell_type": "code",
   "execution_count": 49,
   "metadata": {},
   "outputs": [],
   "source": [
    " K20C03D = np.array([-8.855745866541963E-03, -6.174222186235641E-03, 7.065718386911509E-03,\n",
    " -1.282144988613095E-04, -1.338814161041129E-05, 6.548842150422916E-05])"
   ]
  },
  {
   "cell_type": "code",
   "execution_count": 50,
   "metadata": {},
   "outputs": [
    {
     "data": {
      "text/plain": [
       "array([[-17.93352217,   3.37889265,   3.5927043 ,  -1.12066821,\n",
       "          0.04362524,   0.2022602 ]])"
      ]
     },
     "execution_count": 50,
     "metadata": {},
     "output_type": "execute_result"
    }
   ],
   "source": [
    "(K20C03D - statesp[-1])*1.5e8"
   ]
  },
  {
   "cell_type": "code",
   "execution_count": 51,
   "metadata": {},
   "outputs": [
    {
     "data": {
      "text/plain": [
       "array([[-0.0031185 , -0.00151287,  0.00123984, -0.0003789 , -0.00033699,\n",
       "         0.000328  ]])"
      ]
     },
     "execution_count": 51,
     "metadata": {},
     "output_type": "execute_result"
    }
   ],
   "source": [
    "np.array(row).reshape(1, 6)"
   ]
  },
  {
   "cell_type": "code",
   "execution_count": 52,
   "metadata": {},
   "outputs": [
    {
     "data": {
      "text/plain": [
       "0.4651851851851852"
      ]
     },
     "execution_count": 52,
     "metadata": {},
     "output_type": "execute_result"
    }
   ],
   "source": [
    "6400*2*3.14/(24*60*60)"
   ]
  },
  {
   "cell_type": "code",
   "execution_count": 53,
   "metadata": {},
   "outputs": [
    {
     "data": {
      "text/plain": [
       "2458932.5"
      ]
     },
     "execution_count": 53,
     "metadata": {},
     "output_type": "execute_result"
    }
   ],
   "source": [
    "tend"
   ]
  },
  {
   "cell_type": "code",
   "execution_count": 54,
   "metadata": {},
   "outputs": [],
   "source": [
    "obs = []\n",
    "with open('3666_eq_bary.mpc') as file:\n",
    "        line=file.readline()\n",
    "        for line in file:\n",
    "            jd_tdb, r_target, r_obs = get_observation_data(line)\n",
    "            obs.append((jd_tdb, r_target, r_obs))"
   ]
  },
  {
   "cell_type": "code",
   "execution_count": 55,
   "metadata": {},
   "outputs": [
    {
     "ename": "SyntaxError",
     "evalue": "invalid syntax (<ipython-input-55-9c4f6d2f5dbf>, line 1)",
     "output_type": "error",
     "traceback": [
      "\u001b[0;36m  File \u001b[0;32m\"<ipython-input-55-9c4f6d2f5dbf>\"\u001b[0;36m, line \u001b[0;32m1\u001b[0m\n\u001b[0;31m    2458895.017041000 = A.D. 2020-Feb-15 12:24:32.3424 TDB [del_T=     69.185127 s]\u001b[0m\n\u001b[0m                             ^\u001b[0m\n\u001b[0;31mSyntaxError\u001b[0m\u001b[0;31m:\u001b[0m invalid syntax\n"
     ]
    }
   ],
   "source": [
    "2458895.017041000 = A.D. 2020-Feb-15 12:24:32.3424 TDB [del_T=     69.185127 s]\n",
    " X =-8.229843715810257E-01 Y = 5.133866216380784E-01 Z = 2.225894275786583E-01\n",
    " VX=-9.913923474824957E-03 VY=-1.314467346840790E-02 VZ=-5.697451462034082E-03"
   ]
  },
  {
   "cell_type": "code",
   "execution_count": 56,
   "metadata": {},
   "outputs": [
    {
     "data": {
      "text/plain": [
       "-105.23715385790666"
      ]
     },
     "execution_count": 56,
     "metadata": {},
     "output_type": "execute_result"
    }
   ],
   "source": [
    "(-8.229843715810257E-01 - -0.82298367)*1.5e8"
   ]
  },
  {
   "cell_type": "code",
   "execution_count": 57,
   "metadata": {},
   "outputs": [
    {
     "ename": "SyntaxError",
     "evalue": "invalid syntax (<ipython-input-57-8b9777f79140>, line 1)",
     "output_type": "error",
     "traceback": [
      "\u001b[0;36m  File \u001b[0;32m\"<ipython-input-57-8b9777f79140>\"\u001b[0;36m, line \u001b[0;32m1\u001b[0m\n\u001b[0;31m    2458895.017040800 = A.D. 2020-Feb-15 12:24:32.3251 TDB [del_T=     69.185129 s]\u001b[0m\n\u001b[0m                             ^\u001b[0m\n\u001b[0;31mSyntaxError\u001b[0m\u001b[0;31m:\u001b[0m invalid syntax\n"
     ]
    }
   ],
   "source": [
    "2458895.017040800 = A.D. 2020-Feb-15 12:24:32.3251 TDB [del_T=     69.185129 s]\n",
    " X = 2.764507164403535E-05 Y = 2.305643106867868E-05 Z =-2.280392275599578E-05\n",
    " VX=-1.452631451039335E-04 VY= 1.744508044393150E-04 VZ= 2.807803667368201E-07"
   ]
  },
  {
   "cell_type": "code",
   "execution_count": 58,
   "metadata": {},
   "outputs": [
    {
     "ename": "SyntaxError",
     "evalue": "invalid syntax (<ipython-input-58-a6761cc8974e>, line 1)",
     "output_type": "error",
     "traceback": [
      "\u001b[0;36m  File \u001b[0;32m\"<ipython-input-58-a6761cc8974e>\"\u001b[0;36m, line \u001b[0;32m1\u001b[0m\n\u001b[0;31m    2458895.017041000 = A.D. 2020-Feb-15 12:24:32.3424 TDB [del_T=     69.185129 s]\u001b[0m\n\u001b[0m                             ^\u001b[0m\n\u001b[0;31mSyntaxError\u001b[0m\u001b[0;31m:\u001b[0m invalid syntax\n"
     ]
    }
   ],
   "source": [
    "2458895.017041000 = A.D. 2020-Feb-15 12:24:32.3424 TDB [del_T=     69.185129 s]\n",
    " X = 2.764504255720905E-05 Y = 2.305646599986323E-05 Z =-2.280392269977366E-05\n",
    " VX=-1.452633651835234E-04 VY= 1.744506211807041E-04 VZ= 2.807807889159410E-07"
   ]
  },
  {
   "cell_type": "code",
   "execution_count": 59,
   "metadata": {},
   "outputs": [
    {
     "data": {
      "text/plain": [
       "(0.0872166053027124, 0.40454997948432947, 0.1735650339510986)"
      ]
     },
     "execution_count": 59,
     "metadata": {},
     "output_type": "execute_result"
    }
   ],
   "source": [
    "(2.764507164403535E-05 - 2.76444902e-05)*1.5e8, (2.305646599986323E-05-2.30537690e-05)*1.5e8, (-2.280392269977366E-05- -2.28050798e-05)*1.5e8"
   ]
  },
  {
   "cell_type": "code",
   "execution_count": 60,
   "metadata": {},
   "outputs": [
    {
     "data": {
      "text/plain": [
       "0.30049011446409984"
      ]
     },
     "execution_count": 60,
     "metadata": {},
     "output_type": "execute_result"
    }
   ],
   "source": [
    "(0.4*1.4/384400 )*206265"
   ]
  },
  {
   "cell_type": "code",
   "execution_count": 61,
   "metadata": {},
   "outputs": [
    {
     "ename": "SyntaxError",
     "evalue": "invalid syntax (<ipython-input-61-172545bad3a3>, line 1)",
     "output_type": "error",
     "traceback": [
      "\u001b[0;36m  File \u001b[0;32m\"<ipython-input-61-172545bad3a3>\"\u001b[0;36m, line \u001b[0;32m1\u001b[0m\n\u001b[0;31m    2458895.496318000 = A.D. 2020-Feb-15 23:54:41.8752 TDB [del_T=     69.185137 s]\u001b[0m\n\u001b[0m                             ^\u001b[0m\n\u001b[0;31mSyntaxError\u001b[0m\u001b[0;31m:\u001b[0m invalid syntax\n"
     ]
    }
   ],
   "source": [
    "\n",
    "2458895.496318000 = A.D. 2020-Feb-15 23:54:41.8752 TDB [del_T=     69.185137 s]\n",
    " X = 2.766814748701722E-05 Y =-1.157852792138350E-05 Z =-3.020367669904454E-05\n",
    " VX= 7.295045605972016E-05 VY= 1.746859269841296E-04 VZ=-1.391190084195478E-07    "
   ]
  },
  {
   "cell_type": "code",
   "execution_count": 62,
   "metadata": {},
   "outputs": [
    {
     "data": {
      "text/plain": [
       "0.34699305258296115"
      ]
     },
     "execution_count": 62,
     "metadata": {},
     "output_type": "execute_result"
    }
   ],
   "source": [
    "(-2.76658342e-05 - -2.766814748701722E-05)*1.5e8"
   ]
  },
  {
   "cell_type": "code",
   "execution_count": 63,
   "metadata": {},
   "outputs": [
    {
     "name": "stdout",
     "output_type": "stream",
     "text": [
      "2458895.0170408 [-2.76444902e-05 -2.30559710e-05  2.28041090e-05] G96\n",
      "2458895.0221308 [-2.68909828e-05 -2.39319185e-05  2.28026565e-05] G96\n",
      "2458895.0462708 [-2.29541695e-05 -2.77364910e-05  2.27950529e-05] G96\n",
      "2458895.0464408 [-2.29244571e-05 -2.77611100e-05  2.27949900e-05] G96\n",
      "2458895.0466208 [-2.28929507e-05 -2.77871364e-05  2.27949314e-05] G96\n",
      "2458895.0467908 [-2.28631778e-05 -2.78116921e-05  2.27948699e-05] G96\n",
      "2458895.4963178 [-2.76677506e-05  1.15789978e-05  3.02039700e-05] L01\n",
      "2458895.4982078 [-2.78036559e-05  1.12480298e-05  3.02042282e-05] L01\n",
      "2458895.5006318 [-2.79721711e-05  1.08212155e-05  3.02045453e-05] L01\n",
      "2458895.5048138 [-2.82475187e-05  1.00789930e-05  3.02050716e-05] L01\n",
      "2458895.5064398 [-2.83492820e-05  9.78849256e-06  3.02052664e-05] L01\n",
      "2458895.8647508 [-3.49370502e-05  9.38342973e-06  2.25138061e-05] 291\n",
      "2458895.8673308 [-3.50849449e-05  8.81360044e-06  2.25140792e-05] 291\n",
      "2458895.8699608 [-3.52261427e-05  8.23034186e-06  2.25143446e-05] 291\n",
      "2458895.9387108 [-3.51340479e-05 -7.79422996e-06  2.28185175e-05] I52\n",
      "2458895.9406408 [-3.50366604e-05 -8.22140000e-06  2.28183198e-05] I52\n",
      "2458895.9425708 [-3.49341013e-05 -8.64736543e-06  2.28181265e-05] I52\n",
      "2458895.9445008 [-3.48263615e-05 -9.07204389e-06  2.28179130e-05] I52\n",
      "2458896.5413348 [-2.98534739e-05  2.84345561e-06  3.02081170e-05] L01\n",
      "2458896.5474228 [-2.99404940e-05  1.69431942e-06  3.02082795e-05] L01\n",
      "2458896.5518698 [-2.54075988e-05  7.70188300e-06  3.32499897e-05] J95\n",
      "2458896.5550978 [-2.99873084e-05  2.42291950e-07  3.02083605e-05] L01\n",
      "2458896.5708778 [-2.61452746e-05  4.60354147e-06  3.32513919e-05] J95\n",
      "2458896.5857428 [-2.64608904e-05  2.13228982e-06  3.32519788e-05] J95\n",
      "2458896.6015268 [-2.65415029e-05 -5.11716619e-07  3.32521146e-05] J95\n",
      "2458897.0088008 [-2.80439696e-05 -2.25676044e-05  2.28048992e-05] G96\n",
      "2458897.0108308 [-2.77530394e-05 -2.29249914e-05  2.28043375e-05] G96\n",
      "2458897.0128608 [-2.74575672e-05 -2.32786252e-05  2.28037615e-05] G96\n",
      "2458897.0148908 [-2.71575931e-05 -2.36284557e-05  2.28031911e-05] G96\n",
      "2458897.4808518 [-2.49893534e-05  2.30049805e-05  2.57076011e-05] Z84\n",
      "2458897.4990538 [-2.74572555e-05  1.99886697e-05  2.57123331e-05] Z84\n",
      "2458897.5172578 [-2.95640061e-05  1.67094134e-05  2.57163663e-05] Z84\n",
      "2458897.9154508 [-3.57852729e-05 -3.80865988e-06  2.28199528e-05] G96\n",
      "2458897.9160308 [-3.57711122e-05 -3.93955760e-06  2.28199252e-05] G96\n",
      "2458897.9166108 [-3.57564746e-05 -4.07041022e-06  2.28198916e-05] G96\n",
      "2458897.9171908 [-3.57413685e-05 -4.20121039e-06  2.28198663e-05] G96\n",
      "2458898.8024708 [-2.99217365e-05  2.00080710e-05  2.28088519e-05] G96\n",
      "2458898.8047208 [-3.02023434e-05  1.95812787e-05  2.28093853e-05] G96\n",
      "2458898.8069808 [-3.04780747e-05  1.91486319e-05  2.28099119e-05] G96\n",
      "2458899.9196108 [-3.54887425e-05 -5.97208412e-06  2.28194010e-05] G96\n",
      "2458899.9203608 [-3.54601254e-05 -6.13992886e-06  2.28193449e-05] G96\n",
      "2458899.9211208 [-3.54303095e-05 -6.30985476e-06  2.28192883e-05] G96\n",
      "2458899.9218708 [-3.54000989e-05 -6.47741885e-06  2.28192219e-05] G96\n",
      "2458900.5967018 [-3.39275556e-05 -1.30606172e-06  2.57246814e-05] Z84\n",
      "2458900.6212928 [-3.33189599e-05 -6.53359454e-06  2.57234725e-05] Z84\n",
      "2458900.6470688 [-3.18234368e-05 -1.18428901e-05  2.57205488e-05] Z84\n",
      "2458900.6730688 [-2.94653638e-05 -1.68821972e-05  2.57159808e-05] Z84\n",
      "2458900.6973818 [-2.65437639e-05 -2.11880295e-05  2.57103216e-05] Z84\n",
      "2458900.7924408 [-2.91851222e-05  2.13857046e-05  2.25038048e-05] V00\n",
      "2458900.7933108 [-2.93018978e-05  2.12251681e-05  2.25040307e-05] V00\n",
      "2458900.7950608 [-2.95341258e-05  2.09003371e-05  2.25044724e-05] V00\n",
      "2458907.1431308 [-2.44427403e-05 -3.18305199e-05  1.44253432e-05] T14\n",
      "2458907.1445428 [-2.41586075e-05 -3.20469667e-05  1.44247909e-05] T14\n",
      "2458907.1459568 [-2.38721368e-05 -3.22611595e-05  1.44242381e-05] T14\n",
      "2458909.9783108 [-2.68472569e-05 -2.25292105e-05  2.42225441e-05] G37\n",
      "2458909.9800108 [-2.66044064e-05 -2.28159661e-05  2.42220755e-05] G37\n",
      "2458909.9810508 [-2.64543389e-05 -2.29901029e-05  2.42217836e-05] G37\n"
     ]
    }
   ],
   "source": [
    "obs = []\n",
    "with open('K20C03D_eq_bary.mpc') as file:\n",
    "        line=file.readline()\n",
    "        for line in file:\n",
    "            jd_tdb, r_target, r_obs = get_observation_data(line, geocentric=True)\n",
    "            obs.append((jd_tdb, r_target, r_obs))"
   ]
  },
  {
   "cell_type": "code",
   "execution_count": 64,
   "metadata": {},
   "outputs": [
    {
     "data": {
      "text/plain": [
       "[(2458895.0170408,\n",
       "  array([-0.94935137, -0.27031939,  0.16018556]),\n",
       "  array([-2.76444902e-05, -2.30559710e-05,  2.28041090e-05])),\n",
       " (2458895.0221308,\n",
       "  array([-0.94921955, -0.27038932,  0.16084736]),\n",
       "  array([-2.68909828e-05, -2.39319185e-05,  2.28026565e-05])),\n",
       " (2458895.0462708,\n",
       "  array([-0.94856664, -0.27084333,  0.16390612]),\n",
       "  array([-2.29541695e-05, -2.77364910e-05,  2.27950529e-05])),\n",
       " (2458895.0464408,\n",
       "  array([-0.94856116, -0.27084923,  0.16392812]),\n",
       "  array([-2.29244571e-05, -2.77611100e-05,  2.27949900e-05])),\n",
       " (2458895.0466208,\n",
       "  array([-0.948556  , -0.27085223,  0.16395299]),\n",
       "  array([-2.28929507e-05, -2.77871364e-05,  2.27949314e-05])),\n",
       " (2458895.0467908,\n",
       "  array([-0.94855134, -0.27085612,  0.16397355]),\n",
       "  array([-2.28631778e-05, -2.78116921e-05,  2.27948699e-05])),\n",
       " (2458895.4963178,\n",
       "  array([-0.92050753, -0.32863889,  0.21133475]),\n",
       "  array([-2.76677506e-05,  1.15789978e-05,  3.02039700e-05])),\n",
       " (2458895.4982078,\n",
       "  array([-0.92044852, -0.32867216,  0.21153993]),\n",
       "  array([-2.78036559e-05,  1.12480298e-05,  3.02042282e-05])),\n",
       " (2458895.5006318,\n",
       "  array([-0.92037432, -0.32871057,  0.2118029 ]),\n",
       "  array([-2.79721711e-05,  1.08212155e-05,  3.02045453e-05])),\n",
       " (2458895.5048138,\n",
       "  array([-0.92025005, -0.32877183,  0.21224732]),\n",
       "  array([-2.82475187e-05,  1.00789930e-05,  3.02050716e-05])),\n",
       " (2458895.5064398,\n",
       "  array([-0.92020103, -0.32879582,  0.21242261]),\n",
       "  array([-2.83492820e-05,  9.78849256e-06,  3.02052664e-05])),\n",
       " (2458895.8647508,\n",
       "  array([-0.90268189, -0.35258014,  0.2466833 ]),\n",
       "  array([-3.49370502e-05,  9.38342973e-06,  2.25138061e-05])),\n",
       " (2458895.8673308,\n",
       "  array([-0.90262802, -0.35255758,  0.24691257]),\n",
       "  array([-3.50849449e-05,  8.81360044e-06,  2.25140792e-05])),\n",
       " (2458895.8699608,\n",
       "  array([-0.90257453, -0.3525329 ,  0.24714324]),\n",
       "  array([-3.52261427e-05,  8.23034186e-06,  2.25143446e-05])),\n",
       " (2458895.9387108,\n",
       "  array([-0.90154974, -0.35120125,  0.25271674]),\n",
       "  array([-3.51340479e-05, -7.79422996e-06,  2.28185175e-05])),\n",
       " (2458895.9406408,\n",
       "  array([-0.90152426, -0.35115961,  0.25286544]),\n",
       "  array([-3.50366604e-05, -8.22140000e-06,  2.28183198e-05])),\n",
       " (2458895.9425708,\n",
       "  array([-0.90149894, -0.35111955,  0.25301131]),\n",
       "  array([-3.49341013e-05, -8.64736543e-06,  2.28181265e-05])),\n",
       " (2458895.9445008,\n",
       "  array([-0.90147399, -0.35107812,  0.25315765]),\n",
       "  array([-3.48263615e-05, -9.07204389e-06,  2.28179130e-05])),\n",
       " (2458896.5413348,\n",
       "  array([-0.87759484, -0.3833426 ,  0.2878815 ]),\n",
       "  array([-2.98534739e-05,  2.84345561e-06,  3.02081170e-05])),\n",
       " (2458896.5474228,\n",
       "  array([-0.87749718, -0.38327866,  0.28826405]),\n",
       "  array([-2.99404940e-05,  1.69431942e-06,  3.02082795e-05])),\n",
       " (2458896.5518698,\n",
       "  array([-0.87726825, -0.38473627,  0.28701641]),\n",
       "  array([-2.54075988e-05,  7.70188300e-06,  3.32499897e-05])),\n",
       " (2458896.5550978,\n",
       "  array([-0.87737496, -0.38319717,  0.28874403]),\n",
       "  array([-2.99873084e-05,  2.42291950e-07,  3.02083605e-05])),\n",
       " (2458896.5708778,\n",
       "  array([-0.8768701 , -0.38473654,  0.28823016]),\n",
       "  array([-2.61452746e-05,  4.60354147e-06,  3.32513919e-05])),\n",
       " (2458896.5857428,\n",
       "  array([-0.87658434, -0.38469251,  0.28915664]),\n",
       "  array([-2.64608904e-05,  2.13228982e-06,  3.32519788e-05])),\n",
       " (2458896.6015268,\n",
       "  array([-0.87630294, -0.38461461,  0.29011162]),\n",
       "  array([-2.65415029e-05, -5.11716619e-07,  3.32521146e-05])),\n",
       " (2458897.0088008,\n",
       "  array([-0.86385181, -0.3938446 ,  0.31408037]),\n",
       "  array([-2.80439696e-05, -2.25676044e-05,  2.28048992e-05])),\n",
       " (2458897.0108308,\n",
       "  array([-0.8638443 , -0.39379792,  0.31415954]),\n",
       "  array([-2.77530394e-05, -2.29249914e-05,  2.28043375e-05])),\n",
       " (2458897.0128608,\n",
       "  array([-0.86383654, -0.3937481 ,  0.31424331]),\n",
       "  array([-2.74575672e-05, -2.32786252e-05,  2.28037615e-05])),\n",
       " (2458897.0148908,\n",
       "  array([-0.86383044, -0.39369904,  0.31432155]),\n",
       "  array([-2.71575931e-05, -2.36284557e-05,  2.28031911e-05])),\n",
       " (2458897.4808518,\n",
       "  array([-0.84553785, -0.41895714,  0.33096927]),\n",
       "  array([-2.49893534e-05,  2.30049805e-05,  2.57076011e-05])),\n",
       " (2458897.4990538,\n",
       "  array([-0.84512445, -0.41900517,  0.33196284]),\n",
       "  array([-2.74572555e-05,  1.99886697e-05,  2.57123331e-05])),\n",
       " (2458897.5172578,\n",
       "  array([-0.84476497, -0.41895775,  0.33293626]),\n",
       "  array([-2.95640061e-05,  1.67094134e-05,  2.57163663e-05])),\n",
       " (2458897.9154508,\n",
       "  array([-0.83523941, -0.42500054,  0.34892646]),\n",
       "  array([-3.57852729e-05, -3.80865988e-06,  2.28199528e-05])),\n",
       " (2458897.9160308,\n",
       "  array([-0.83523713, -0.42498562,  0.34895009]),\n",
       "  array([-3.57711122e-05, -3.93955760e-06,  2.28199252e-05])),\n",
       " (2458897.9166108,\n",
       "  array([-0.83523604, -0.42497283,  0.34896826]),\n",
       "  array([-3.57564746e-05, -4.07041022e-06,  2.28198916e-05])),\n",
       " (2458897.9171908,\n",
       "  array([-0.83523379, -0.42495563,  0.34899461]),\n",
       "  array([-3.57413685e-05, -4.20121039e-06,  2.28198663e-05])),\n",
       " (2458898.8024708,\n",
       "  array([-0.81272514, -0.44717047,  0.37351897]),\n",
       "  array([-2.99217365e-05,  2.00080710e-05,  2.28088519e-05])),\n",
       " (2458898.8047208,\n",
       "  array([-0.81269143, -0.44715885,  0.37360621]),\n",
       "  array([-3.02023434e-05,  1.95812787e-05,  2.28093853e-05])),\n",
       " (2458898.8069808,\n",
       "  array([-0.81265568, -0.44714303,  0.3737029 ]),\n",
       "  array([-3.04780747e-05,  1.91486319e-05,  2.28099119e-05])),\n",
       " (2458899.9196108,\n",
       "  array([-0.79260983, -0.45989274,  0.40033526]),\n",
       "  array([-3.54887425e-05, -5.97208412e-06,  2.28194010e-05])),\n",
       " (2458899.9203608,\n",
       "  array([-0.79261114, -0.45987578,  0.40035214]),\n",
       "  array([-3.54601254e-05, -6.13992886e-06,  2.28193449e-05])),\n",
       " (2458899.9211208,\n",
       "  array([-0.79261195, -0.45985699,  0.40037213]),\n",
       "  array([-3.54303095e-05, -6.30985476e-06,  2.28192883e-05])),\n",
       " (2458899.9218708,\n",
       "  array([-0.79261175, -0.45983684,  0.40039568]),\n",
       "  array([-3.54000989e-05, -6.47741885e-06,  2.28192219e-05])),\n",
       " (2458900.5967018,\n",
       "  array([-0.78125286, -0.4686493 ,  0.41232488]),\n",
       "  array([-3.39275556e-05, -1.30606172e-06,  2.57246814e-05])),\n",
       " (2458900.6212928,\n",
       "  array([-0.7812784 , -0.46808821,  0.41291342]),\n",
       "  array([-3.33189599e-05, -6.53359454e-06,  2.57234725e-05])),\n",
       " (2458900.6470688,\n",
       "  array([-0.78135363, -0.46746822,  0.41347306]),\n",
       "  array([-3.18234368e-05, -1.18428901e-05,  2.57205488e-05])),\n",
       " (2458900.6730688,\n",
       "  array([-0.78147254, -0.46683151,  0.4139674 ]),\n",
       "  array([-2.94653638e-05, -1.68821972e-05,  2.57159808e-05])),\n",
       " (2458900.6973818,\n",
       "  array([-0.78160701, -0.46625044,  0.41436821]),\n",
       "  array([-2.65437639e-05, -2.11880295e-05,  2.57103216e-05])),\n",
       " (2458900.7924408,\n",
       "  array([-0.77678691, -0.47360009,  0.41509642]),\n",
       "  array([-2.91851222e-05,  2.13857046e-05,  2.25038048e-05])),\n",
       " (2458900.7933108,\n",
       "  array([-0.77677488, -0.47359586,  0.41512377]),\n",
       "  array([-2.93018978e-05,  2.12251681e-05,  2.25040307e-05])),\n",
       " (2458900.7950608,\n",
       "  array([-0.77675736, -0.47357975,  0.41517493]),\n",
       "  array([-2.95341258e-05,  2.09003371e-05,  2.25044724e-05])),\n",
       " (2458907.1431308,\n",
       "  array([-0.71526168, -0.50072404,  0.48752042]),\n",
       "  array([-2.44427403e-05, -3.18305199e-05,  1.44253432e-05])),\n",
       " (2458907.1445428,\n",
       "  array([-0.71528063, -0.50069297,  0.48752453]),\n",
       "  array([-2.41586075e-05, -3.20469667e-05,  1.44247909e-05])),\n",
       " (2458907.1459568,\n",
       "  array([-0.71529964, -0.50066194,  0.48752851]),\n",
       "  array([-2.38721368e-05, -3.22611595e-05,  1.44242381e-05])),\n",
       " (2458909.9783108,\n",
       "  array([-0.6993634 , -0.50694716,  0.50388035]),\n",
       "  array([-2.68472569e-05, -2.25292105e-05,  2.42225441e-05])),\n",
       " (2458909.9800108,\n",
       "  array([-0.69938378, -0.50691073,  0.50388872]),\n",
       "  array([-2.66044064e-05, -2.28159661e-05,  2.42220755e-05])),\n",
       " (2458909.9810508,\n",
       "  array([-0.69939306, -0.50689418,  0.50389249]),\n",
       "  array([-2.64543389e-05, -2.29901029e-05,  2.42217836e-05]))]"
      ]
     },
     "execution_count": 64,
     "metadata": {},
     "output_type": "execute_result"
    }
   ],
   "source": [
    "obs"
   ]
  },
  {
   "cell_type": "code",
   "execution_count": 65,
   "metadata": {},
   "outputs": [],
   "source": [
    "def find_segment(time_tags, t, tmax):\n",
    "    if t < time_tags[0] or t > tmax:\n",
    "        return -1\n",
    "    elif t==time_tags[0]:\n",
    "        return 0\n",
    "    else:\n",
    "        idx = np.searchsorted(time_tags, t)\n",
    "        return idx-1\n",
    "\n",
    "\n",
    "\n",
    "def trajectory(fits, time_tags, t, tmax):\n",
    "    idx = find_segment(time_tags, t, tmax)\n",
    "    t0, dt, c = fits[idx]\n",
    "    x = 2*(t - t0)/dt\n",
    "    model = ch.chebval(x, c)\n",
    "    return model\n",
    "\n",
    "au_km = 149597870.700 # This is now a definition \n",
    "speed_of_light = 2.99792458e5 * 86400./au_km\n"
   ]
  },
  {
   "cell_type": "code",
   "execution_count": 66,
   "metadata": {},
   "outputs": [],
   "source": [
    "# Need to include a geocentric option\n",
    "def generate_observation(fits, time_tags, r_obs, t_obs, niter=5):\n",
    "    lt = 0.0\n",
    "    # probably don't need to look up the segment every time\n",
    "    # probably don't need very high order chebyshev polynomials\n",
    "    # probably already have a guess at lt from previous iterations.\n",
    "    for i in range(niter):\n",
    "        t = t_obs - lt\n",
    "        pos = trajectory(fits, time_tags, t, timesp[-1])\n",
    "        rho = pos-r_obs\n",
    "        delta = np.sqrt(rho[0]*rho[0] + rho[1]*rho[1] + rho[2]*rho[2])\n",
    "        #delta = np.linalg.norm(rho)\n",
    "        rho = rho/delta\n",
    "        lt = delta/speed_of_light\n",
    "    return rho, lt\n"
   ]
  },
  {
   "cell_type": "code",
   "execution_count": 67,
   "metadata": {},
   "outputs": [],
   "source": [
    "def residuals(instates, obs, tstart, tend, geocentric=True):\n",
    "    instates = instates.reshape(1, 6)\n",
    "    timesp, statesp, varp, varp_ng, statusp = ephem_forces.production_integration_function_wrapper(tstart, tend, epoch, instates, tstep=2.0, geocentric=geocentric)\n",
    "    time_tags, fits = save_trajectory(timesp, statesp)\n",
    "    resid = []\n",
    "    # don't need to repeatedly open this file to read and format the data\n",
    "    for jd_tdb, r_target, r_obs in obs:\n",
    "        model, lt = generate_observation(fits, time_tags, r_obs, jd_tdb)\n",
    "        dx, dy = get_residuals(r_target, model)\n",
    "        resid.append(dx)\n",
    "        resid.append(dy)\n",
    "        print(\"%.6lf %.5lf %7.3lf %7.3lf\" % (jd_tdb, lt, dx*206265, dy*206265))\n",
    "    return resid\n"
   ]
  },
  {
   "cell_type": "code",
   "execution_count": 68,
   "metadata": {},
   "outputs": [],
   "source": [
    "\n",
    "from scipy.optimize import least_squares"
   ]
  },
  {
   "cell_type": "code",
   "execution_count": 69,
   "metadata": {},
   "outputs": [
    {
     "name": "stdout",
     "output_type": "stream",
     "text": [
      "2458895.017041 0.00001  11.816  -9.917\n",
      "2458895.022131 0.00001  12.390  -9.800\n",
      "2458895.046271 0.00001  12.043  -8.588\n",
      "2458895.046441 0.00001  11.603  -8.767\n",
      "2458895.046621 0.00001  11.818  -9.289\n",
      "2458895.046791 0.00001  11.826  -9.171\n",
      "2458895.496318 0.00001  11.426 -10.240\n",
      "2458895.498208 0.00001  11.017 -10.481\n",
      "2458895.500632 0.00001  11.049 -10.904\n",
      "2458895.504814 0.00001  11.371 -10.074\n",
      "2458895.506440 0.00001  11.091 -10.416\n",
      "2458895.864751 0.00002  10.428 -11.146\n",
      "2458895.867331 0.00002  10.522 -11.233\n",
      "2458895.869961 0.00002  10.601 -10.886\n",
      "2458895.938711 0.00002  10.617 -10.756\n",
      "2458895.940641 0.00002  10.735 -10.891\n",
      "2458895.942571 0.00002  10.509 -10.558\n",
      "2458895.944501 0.00002  10.527 -10.458\n",
      "2458896.541335 0.00002   9.069 -11.646\n",
      "2458896.547423 0.00002  10.292 -11.327\n",
      "2458896.551870 0.00002  10.401 -11.307\n",
      "2458896.555098 0.00002  10.190 -11.782\n",
      "2458896.570878 0.00002  10.141 -11.013\n",
      "2458896.585743 0.00002  10.330 -11.350\n",
      "2458896.601527 0.00002  10.130 -11.009\n",
      "2458897.008801 0.00002   9.710 -12.353\n",
      "2458897.010831 0.00002   9.259 -11.867\n",
      "2458897.012861 0.00002   9.479 -12.505\n",
      "2458897.014891 0.00002   9.801 -12.066\n",
      "2458897.480852 0.00002  10.526 -12.481\n",
      "2458897.499054 0.00002  10.440 -12.100\n",
      "2458897.517258 0.00002  10.441 -12.043\n",
      "2458897.915451 0.00002   9.508 -12.811\n",
      "2458897.916031 0.00002   9.428 -12.921\n",
      "2458897.916611 0.00002   9.058 -11.841\n",
      "2458897.917191 0.00002   9.382 -12.569\n",
      "2458898.802471 0.00003   9.767 -13.728\n",
      "2458898.804721 0.00003   9.034 -12.203\n",
      "2458898.806981 0.00003   8.555 -12.754\n",
      "2458899.919611 0.00003   9.218 -13.948\n",
      "2458899.920361 0.00003   8.756 -13.350\n",
      "2458899.921121 0.00003   8.510 -13.406\n",
      "2458899.921871 0.00003   8.437 -14.334\n",
      "2458900.596702 0.00003   9.528 -13.234\n",
      "2458900.621293 0.00003   9.622 -12.911\n",
      "2458900.647069 0.00003   9.140 -13.554\n",
      "2458900.673069 0.00003   9.098 -13.367\n",
      "2458900.697382 0.00003   8.664 -13.132\n",
      "2458900.792441 0.00003   9.245 -13.907\n",
      "2458900.793311 0.00003   8.685 -13.797\n",
      "2458900.795061 0.00003   9.492 -12.726\n",
      "2458907.143131 0.00004  10.021 -14.740\n",
      "2458907.144543 0.00004  10.036 -14.739\n",
      "2458907.145957 0.00004  10.068 -14.748\n",
      "2458909.978311 0.00005  10.279 -14.516\n",
      "2458909.980011 0.00005  11.034 -14.712\n",
      "2458909.981051 0.00005  10.156 -14.532\n",
      "2458895.017041 0.00001  11.473 -10.080\n",
      "2458895.022131 0.00001  12.047  -9.964\n",
      "2458895.046271 0.00001  11.700  -8.758\n",
      "2458895.046441 0.00001  11.260  -8.937\n",
      "2458895.046621 0.00001  11.476  -9.458\n",
      "2458895.046791 0.00001  11.484  -9.340\n",
      "2458895.496318 0.00001  11.023 -10.466\n",
      "2458895.498208 0.00001  10.613 -10.708\n",
      "2458895.500632 0.00001  10.646 -11.131\n",
      "2458895.504814 0.00001  10.968 -10.301\n",
      "2458895.506440 0.00001  10.688 -10.644\n",
      "2458895.864751 0.00002  10.019 -11.399\n",
      "2458895.867331 0.00002  10.113 -11.486\n",
      "2458895.869961 0.00002  10.192 -11.139\n",
      "2458895.938711 0.00002  10.214 -11.013\n",
      "2458895.940641 0.00002  10.333 -11.148\n",
      "2458895.942571 0.00002  10.107 -10.816\n",
      "2458895.944501 0.00002  10.125 -10.715\n",
      "2458896.541335 0.00002   8.672 -11.906\n",
      "2458896.547423 0.00002   9.896 -11.588\n",
      "2458896.551870 0.00002  10.004 -11.565\n",
      "2458896.555098 0.00002   9.794 -12.043\n",
      "2458896.570878 0.00002   9.745 -11.272\n",
      "2458896.585743 0.00002   9.935 -11.609\n",
      "2458896.601527 0.00002   9.737 -11.269\n",
      "2458897.008801 0.00002   9.330 -12.614\n",
      "2458897.010831 0.00002   8.880 -12.129\n",
      "2458897.012861 0.00002   9.100 -12.766\n",
      "2458897.014891 0.00002   9.423 -12.327\n",
      "2458897.480852 0.00002  10.152 -12.731\n",
      "2458897.499054 0.00002  10.067 -12.350\n",
      "2458897.517258 0.00002  10.068 -12.293\n",
      "2458897.915451 0.00002   9.148 -13.057\n",
      "2458897.916031 0.00002   9.068 -13.168\n",
      "2458897.916611 0.00002   8.698 -12.087\n",
      "2458897.917191 0.00002   9.022 -12.815\n",
      "2458898.802471 0.00003   9.430 -13.956\n",
      "2458898.804721 0.00003   8.697 -12.432\n",
      "2458898.806981 0.00003   8.218 -12.982\n",
      "2458899.919611 0.00003   8.910 -14.160\n",
      "2458899.920361 0.00003   8.448 -13.562\n",
      "2458899.921121 0.00003   8.202 -13.618\n",
      "2458899.921871 0.00003   8.130 -14.546\n",
      "2458900.596702 0.00003   9.235 -13.435\n",
      "2458900.621293 0.00003   9.330 -13.112\n",
      "2458900.647069 0.00003   8.848 -13.755\n",
      "2458900.673069 0.00003   8.808 -13.568\n",
      "2458900.697382 0.00003   8.375 -13.332\n",
      "2458900.792441 0.00003   8.955 -14.104\n",
      "2458900.793311 0.00003   8.395 -13.994\n",
      "2458900.795061 0.00003   9.202 -12.923\n",
      "2458907.143131 0.00004   9.825 -14.881\n",
      "2458907.144543 0.00004   9.840 -14.881\n",
      "2458907.145957 0.00004   9.872 -14.889\n",
      "2458909.978311 0.00005  10.106 -14.643\n",
      "2458909.980011 0.00005  10.862 -14.839\n",
      "2458909.981051 0.00005   9.983 -14.659\n",
      "2458895.017041 0.00001  13.177  -9.959\n",
      "2458895.022131 0.00001  13.748  -9.843\n",
      "2458895.046271 0.00001  13.389  -8.633\n",
      "2458895.046441 0.00001  12.949  -8.812\n",
      "2458895.046621 0.00001  13.165  -9.333\n",
      "2458895.046791 0.00001  13.173  -9.215\n",
      "2458895.496318 0.00001  12.588 -10.320\n",
      "2458895.498208 0.00001  12.178 -10.562\n",
      "2458895.500632 0.00001  12.209 -10.985\n",
      "2458895.504814 0.00001  12.530 -10.155\n",
      "2458895.506440 0.00001  12.250 -10.497\n",
      "2458895.864751 0.00002  11.485 -11.245\n",
      "2458895.867331 0.00002  11.578 -11.332\n",
      "2458895.869961 0.00002  11.657 -10.985\n",
      "2458895.938711 0.00002  11.660 -10.856\n",
      "2458895.940641 0.00002  11.778 -10.991\n",
      "2458895.942571 0.00002  11.552 -10.659\n",
      "2458895.944501 0.00002  11.569 -10.558\n",
      "2458896.541335 0.00002   9.977 -11.759\n",
      "2458896.547423 0.00002  11.199 -11.441\n",
      "2458896.551870 0.00002  11.305 -11.420\n",
      "2458896.555098 0.00002  11.096 -11.896\n",
      "2458896.570878 0.00002  11.042 -11.127\n",
      "2458896.585743 0.00002  11.229 -11.464\n",
      "2458896.601527 0.00002  11.027 -11.123\n",
      "2458897.008801 0.00002  10.542 -12.472\n",
      "2458897.010831 0.00002  10.091 -11.986\n",
      "2458897.012861 0.00002  10.310 -12.624\n",
      "2458897.014891 0.00002  10.632 -12.185\n",
      "2458897.480852 0.00002  11.280 -12.605\n",
      "2458897.499054 0.00002  11.193 -12.224\n",
      "2458897.517258 0.00002  11.192 -12.167\n",
      "2458897.915451 0.00002  10.214 -12.936\n",
      "2458897.916031 0.00002  10.134 -13.047\n",
      "2458897.916611 0.00002   9.764 -11.966\n",
      "2458897.917191 0.00002  10.088 -12.694\n",
      "2458898.802471 0.00003  10.377 -13.853\n",
      "2458898.804721 0.00003   9.643 -12.329\n",
      "2458898.806981 0.00003   9.164 -12.879\n",
      "2458899.919611 0.00003   9.740 -14.071\n",
      "2458899.920361 0.00003   9.278 -13.473\n",
      "2458899.921121 0.00003   9.031 -13.529\n",
      "2458899.921871 0.00003   8.959 -14.457\n",
      "2458900.596702 0.00003  10.003 -13.354\n",
      "2458900.621293 0.00003  10.096 -13.031\n",
      "2458900.647069 0.00003   9.612 -13.674\n",
      "2458900.673069 0.00003   9.569 -13.487\n",
      "2458900.697382 0.00003   9.134 -13.251\n",
      "2458900.792441 0.00003   9.706 -14.027\n",
      "2458900.793311 0.00003   9.145 -13.917\n",
      "2458900.795061 0.00003   9.952 -12.845\n",
      "2458907.143131 0.00004  10.219 -14.832\n",
      "2458907.144543 0.00004  10.234 -14.831\n",
      "2458907.145957 0.00004  10.266 -14.840\n",
      "2458909.978311 0.00005  10.401 -14.597\n",
      "2458909.980011 0.00005  11.156 -14.793\n",
      "2458909.981051 0.00005  10.278 -14.613\n",
      "2458895.017041 0.00001  11.827  -8.524\n",
      "2458895.022131 0.00001  12.401  -8.410\n",
      "2458895.046271 0.00001  12.053  -7.211\n",
      "2458895.046441 0.00001  11.613  -7.390\n",
      "2458895.046621 0.00001  11.829  -7.911\n",
      "2458895.046791 0.00001  11.837  -7.793\n",
      "2458895.496318 0.00001  11.429  -9.034\n",
      "2458895.498208 0.00001  11.019  -9.276\n",
      "2458895.500632 0.00001  11.051  -9.700\n",
      "2458895.504814 0.00001  11.373  -8.871\n",
      "2458895.506440 0.00001  11.094  -9.213\n",
      "2458895.864751 0.00002  10.429 -10.047\n",
      "2458895.867331 0.00002  10.522 -10.134\n",
      "2458895.869961 0.00002  10.602  -9.787\n",
      "2458895.938711 0.00002  10.618  -9.673\n",
      "2458895.940641 0.00002  10.736  -9.808\n",
      "2458895.942571 0.00002  10.510  -9.476\n",
      "2458895.944501 0.00002  10.528  -9.376\n",
      "2458896.541335 0.00002   9.069 -10.697\n",
      "2458896.547423 0.00002  10.292 -10.379\n",
      "2458896.551870 0.00002  10.401 -10.361\n",
      "2458896.555098 0.00002  10.190 -10.836\n",
      "2458896.570878 0.00002  10.141 -10.070\n",
      "2458896.585743 0.00002  10.330 -10.410\n",
      "2458896.601527 0.00002  10.130 -10.072\n",
      "2458897.008801 0.00002   9.710 -11.485\n",
      "2458897.010831 0.00002   9.259 -11.000\n",
      "2458897.012861 0.00002   9.479 -11.637\n",
      "2458897.014891 0.00002   9.801 -11.199\n",
      "2458897.480852 0.00002  10.526 -11.687\n",
      "2458897.499054 0.00002  10.440 -11.307\n",
      "2458897.517258 0.00002  10.441 -11.252\n",
      "2458897.915451 0.00002   9.508 -12.068\n",
      "2458897.916031 0.00002   9.428 -12.179\n",
      "2458897.916611 0.00002   9.057 -11.098\n",
      "2458897.917191 0.00002   9.382 -11.827\n",
      "2458898.802471 0.00003   9.767 -13.082\n",
      "2458898.804721 0.00003   9.033 -11.558\n",
      "2458898.806981 0.00003   8.554 -12.108\n",
      "2458899.919611 0.00003   9.216 -13.396\n",
      "2458899.920361 0.00003   8.754 -12.797\n",
      "2458899.921121 0.00003   8.508 -12.854\n",
      "2458899.921871 0.00003   8.436 -13.782\n",
      "2458900.596702 0.00003   9.525 -12.730\n",
      "2458900.621293 0.00003   9.619 -12.408\n",
      "2458900.647069 0.00003   9.137 -13.053\n",
      "2458900.673069 0.00003   9.095 -12.868\n",
      "2458900.697382 0.00003   8.661 -12.634\n",
      "2458900.792441 0.00003   9.242 -13.417\n",
      "2458900.793311 0.00003   8.681 -13.307\n",
      "2458900.795061 0.00003   9.489 -12.236\n",
      "2458907.143131 0.00004  10.001 -14.532\n",
      "2458907.144543 0.00004  10.016 -14.532\n",
      "2458907.145957 0.00004  10.048 -14.540\n",
      "2458909.978311 0.00005  10.250 -14.390\n",
      "2458909.980011 0.00005  11.006 -14.586\n",
      "2458909.981051 0.00005  10.127 -14.406\n"
     ]
    },
    {
     "name": "stdout",
     "output_type": "stream",
     "text": [
      "2458895.017041 0.00001  12.787  -9.398\n",
      "2458895.022131 0.00001  13.357  -9.281\n",
      "2458895.046271 0.00001  12.994  -8.067\n",
      "2458895.046441 0.00001  12.554  -8.246\n",
      "2458895.046621 0.00001  12.769  -8.767\n",
      "2458895.046791 0.00001  12.777  -8.649\n",
      "2458895.496318 0.00001  12.275  -9.746\n",
      "2458895.498208 0.00001  11.865  -9.988\n",
      "2458895.500632 0.00001  11.896 -10.411\n",
      "2458895.504814 0.00001  12.215  -9.581\n",
      "2458895.506440 0.00001  11.935  -9.923\n",
      "2458895.864751 0.00002  11.114 -10.716\n",
      "2458895.867331 0.00002  11.206 -10.803\n",
      "2458895.869961 0.00002  11.284 -10.456\n",
      "2458895.938711 0.00002  11.261 -10.341\n",
      "2458895.940641 0.00002  11.377 -10.476\n",
      "2458895.942571 0.00002  11.151 -10.144\n",
      "2458895.944501 0.00002  11.167 -10.044\n",
      "2458896.541335 0.00002   9.451 -11.394\n",
      "2458896.547423 0.00002  10.671 -11.077\n",
      "2458896.551870 0.00002  10.779 -11.060\n",
      "2458896.555098 0.00002  10.566 -11.534\n",
      "2458896.570878 0.00002  10.510 -10.771\n",
      "2458896.585743 0.00002  10.692 -11.112\n",
      "2458896.601527 0.00002  10.486 -10.775\n",
      "2458897.008801 0.00002   9.896 -12.225\n",
      "2458897.010831 0.00002   9.445 -11.740\n",
      "2458897.012861 0.00002   9.664 -12.377\n",
      "2458897.014891 0.00002   9.985 -11.939\n",
      "2458897.480852 0.00002  10.533 -12.476\n",
      "2458897.499054 0.00002  10.440 -12.100\n",
      "2458897.517258 0.00002  10.435 -12.047\n",
      "2458897.915451 0.00002   9.358 -12.913\n",
      "2458897.916031 0.00002   9.278 -13.024\n",
      "2458897.916611 0.00002   8.908 -11.943\n",
      "2458897.917191 0.00002   9.232 -12.672\n",
      "2458898.802471 0.00003   9.325 -14.027\n",
      "2458898.804721 0.00003   8.591 -12.503\n",
      "2458898.806981 0.00003   8.112 -13.054\n",
      "2458899.919611 0.00003   8.460 -14.471\n",
      "2458899.920361 0.00003   7.998 -13.872\n",
      "2458899.921121 0.00003   7.751 -13.929\n",
      "2458899.921871 0.00003   7.679 -14.857\n",
      "2458900.596702 0.00003   8.596 -13.873\n",
      "2458900.621293 0.00003   8.686 -13.555\n",
      "2458900.647069 0.00003   8.198 -14.204\n",
      "2458900.673069 0.00003   8.152 -14.022\n",
      "2458900.697382 0.00003   7.714 -13.791\n",
      "2458900.792441 0.00003   8.263 -14.575\n",
      "2458900.793311 0.00003   7.702 -14.465\n",
      "2458900.795061 0.00003   8.509 -13.394\n",
      "2458907.143131 0.00004   7.891 -16.218\n",
      "2458907.144543 0.00004   7.906 -16.218\n",
      "2458907.145957 0.00004   7.938 -16.227\n",
      "2458909.978311 0.00005   7.766 -16.252\n",
      "2458909.980011 0.00005   8.521 -16.448\n",
      "2458909.981051 0.00005   7.643 -16.268\n",
      "2458895.017041 0.00001   8.276  -9.771\n",
      "2458895.022131 0.00001   8.864  -9.654\n",
      "2458895.046271 0.00001   8.585  -8.441\n",
      "2458895.046441 0.00001   8.145  -8.620\n",
      "2458895.046621 0.00001   8.361  -9.141\n",
      "2458895.046791 0.00001   8.370  -9.023\n",
      "2458895.496318 0.00001   9.029 -10.063\n",
      "2458895.498208 0.00001   8.623 -10.305\n",
      "2458895.500632 0.00001   8.659 -10.728\n",
      "2458895.504814 0.00001   8.988  -9.898\n",
      "2458895.506440 0.00001   8.711 -10.240\n",
      "2458895.864751 0.00002   8.666 -10.978\n",
      "2458895.867331 0.00002   8.764 -11.065\n",
      "2458895.869961 0.00002   8.847 -10.718\n",
      "2458895.938711 0.00002   8.960 -10.594\n",
      "2458895.940641 0.00002   9.081 -10.729\n",
      "2458895.942571 0.00002   8.858 -10.397\n",
      "2458895.944501 0.00002   8.878 -10.296\n",
      "2458896.541335 0.00002   8.193 -11.536\n",
      "2458896.547423 0.00002   9.422 -11.218\n",
      "2458896.551870 0.00002   9.538 -11.198\n",
      "2458896.555098 0.00002   9.328 -11.674\n",
      "2458896.570878 0.00002   9.298 -10.907\n",
      "2458896.585743 0.00002   9.503 -11.246\n",
      "2458896.601527 0.00002   9.320 -10.906\n",
      "2458897.008801 0.00002   9.300 -12.295\n",
      "2458897.010831 0.00002   8.852 -11.809\n",
      "2458897.012861 0.00002   9.073 -12.447\n",
      "2458897.014891 0.00002   9.398 -12.008\n",
      "2458897.480852 0.00002  10.511 -12.479\n",
      "2458897.499054 0.00002  10.439 -12.100\n",
      "2458897.517258 0.00002  10.454 -12.045\n",
      "2458897.915451 0.00002   9.801 -12.863\n",
      "2458897.916031 0.00002   9.722 -12.974\n",
      "2458897.916611 0.00002   9.352 -11.893\n",
      "2458897.917191 0.00002   9.676 -12.621\n",
      "2458898.802471 0.00003  10.569 -13.892\n",
      "2458898.804721 0.00003   9.837 -12.369\n",
      "2458898.806981 0.00003   9.359 -12.919\n",
      "2458899.919611 0.00003  10.519 -14.251\n",
      "2458899.920361 0.00003  10.058 -13.653\n",
      "2458899.921121 0.00003   9.812 -13.710\n",
      "2458899.921871 0.00003   9.740 -14.638\n",
      "2458900.596702 0.00003  11.072 -13.617\n",
      "2458900.621293 0.00003  11.175 -13.297\n",
      "2458900.647069 0.00003  10.703 -13.943\n",
      "2458900.673069 0.00003  10.671 -13.758\n",
      "2458900.697382 0.00003  10.246 -13.525\n",
      "2458900.792441 0.00003  10.845 -14.314\n",
      "2458900.793311 0.00003  10.284 -14.204\n",
      "2458900.795061 0.00003  11.093 -13.133\n",
      "2458907.143131 0.00004  12.928 -15.764\n",
      "2458907.144543 0.00004  12.943 -15.764\n",
      "2458907.145957 0.00004  12.976 -15.772\n",
      "2458909.978311 0.00005  13.514 -15.751\n",
      "2458909.980011 0.00005  14.269 -15.947\n",
      "2458909.981051 0.00005  13.391 -15.768\n",
      "2458895.017041 0.00001  11.809 -13.547\n",
      "2458895.022131 0.00001  12.383 -13.415\n",
      "2458895.046271 0.00001  12.036 -12.132\n",
      "2458895.046441 0.00001  11.596 -12.310\n",
      "2458895.046621 0.00001  11.811 -12.831\n",
      "2458895.046791 0.00001  11.819 -12.713\n",
      "2458895.496318 0.00001  11.425 -12.728\n",
      "2458895.498208 0.00001  11.016 -12.966\n",
      "2458895.500632 0.00001  11.048 -13.384\n",
      "2458895.504814 0.00001  11.370 -12.546\n",
      "2458895.506440 0.00001  11.090 -12.885\n",
      "2458895.864751 0.00002  10.428 -12.979\n",
      "2458895.867331 0.00002  10.521 -13.061\n",
      "2458895.869961 0.00002  10.601 -12.710\n",
      "2458895.938711 0.00002  10.617 -12.476\n",
      "2458895.940641 0.00002  10.735 -12.608\n",
      "2458895.942571 0.00002  10.509 -12.272\n",
      "2458895.944501 0.00002  10.526 -12.169\n",
      "2458896.541335 0.00002   9.069 -12.561\n",
      "2458896.547423 0.00002  10.292 -12.236\n",
      "2458896.551870 0.00002  10.401 -12.209\n",
      "2458896.555098 0.00002  10.190 -12.682\n",
      "2458896.570878 0.00002  10.141 -11.894\n",
      "2458896.585743 0.00002  10.330 -12.215\n",
      "2458896.601527 0.00002  10.130 -11.856\n",
      "2458897.008801 0.00002   9.710 -12.780\n",
      "2458897.010831 0.00002   9.259 -12.293\n",
      "2458897.012861 0.00002   9.479 -12.928\n",
      "2458897.014891 0.00002   9.801 -12.487\n",
      "2458897.480852 0.00002  10.526 -12.496\n",
      "2458897.499054 0.00002  10.440 -12.101\n",
      "2458897.517258 0.00002  10.441 -12.029\n",
      "2458897.915451 0.00002   9.508 -12.502\n",
      "2458897.916031 0.00002   9.428 -12.612\n",
      "2458897.916611 0.00002   9.058 -11.531\n",
      "2458897.917191 0.00002   9.382 -12.259\n",
      "2458898.802471 0.00003   9.767 -12.879\n",
      "2458898.804721 0.00003   9.034 -11.353\n",
      "2458898.806981 0.00003   8.555 -11.902\n",
      "2458899.919611 0.00003   9.217 -12.570\n",
      "2458899.920361 0.00003   8.755 -11.971\n",
      "2458899.921121 0.00003   8.509 -12.027\n",
      "2458899.921871 0.00003   8.436 -12.955\n",
      "2458900.596702 0.00003   9.526 -11.595\n",
      "2458900.621293 0.00003   9.620 -11.262\n",
      "2458900.647069 0.00003   9.137 -11.896\n",
      "2458900.673069 0.00003   9.095 -11.700\n",
      "2458900.697382 0.00003   8.662 -11.456\n",
      "2458900.792441 0.00003   9.243 -12.203\n",
      "2458900.793311 0.00003   8.682 -12.093\n",
      "2458900.795061 0.00003   9.490 -11.021\n",
      "2458907.143131 0.00004   9.988 -11.660\n",
      "2458907.144543 0.00004  10.003 -11.659\n",
      "2458907.145957 0.00004  10.035 -11.667\n",
      "2458909.978311 0.00005  10.222 -11.098\n",
      "2458909.980011 0.00005  10.977 -11.294\n",
      "2458909.981051 0.00005  10.098 -11.114\n",
      "2458895.017041 0.00001   0.371  -1.231\n",
      "2458895.022131 0.00001   0.950  -1.099\n",
      "2458895.046271 0.00001   0.635   0.185\n",
      "2458895.046441 0.00001   0.196   0.006\n",
      "2458895.046621 0.00001   0.411  -0.515\n",
      "2458895.046791 0.00001   0.420  -0.396\n",
      "2458895.496318 0.00001   0.607  -0.158\n",
      "2458895.498208 0.00001   0.197  -0.394\n",
      "2458895.500632 0.00001   0.229  -0.810\n",
      "2458895.504814 0.00001   0.551   0.031\n",
      "2458895.506440 0.00001   0.271  -0.306\n",
      "2458895.864751 0.00002  -0.155  -0.288\n",
      "2458895.867331 0.00002  -0.062  -0.369\n",
      "2458895.869961 0.00002   0.017  -0.017\n",
      "2458895.938711 0.00002   0.023   0.237\n",
      "2458895.940641 0.00002   0.142   0.105\n",
      "2458895.942571 0.00002  -0.084   0.440\n",
      "2458895.944501 0.00002  -0.066   0.544\n",
      "2458896.541335 0.00002  -1.182   0.130\n",
      "2458896.547423 0.00002   0.040   0.456\n",
      "2458896.551870 0.00002   0.174   0.462\n",
      "2458896.555098 0.00002  -0.063   0.011\n",
      "2458896.570878 0.00002  -0.088   0.782\n",
      "2458896.585743 0.00002   0.100   0.463\n",
      "2458896.601527 0.00002  -0.100   0.823\n",
      "2458897.008801 0.00002  -0.416  -0.128\n",
      "2458897.010831 0.00002  -0.866   0.358\n",
      "2458897.012861 0.00002  -0.647  -0.278\n",
      "2458897.014891 0.00002  -0.324   0.162\n",
      "2458897.480852 0.00002   0.649   0.061\n",
      "2458897.499054 0.00002   0.557   0.464\n",
      "2458897.517258 0.00002   0.552   0.542\n",
      "2458897.915451 0.00002  -0.334   0.035\n",
      "2458897.916031 0.00002  -0.414  -0.076\n",
      "2458897.916611 0.00002  -0.784   1.006\n",
      "2458897.917191 0.00002  -0.460   0.277\n",
      "2458898.802471 0.00003   0.150  -0.522\n",
      "2458898.804721 0.00003  -0.585   1.004\n",
      "2458898.806981 0.00003  -1.064   0.455\n",
      "2458899.919611 0.00003  -0.300  -0.393\n",
      "2458899.920361 0.00003  -0.762   0.206\n",
      "2458899.921121 0.00003  -1.008   0.150\n",
      "2458899.921871 0.00003  -1.081  -0.778\n",
      "2458900.596702 0.00003   0.084   0.456\n",
      "2458900.621293 0.00003   0.173   0.784\n",
      "2458900.647069 0.00003  -0.313   0.144\n",
      "2458900.673069 0.00003  -0.356   0.332\n",
      "2458900.697382 0.00003  -0.791   0.566\n",
      "2458900.792441 0.00003  -0.145  -0.209\n",
      "2458900.793311 0.00003  -0.706  -0.098\n",
      "2458900.795061 0.00003   0.101   0.974\n",
      "2458907.143131 0.00004   0.727  -0.819\n",
      "2458907.144543 0.00004   0.742  -0.819\n",
      "2458907.145957 0.00004   0.775  -0.828\n",
      "2458909.978311 0.00005   0.920  -0.745\n",
      "2458909.980011 0.00005   1.675  -0.941\n",
      "2458909.981051 0.00005   0.797  -0.762\n"
     ]
    },
    {
     "name": "stdout",
     "output_type": "stream",
     "text": [
      "2458895.017041 0.00001   0.027  -1.394\n",
      "2458895.022131 0.00001   0.607  -1.263\n",
      "2458895.046271 0.00001   0.293   0.015\n",
      "2458895.046441 0.00001  -0.147  -0.163\n",
      "2458895.046621 0.00001   0.069  -0.684\n",
      "2458895.046791 0.00001   0.078  -0.565\n",
      "2458895.496318 0.00001   0.204  -0.384\n",
      "2458895.498208 0.00001  -0.206  -0.621\n",
      "2458895.500632 0.00001  -0.174  -1.037\n",
      "2458895.504814 0.00001   0.148  -0.196\n",
      "2458895.506440 0.00001  -0.132  -0.534\n",
      "2458895.864751 0.00002  -0.564  -0.541\n",
      "2458895.867331 0.00002  -0.470  -0.623\n",
      "2458895.869961 0.00002  -0.392  -0.270\n",
      "2458895.938711 0.00002  -0.379  -0.021\n",
      "2458895.940641 0.00002  -0.261  -0.152\n",
      "2458895.942571 0.00002  -0.486   0.183\n",
      "2458895.944501 0.00002  -0.468   0.287\n",
      "2458896.541335 0.00002  -1.578  -0.130\n",
      "2458896.547423 0.00002  -0.356   0.196\n",
      "2458896.551870 0.00002  -0.222   0.204\n",
      "2458896.555098 0.00002  -0.458  -0.250\n",
      "2458896.570878 0.00002  -0.483   0.523\n",
      "2458896.585743 0.00002  -0.294   0.204\n",
      "2458896.601527 0.00002  -0.494   0.563\n",
      "2458897.008801 0.00002  -0.796  -0.390\n",
      "2458897.010831 0.00002  -1.245   0.097\n",
      "2458897.012861 0.00002  -1.026  -0.539\n",
      "2458897.014891 0.00002  -0.702  -0.099\n",
      "2458897.480852 0.00002   0.275  -0.189\n",
      "2458897.499054 0.00002   0.184   0.214\n",
      "2458897.517258 0.00002   0.180   0.292\n",
      "2458897.915451 0.00002  -0.694  -0.212\n",
      "2458897.916031 0.00002  -0.774  -0.322\n",
      "2458897.916611 0.00002  -1.144   0.759\n",
      "2458897.917191 0.00002  -0.820   0.031\n",
      "2458898.802471 0.00003  -0.187  -0.751\n",
      "2458898.804721 0.00003  -0.921   0.775\n",
      "2458898.806981 0.00003  -1.401   0.227\n",
      "2458899.919611 0.00003  -0.607  -0.604\n",
      "2458899.920361 0.00003  -1.069  -0.006\n",
      "2458899.921121 0.00003  -1.316  -0.062\n",
      "2458899.921871 0.00003  -1.388  -0.990\n",
      "2458900.596702 0.00003  -0.209   0.255\n",
      "2458900.621293 0.00003  -0.119   0.583\n",
      "2458900.647069 0.00003  -0.604  -0.057\n",
      "2458900.673069 0.00003  -0.646   0.131\n",
      "2458900.697382 0.00003  -1.079   0.366\n",
      "2458900.792441 0.00003  -0.435  -0.406\n",
      "2458900.793311 0.00003  -0.996  -0.295\n",
      "2458900.795061 0.00003  -0.189   0.777\n",
      "2458907.143131 0.00004   0.531  -0.960\n",
      "2458907.144543 0.00004   0.547  -0.960\n",
      "2458907.145957 0.00004   0.579  -0.969\n",
      "2458909.978311 0.00005   0.748  -0.872\n",
      "2458909.980011 0.00005   1.503  -1.068\n",
      "2458909.981051 0.00005   0.625  -0.889\n",
      "2458895.017041 0.00001   1.731  -1.273\n",
      "2458895.022131 0.00001   2.309  -1.141\n",
      "2458895.046271 0.00001   1.982   0.140\n",
      "2458895.046441 0.00001   1.542  -0.038\n",
      "2458895.046621 0.00001   1.758  -0.559\n",
      "2458895.046791 0.00001   1.766  -0.440\n",
      "2458895.496318 0.00001   1.769  -0.238\n",
      "2458895.498208 0.00001   1.359  -0.475\n",
      "2458895.500632 0.00001   1.390  -0.891\n",
      "2458895.504814 0.00001   1.711  -0.050\n",
      "2458895.506440 0.00001   1.431  -0.387\n",
      "2458895.864751 0.00002   0.902  -0.387\n",
      "2458895.867331 0.00002   0.995  -0.468\n",
      "2458895.869961 0.00002   1.073  -0.116\n",
      "2458895.938711 0.00002   1.067   0.136\n",
      "2458895.940641 0.00002   1.185   0.005\n",
      "2458895.942571 0.00002   0.959   0.340\n",
      "2458895.944501 0.00002   0.976   0.444\n",
      "2458896.541335 0.00002  -0.274   0.016\n",
      "2458896.547423 0.00002   0.947   0.342\n",
      "2458896.551870 0.00002   1.079   0.349\n",
      "2458896.555098 0.00002   0.843  -0.103\n",
      "2458896.570878 0.00002   0.814   0.668\n",
      "2458896.585743 0.00002   1.000   0.349\n",
      "2458896.601527 0.00002   0.797   0.709\n",
      "2458897.008801 0.00002   0.415  -0.247\n",
      "2458897.010831 0.00002  -0.035   0.239\n",
      "2458897.012861 0.00002   0.185  -0.397\n",
      "2458897.014891 0.00002   0.508   0.043\n",
      "2458897.480852 0.00002   1.404  -0.063\n",
      "2458897.499054 0.00002   1.310   0.340\n",
      "2458897.517258 0.00002   1.304   0.418\n",
      "2458897.915451 0.00002   0.372  -0.091\n",
      "2458897.916031 0.00002   0.292  -0.201\n",
      "2458897.916611 0.00002  -0.078   0.880\n",
      "2458897.917191 0.00002   0.245   0.152\n",
      "2458898.802471 0.00003   0.759  -0.648\n",
      "2458898.804721 0.00003   0.025   0.878\n",
      "2458898.806981 0.00003  -0.455   0.329\n",
      "2458899.919611 0.00003   0.222  -0.515\n",
      "2458899.920361 0.00003  -0.240   0.083\n",
      "2458899.921121 0.00003  -0.486   0.027\n",
      "2458899.921871 0.00003  -0.559  -0.901\n",
      "2458900.596702 0.00003   0.559   0.336\n",
      "2458900.621293 0.00003   0.647   0.664\n",
      "2458900.647069 0.00003   0.160   0.024\n",
      "2458900.673069 0.00003   0.115   0.213\n",
      "2458900.697382 0.00003  -0.320   0.447\n",
      "2458900.792441 0.00003   0.315  -0.329\n",
      "2458900.793311 0.00003  -0.246  -0.218\n",
      "2458900.795061 0.00003   0.561   0.854\n",
      "2458907.143131 0.00004   0.925  -0.911\n",
      "2458907.144543 0.00004   0.940  -0.911\n",
      "2458907.145957 0.00004   0.973  -0.920\n",
      "2458909.978311 0.00005   1.043  -0.826\n",
      "2458909.980011 0.00005   1.798  -1.022\n",
      "2458909.981051 0.00005   0.920  -0.843\n",
      "2458895.017041 0.00001   0.382   0.162\n",
      "2458895.022131 0.00001   0.961   0.292\n",
      "2458895.046271 0.00001   0.646   1.562\n",
      "2458895.046441 0.00001   0.206   1.384\n",
      "2458895.046621 0.00001   0.422   0.863\n",
      "2458895.046791 0.00001   0.431   0.981\n",
      "2458895.496318 0.00001   0.610   1.048\n",
      "2458895.498208 0.00001   0.200   0.811\n",
      "2458895.500632 0.00001   0.232   0.394\n",
      "2458895.504814 0.00001   0.554   1.234\n",
      "2458895.506440 0.00001   0.274   0.896\n",
      "2458895.864751 0.00002  -0.154   0.811\n",
      "2458895.867331 0.00002  -0.061   0.730\n",
      "2458895.869961 0.00002   0.018   1.081\n",
      "2458895.938711 0.00002   0.024   1.319\n",
      "2458895.940641 0.00002   0.142   1.187\n",
      "2458895.942571 0.00002  -0.083   1.522\n",
      "2458895.944501 0.00002  -0.065   1.625\n",
      "2458896.541335 0.00002  -1.182   1.079\n",
      "2458896.547423 0.00002   0.040   1.404\n",
      "2458896.551870 0.00002   0.174   1.408\n",
      "2458896.555098 0.00002  -0.063   0.957\n",
      "2458896.570878 0.00002  -0.088   1.725\n",
      "2458896.585743 0.00002   0.100   1.403\n",
      "2458896.601527 0.00002  -0.100   1.760\n",
      "2458897.008801 0.00002  -0.416   0.740\n",
      "2458897.010831 0.00002  -0.866   1.226\n",
      "2458897.012861 0.00002  -0.647   0.589\n",
      "2458897.014891 0.00002  -0.324   1.029\n",
      "2458897.480852 0.00002   0.649   0.856\n",
      "2458897.499054 0.00002   0.557   1.257\n",
      "2458897.517258 0.00002   0.552   1.333\n",
      "2458897.915451 0.00002  -0.334   0.777\n",
      "2458897.916031 0.00002  -0.414   0.667\n",
      "2458897.916611 0.00002  -0.785   1.748\n",
      "2458897.917191 0.00002  -0.461   1.020\n",
      "2458898.802471 0.00003   0.149   0.123\n",
      "2458898.804721 0.00003  -0.585   1.649\n",
      "2458898.806981 0.00003  -1.065   1.100\n",
      "2458899.919611 0.00003  -0.301   0.160\n",
      "2458899.920361 0.00003  -0.763   0.759\n",
      "2458899.921121 0.00003  -1.010   0.702\n",
      "2458899.921871 0.00003  -1.082  -0.225\n",
      "2458900.596702 0.00003   0.081   0.961\n",
      "2458900.621293 0.00003   0.170   1.287\n",
      "2458900.647069 0.00003  -0.315   0.645\n",
      "2458900.673069 0.00003  -0.359   0.832\n",
      "2458900.697382 0.00003  -0.793   1.064\n",
      "2458900.792441 0.00003  -0.148   0.281\n",
      "2458900.793311 0.00003  -0.709   0.392\n",
      "2458900.795061 0.00003   0.098   1.464\n",
      "2458907.143131 0.00004   0.708  -0.612\n",
      "2458907.144543 0.00004   0.723  -0.611\n",
      "2458907.145957 0.00004   0.755  -0.620\n",
      "2458909.978311 0.00005   0.892  -0.619\n",
      "2458909.980011 0.00005   1.647  -0.815\n",
      "2458909.981051 0.00005   0.769  -0.636\n",
      "2458895.017041 0.00001   1.341  -0.712\n",
      "2458895.022131 0.00001   1.917  -0.580\n",
      "2458895.046271 0.00001   1.587   0.706\n",
      "2458895.046441 0.00001   1.147   0.528\n",
      "2458895.046621 0.00001   1.362   0.007\n",
      "2458895.046791 0.00001   1.371   0.126\n",
      "2458895.496318 0.00001   1.456   0.336\n",
      "2458895.498208 0.00001   1.046   0.099\n",
      "2458895.500632 0.00001   1.076  -0.317\n",
      "2458895.504814 0.00001   1.395   0.524\n",
      "2458895.506440 0.00001   1.115   0.186\n",
      "2458895.864751 0.00002   0.531   0.142\n",
      "2458895.867331 0.00002   0.623   0.061\n",
      "2458895.869961 0.00002   0.700   0.413\n",
      "2458895.938711 0.00002   0.667   0.652\n",
      "2458895.940641 0.00002   0.784   0.520\n",
      "2458895.942571 0.00002   0.558   0.855\n",
      "2458895.944501 0.00002   0.574   0.958\n",
      "2458896.541335 0.00002  -0.800   0.382\n",
      "2458896.547423 0.00002   0.420   0.706\n",
      "2458896.551870 0.00002   0.553   0.710\n",
      "2458896.555098 0.00002   0.313   0.259\n",
      "2458896.570878 0.00002   0.282   1.024\n",
      "2458896.585743 0.00002   0.463   0.702\n",
      "2458896.601527 0.00002   0.255   1.058\n",
      "2458897.008801 0.00002  -0.230   0.000\n",
      "2458897.010831 0.00002  -0.681   0.486\n",
      "2458897.012861 0.00002  -0.462  -0.151\n",
      "2458897.014891 0.00002  -0.140   0.289\n",
      "2458897.480852 0.00002   0.656   0.066\n",
      "2458897.499054 0.00002   0.558   0.464\n",
      "2458897.517258 0.00002   0.546   0.538\n",
      "2458897.915451 0.00002  -0.484  -0.068\n",
      "2458897.916031 0.00002  -0.564  -0.178\n",
      "2458897.916611 0.00002  -0.934   0.903\n",
      "2458897.917191 0.00002  -0.610   0.175\n",
      "2458898.802471 0.00003  -0.292  -0.822\n",
      "2458898.804721 0.00003  -1.027   0.703\n",
      "2458898.806981 0.00003  -1.507   0.154\n",
      "2458899.919611 0.00003  -1.058  -0.915\n",
      "2458899.920361 0.00003  -1.520  -0.316\n",
      "2458899.921121 0.00003  -1.766  -0.373\n",
      "2458899.921871 0.00003  -1.839  -1.301\n",
      "2458900.596702 0.00003  -0.848  -0.183\n",
      "2458900.621293 0.00003  -0.763   0.140\n",
      "2458900.647069 0.00003  -1.254  -0.506\n",
      "2458900.673069 0.00003  -1.302  -0.322\n",
      "2458900.697382 0.00003  -1.740  -0.092\n",
      "2458900.792441 0.00003  -1.127  -0.876\n",
      "2458900.793311 0.00003  -1.688  -0.766\n",
      "2458900.795061 0.00003  -0.882   0.306\n",
      "2458907.143131 0.00004  -1.402  -2.298\n",
      "2458907.144543 0.00004  -1.387  -2.298\n",
      "2458907.145957 0.00004  -1.355  -2.307\n",
      "2458909.978311 0.00005  -1.592  -2.481\n",
      "2458909.980011 0.00005  -0.837  -2.677\n",
      "2458909.981051 0.00005  -1.715  -2.498\n"
     ]
    },
    {
     "name": "stdout",
     "output_type": "stream",
     "text": [
      "2458895.017041 0.00001  -3.170  -1.085\n",
      "2458895.022131 0.00001  -2.576  -0.952\n",
      "2458895.046271 0.00001  -2.822   0.332\n",
      "2458895.046441 0.00001  -3.262   0.154\n",
      "2458895.046621 0.00001  -3.045  -0.367\n",
      "2458895.046791 0.00001  -3.037  -0.248\n",
      "2458895.496318 0.00001  -1.790   0.019\n",
      "2458895.498208 0.00001  -2.197  -0.218\n",
      "2458895.500632 0.00001  -2.160  -0.634\n",
      "2458895.504814 0.00001  -1.831   0.208\n",
      "2458895.506440 0.00001  -2.108  -0.130\n",
      "2458895.864751 0.00002  -1.916  -0.120\n",
      "2458895.867331 0.00002  -1.819  -0.201\n",
      "2458895.869961 0.00002  -1.737   0.151\n",
      "2458895.938711 0.00002  -1.633   0.399\n",
      "2458895.940641 0.00002  -1.512   0.267\n",
      "2458895.942571 0.00002  -1.735   0.602\n",
      "2458895.944501 0.00002  -1.715   0.705\n",
      "2458896.541335 0.00002  -2.058   0.240\n",
      "2458896.547423 0.00002  -0.829   0.565\n",
      "2458896.551870 0.00002  -0.688   0.571\n",
      "2458896.555098 0.00002  -0.924   0.119\n",
      "2458896.570878 0.00002  -0.930   0.888\n",
      "2458896.585743 0.00002  -0.727   0.568\n",
      "2458896.601527 0.00002  -0.911   0.926\n",
      "2458897.008801 0.00002  -0.826  -0.070\n",
      "2458897.010831 0.00002  -1.274   0.417\n",
      "2458897.012861 0.00002  -1.052  -0.220\n",
      "2458897.014891 0.00002  -0.727   0.220\n",
      "2458897.480852 0.00002   0.635   0.063\n",
      "2458897.499054 0.00002   0.557   0.464\n",
      "2458897.517258 0.00002   0.565   0.540\n",
      "2458897.915451 0.00002  -0.041  -0.017\n",
      "2458897.916031 0.00002  -0.120  -0.128\n",
      "2458897.916611 0.00002  -0.490   0.953\n",
      "2458897.917191 0.00002  -0.166   0.225\n",
      "2458898.802471 0.00003   0.951  -0.687\n",
      "2458898.804721 0.00003   0.218   0.838\n",
      "2458898.806981 0.00003  -0.260   0.289\n",
      "2458899.919611 0.00003   1.002  -0.696\n",
      "2458899.920361 0.00003   0.540  -0.097\n",
      "2458899.921121 0.00003   0.294  -0.154\n",
      "2458899.921871 0.00003   0.222  -1.081\n",
      "2458900.596702 0.00003   1.627   0.073\n",
      "2458900.621293 0.00003   1.727   0.398\n",
      "2458900.647069 0.00003   1.251  -0.244\n",
      "2458900.673069 0.00003   1.217  -0.059\n",
      "2458900.697382 0.00003   0.792   0.174\n",
      "2458900.792441 0.00003   1.455  -0.616\n",
      "2458900.793311 0.00003   0.894  -0.505\n",
      "2458900.795061 0.00003   1.702   0.567\n",
      "2458907.143131 0.00004   3.634  -1.843\n",
      "2458907.144543 0.00004   3.650  -1.843\n",
      "2458907.145957 0.00004   3.682  -1.852\n",
      "2458909.978311 0.00005   4.155  -1.980\n",
      "2458909.980011 0.00005   4.911  -2.176\n",
      "2458909.981051 0.00005   4.033  -1.997\n",
      "2458895.017041 0.00001   0.363  -4.861\n",
      "2458895.022131 0.00001   0.943  -4.714\n",
      "2458895.046271 0.00001   0.628  -3.359\n",
      "2458895.046441 0.00001   0.189  -3.537\n",
      "2458895.046621 0.00001   0.404  -4.057\n",
      "2458895.046791 0.00001   0.413  -3.938\n",
      "2458895.496318 0.00001   0.606  -2.646\n",
      "2458895.498208 0.00001   0.196  -2.879\n",
      "2458895.500632 0.00001   0.228  -3.290\n",
      "2458895.504814 0.00001   0.550  -2.441\n",
      "2458895.506440 0.00001   0.270  -2.776\n",
      "2458895.864751 0.00002  -0.155  -2.121\n",
      "2458895.867331 0.00002  -0.062  -2.198\n",
      "2458895.869961 0.00002   0.017  -1.841\n",
      "2458895.938711 0.00002   0.023  -1.483\n",
      "2458895.940641 0.00002   0.141  -1.612\n",
      "2458895.942571 0.00002  -0.084  -1.274\n",
      "2458895.944501 0.00002  -0.067  -1.167\n",
      "2458896.541335 0.00002  -1.182  -0.785\n",
      "2458896.547423 0.00002   0.040  -0.452\n",
      "2458896.551870 0.00002   0.174  -0.440\n",
      "2458896.555098 0.00002  -0.063  -0.889\n",
      "2458896.570878 0.00002  -0.088  -0.099\n",
      "2458896.585743 0.00002   0.100  -0.401\n",
      "2458896.601527 0.00002  -0.100  -0.024\n",
      "2458897.008801 0.00002  -0.416  -0.555\n",
      "2458897.010831 0.00002  -0.866  -0.067\n",
      "2458897.012861 0.00002  -0.647  -0.701\n",
      "2458897.014891 0.00002  -0.324  -0.260\n",
      "2458897.480852 0.00002   0.649   0.046\n",
      "2458897.499054 0.00002   0.557   0.463\n",
      "2458897.517258 0.00002   0.552   0.556\n",
      "2458897.915451 0.00002  -0.334   0.343\n",
      "2458897.916031 0.00002  -0.414   0.234\n",
      "2458897.916611 0.00002  -0.784   1.315\n",
      "2458897.917191 0.00002  -0.460   0.587\n",
      "2458898.802471 0.00003   0.149   0.326\n",
      "2458898.804721 0.00003  -0.585   1.854\n",
      "2458898.806981 0.00003  -1.064   1.306\n",
      "2458899.919611 0.00003  -0.301   0.986\n",
      "2458899.920361 0.00003  -0.763   1.585\n",
      "2458899.921121 0.00003  -1.009   1.529\n",
      "2458899.921871 0.00003  -1.082   0.602\n",
      "2458900.596702 0.00003   0.082   2.095\n",
      "2458900.621293 0.00003   0.171   2.433\n",
      "2458900.647069 0.00003  -0.315   1.802\n",
      "2458900.673069 0.00003  -0.359   1.999\n",
      "2458900.697382 0.00003  -0.793   2.242\n",
      "2458900.792441 0.00003  -0.147   1.495\n",
      "2458900.793311 0.00003  -0.708   1.606\n",
      "2458900.795061 0.00003   0.099   2.679\n",
      "2458907.143131 0.00004   0.694   2.261\n",
      "2458907.144543 0.00004   0.710   2.261\n",
      "2458907.145957 0.00004   0.742   2.253\n",
      "2458909.978311 0.00005   0.863   2.672\n",
      "2458909.980011 0.00005   1.618   2.476\n",
      "2458909.981051 0.00005   0.740   2.656\n",
      "2458895.017041 0.00001   0.370  -1.232\n",
      "2458895.022131 0.00001   0.950  -1.100\n",
      "2458895.046271 0.00001   0.635   0.184\n",
      "2458895.046441 0.00001   0.195   0.005\n",
      "2458895.046621 0.00001   0.411  -0.516\n",
      "2458895.046791 0.00001   0.419  -0.397\n",
      "2458895.496318 0.00001   0.607  -0.159\n",
      "2458895.498208 0.00001   0.197  -0.395\n",
      "2458895.500632 0.00001   0.229  -0.811\n",
      "2458895.504814 0.00001   0.551   0.031\n",
      "2458895.506440 0.00001   0.271  -0.307\n",
      "2458895.864751 0.00002  -0.155  -0.289\n",
      "2458895.867331 0.00002  -0.062  -0.370\n",
      "2458895.869961 0.00002   0.017  -0.017\n",
      "2458895.938711 0.00002   0.023   0.236\n",
      "2458895.940641 0.00002   0.142   0.104\n",
      "2458895.942571 0.00002  -0.084   0.440\n",
      "2458895.944501 0.00002  -0.066   0.544\n",
      "2458896.541335 0.00002  -1.182   0.130\n",
      "2458896.547423 0.00002   0.040   0.456\n",
      "2458896.551870 0.00002   0.174   0.462\n",
      "2458896.555098 0.00002  -0.063   0.010\n",
      "2458896.570878 0.00002  -0.088   0.782\n",
      "2458896.585743 0.00002   0.100   0.463\n",
      "2458896.601527 0.00002  -0.100   0.823\n",
      "2458897.008801 0.00002  -0.416  -0.128\n",
      "2458897.010831 0.00002  -0.866   0.358\n",
      "2458897.012861 0.00002  -0.647  -0.278\n",
      "2458897.014891 0.00002  -0.324   0.162\n",
      "2458897.480852 0.00002   0.649   0.061\n",
      "2458897.499054 0.00002   0.557   0.464\n",
      "2458897.517258 0.00002   0.552   0.542\n",
      "2458897.915451 0.00002  -0.334   0.035\n",
      "2458897.916031 0.00002  -0.414  -0.075\n",
      "2458897.916611 0.00002  -0.784   1.006\n",
      "2458897.917191 0.00002  -0.460   0.277\n",
      "2458898.802471 0.00003   0.150  -0.522\n",
      "2458898.804721 0.00003  -0.585   1.004\n",
      "2458898.806981 0.00003  -1.064   0.455\n",
      "2458899.919611 0.00003  -0.300  -0.392\n",
      "2458899.920361 0.00003  -0.762   0.206\n",
      "2458899.921121 0.00003  -1.008   0.150\n",
      "2458899.921871 0.00003  -1.081  -0.778\n",
      "2458900.596702 0.00003   0.084   0.456\n",
      "2458900.621293 0.00003   0.173   0.784\n",
      "2458900.647069 0.00003  -0.313   0.144\n",
      "2458900.673069 0.00003  -0.356   0.332\n",
      "2458900.697382 0.00003  -0.791   0.567\n",
      "2458900.792441 0.00003  -0.145  -0.209\n",
      "2458900.793311 0.00003  -0.706  -0.098\n",
      "2458900.795061 0.00003   0.101   0.974\n",
      "2458907.143131 0.00004   0.727  -0.819\n",
      "2458907.144543 0.00004   0.742  -0.819\n",
      "2458907.145957 0.00004   0.774  -0.828\n",
      "2458909.978311 0.00005   0.920  -0.745\n",
      "2458909.980011 0.00005   1.675  -0.941\n",
      "2458909.981051 0.00005   0.797  -0.762\n",
      "2458895.017041 0.00001   0.027  -1.395\n",
      "2458895.022131 0.00001   0.607  -1.264\n",
      "2458895.046271 0.00001   0.293   0.014\n",
      "2458895.046441 0.00001  -0.147  -0.164\n",
      "2458895.046621 0.00001   0.069  -0.685\n",
      "2458895.046791 0.00001   0.077  -0.566\n",
      "2458895.496318 0.00001   0.204  -0.385\n",
      "2458895.498208 0.00001  -0.206  -0.621\n",
      "2458895.500632 0.00001  -0.174  -1.038\n",
      "2458895.504814 0.00001   0.148  -0.197\n",
      "2458895.506440 0.00001  -0.132  -0.535\n",
      "2458895.864751 0.00002  -0.564  -0.542\n",
      "2458895.867331 0.00002  -0.470  -0.623\n",
      "2458895.869961 0.00002  -0.392  -0.271\n",
      "2458895.938711 0.00002  -0.379  -0.021\n",
      "2458895.940641 0.00002  -0.261  -0.153\n",
      "2458895.942571 0.00002  -0.486   0.183\n",
      "2458895.944501 0.00002  -0.468   0.286\n",
      "2458896.541335 0.00002  -1.579  -0.130\n",
      "2458896.547423 0.00002  -0.356   0.196\n",
      "2458896.551870 0.00002  -0.222   0.204\n",
      "2458896.555098 0.00002  -0.458  -0.250\n",
      "2458896.570878 0.00002  -0.483   0.523\n",
      "2458896.585743 0.00002  -0.295   0.204\n",
      "2458896.601527 0.00002  -0.494   0.563\n",
      "2458897.008801 0.00002  -0.796  -0.390\n",
      "2458897.010831 0.00002  -1.245   0.097\n",
      "2458897.012861 0.00002  -1.026  -0.539\n",
      "2458897.014891 0.00002  -0.702  -0.100\n",
      "2458897.480852 0.00002   0.275  -0.189\n",
      "2458897.499054 0.00002   0.184   0.214\n",
      "2458897.517258 0.00002   0.180   0.292\n",
      "2458897.915451 0.00002  -0.694  -0.212\n",
      "2458897.916031 0.00002  -0.774  -0.322\n",
      "2458897.916611 0.00002  -1.144   0.759\n",
      "2458897.917191 0.00002  -0.820   0.031\n",
      "2458898.802471 0.00003  -0.187  -0.751\n",
      "2458898.804721 0.00003  -0.921   0.775\n",
      "2458898.806981 0.00003  -1.401   0.227\n",
      "2458899.919611 0.00003  -0.607  -0.604\n",
      "2458899.920361 0.00003  -1.069  -0.006\n",
      "2458899.921121 0.00003  -1.316  -0.062\n",
      "2458899.921871 0.00003  -1.388  -0.990\n",
      "2458900.596702 0.00003  -0.209   0.255\n",
      "2458900.621293 0.00003  -0.119   0.584\n",
      "2458900.647069 0.00003  -0.604  -0.057\n",
      "2458900.673069 0.00003  -0.646   0.132\n",
      "2458900.697382 0.00003  -1.079   0.366\n",
      "2458900.792441 0.00003  -0.435  -0.406\n",
      "2458900.793311 0.00003  -0.996  -0.295\n",
      "2458900.795061 0.00003  -0.189   0.777\n",
      "2458907.143131 0.00004   0.531  -0.960\n",
      "2458907.144543 0.00004   0.546  -0.960\n",
      "2458907.145957 0.00004   0.579  -0.969\n",
      "2458909.978311 0.00005   0.748  -0.872\n",
      "2458909.980011 0.00005   1.503  -1.068\n",
      "2458909.981051 0.00005   0.625  -0.888\n"
     ]
    },
    {
     "name": "stdout",
     "output_type": "stream",
     "text": [
      "2458895.017041 0.00001   1.731  -1.274\n",
      "2458895.022131 0.00001   2.308  -1.142\n",
      "2458895.046271 0.00001   1.982   0.140\n",
      "2458895.046441 0.00001   1.542  -0.039\n",
      "2458895.046621 0.00001   1.758  -0.560\n",
      "2458895.046791 0.00001   1.766  -0.441\n",
      "2458895.496318 0.00001   1.769  -0.239\n",
      "2458895.498208 0.00001   1.359  -0.475\n",
      "2458895.500632 0.00001   1.390  -0.891\n",
      "2458895.504814 0.00001   1.711  -0.050\n",
      "2458895.506440 0.00001   1.430  -0.388\n",
      "2458895.864751 0.00002   0.902  -0.388\n",
      "2458895.867331 0.00002   0.995  -0.469\n",
      "2458895.869961 0.00002   1.073  -0.116\n",
      "2458895.938711 0.00002   1.067   0.136\n",
      "2458895.940641 0.00002   1.184   0.004\n",
      "2458895.942571 0.00002   0.959   0.340\n",
      "2458895.944501 0.00002   0.976   0.443\n",
      "2458896.541335 0.00002  -0.274   0.016\n",
      "2458896.547423 0.00002   0.947   0.342\n",
      "2458896.551870 0.00002   1.079   0.349\n",
      "2458896.555098 0.00002   0.843  -0.104\n",
      "2458896.570878 0.00002   0.814   0.668\n",
      "2458896.585743 0.00002   0.999   0.349\n",
      "2458896.601527 0.00002   0.797   0.709\n",
      "2458897.008801 0.00002   0.415  -0.248\n",
      "2458897.010831 0.00002  -0.035   0.239\n",
      "2458897.012861 0.00002   0.185  -0.397\n",
      "2458897.014891 0.00002   0.508   0.043\n",
      "2458897.480852 0.00002   1.404  -0.063\n",
      "2458897.499054 0.00002   1.310   0.340\n",
      "2458897.517258 0.00002   1.304   0.418\n",
      "2458897.915451 0.00002   0.372  -0.091\n",
      "2458897.916031 0.00002   0.292  -0.201\n",
      "2458897.916611 0.00002  -0.078   0.880\n",
      "2458897.917191 0.00002   0.245   0.152\n",
      "2458898.802471 0.00003   0.759  -0.648\n",
      "2458898.804721 0.00003   0.025   0.878\n",
      "2458898.806981 0.00003  -0.455   0.329\n",
      "2458899.919611 0.00003   0.222  -0.515\n",
      "2458899.920361 0.00003  -0.240   0.083\n",
      "2458899.921121 0.00003  -0.486   0.027\n",
      "2458899.921871 0.00003  -0.559  -0.901\n",
      "2458900.596702 0.00003   0.559   0.336\n",
      "2458900.621293 0.00003   0.647   0.664\n",
      "2458900.647069 0.00003   0.160   0.024\n",
      "2458900.673069 0.00003   0.115   0.213\n",
      "2458900.697382 0.00003  -0.320   0.447\n",
      "2458900.792441 0.00003   0.315  -0.328\n",
      "2458900.793311 0.00003  -0.246  -0.218\n",
      "2458900.795061 0.00003   0.561   0.854\n",
      "2458907.143131 0.00004   0.925  -0.911\n",
      "2458907.144543 0.00004   0.940  -0.911\n",
      "2458907.145957 0.00004   0.972  -0.919\n",
      "2458909.978311 0.00005   1.043  -0.825\n",
      "2458909.980011 0.00005   1.798  -1.021\n",
      "2458909.981051 0.00005   0.920  -0.842\n",
      "2458895.017041 0.00001   0.382   0.161\n",
      "2458895.022131 0.00001   0.961   0.291\n",
      "2458895.046271 0.00001   0.646   1.562\n",
      "2458895.046441 0.00001   0.206   1.383\n",
      "2458895.046621 0.00001   0.422   0.862\n",
      "2458895.046791 0.00001   0.430   0.981\n",
      "2458895.496318 0.00001   0.610   1.047\n",
      "2458895.498208 0.00001   0.200   0.810\n",
      "2458895.500632 0.00001   0.232   0.394\n",
      "2458895.504814 0.00001   0.553   1.234\n",
      "2458895.506440 0.00001   0.274   0.896\n",
      "2458895.864751 0.00002  -0.154   0.811\n",
      "2458895.867331 0.00002  -0.061   0.729\n",
      "2458895.869961 0.00002   0.018   1.081\n",
      "2458895.938711 0.00002   0.024   1.319\n",
      "2458895.940641 0.00002   0.142   1.187\n",
      "2458895.942571 0.00002  -0.083   1.522\n",
      "2458895.944501 0.00002  -0.066   1.625\n",
      "2458896.541335 0.00002  -1.182   1.079\n",
      "2458896.547423 0.00002   0.040   1.404\n",
      "2458896.551870 0.00002   0.174   1.408\n",
      "2458896.555098 0.00002  -0.063   0.957\n",
      "2458896.570878 0.00002  -0.088   1.724\n",
      "2458896.585743 0.00002   0.100   1.403\n",
      "2458896.601527 0.00002  -0.100   1.760\n",
      "2458897.008801 0.00002  -0.416   0.740\n",
      "2458897.010831 0.00002  -0.866   1.226\n",
      "2458897.012861 0.00002  -0.647   0.589\n",
      "2458897.014891 0.00002  -0.324   1.029\n",
      "2458897.480852 0.00002   0.649   0.856\n",
      "2458897.499054 0.00002   0.557   1.257\n",
      "2458897.517258 0.00002   0.552   1.333\n",
      "2458897.915451 0.00002  -0.334   0.777\n",
      "2458897.916031 0.00002  -0.414   0.667\n",
      "2458897.916611 0.00002  -0.785   1.748\n",
      "2458897.917191 0.00002  -0.461   1.020\n",
      "2458898.802471 0.00003   0.149   0.123\n",
      "2458898.804721 0.00003  -0.585   1.649\n",
      "2458898.806981 0.00003  -1.065   1.100\n",
      "2458899.919611 0.00003  -0.301   0.160\n",
      "2458899.920361 0.00003  -0.763   0.759\n",
      "2458899.921121 0.00003  -1.010   0.702\n",
      "2458899.921871 0.00003  -1.082  -0.225\n",
      "2458900.596702 0.00003   0.081   0.961\n",
      "2458900.621293 0.00003   0.170   1.287\n",
      "2458900.647069 0.00003  -0.315   0.646\n",
      "2458900.673069 0.00003  -0.359   0.832\n",
      "2458900.697382 0.00003  -0.794   1.065\n",
      "2458900.792441 0.00003  -0.148   0.281\n",
      "2458900.793311 0.00003  -0.709   0.392\n",
      "2458900.795061 0.00003   0.098   1.464\n",
      "2458907.143131 0.00004   0.707  -0.611\n",
      "2458907.144543 0.00004   0.723  -0.611\n",
      "2458907.145957 0.00004   0.755  -0.620\n",
      "2458909.978311 0.00005   0.892  -0.619\n",
      "2458909.980011 0.00005   1.647  -0.815\n",
      "2458909.981051 0.00005   0.769  -0.636\n",
      "2458895.017041 0.00001   1.340  -0.713\n",
      "2458895.022131 0.00001   1.917  -0.581\n",
      "2458895.046271 0.00001   1.586   0.705\n",
      "2458895.046441 0.00001   1.146   0.527\n",
      "2458895.046621 0.00001   1.362   0.006\n",
      "2458895.046791 0.00001   1.370   0.125\n",
      "2458895.496318 0.00001   1.456   0.335\n",
      "2458895.498208 0.00001   1.045   0.099\n",
      "2458895.500632 0.00001   1.076  -0.317\n",
      "2458895.504814 0.00001   1.395   0.524\n",
      "2458895.506440 0.00001   1.115   0.186\n",
      "2458895.864751 0.00002   0.531   0.142\n",
      "2458895.867331 0.00002   0.623   0.060\n",
      "2458895.869961 0.00002   0.700   0.412\n",
      "2458895.938711 0.00002   0.667   0.652\n",
      "2458895.940641 0.00002   0.784   0.519\n",
      "2458895.942571 0.00002   0.558   0.854\n",
      "2458895.944501 0.00002   0.574   0.958\n",
      "2458896.541335 0.00002  -0.800   0.382\n",
      "2458896.547423 0.00002   0.420   0.706\n",
      "2458896.551870 0.00002   0.553   0.709\n",
      "2458896.555098 0.00002   0.313   0.259\n",
      "2458896.570878 0.00002   0.282   1.024\n",
      "2458896.585743 0.00002   0.463   0.702\n",
      "2458896.601527 0.00002   0.255   1.057\n",
      "2458897.008801 0.00002  -0.230   0.000\n",
      "2458897.010831 0.00002  -0.681   0.486\n",
      "2458897.012861 0.00002  -0.462  -0.151\n",
      "2458897.014891 0.00002  -0.140   0.288\n",
      "2458897.480852 0.00002   0.657   0.066\n",
      "2458897.499054 0.00002   0.558   0.464\n",
      "2458897.517258 0.00002   0.546   0.538\n",
      "2458897.915451 0.00002  -0.484  -0.068\n",
      "2458897.916031 0.00002  -0.564  -0.178\n",
      "2458897.916611 0.00002  -0.934   0.903\n",
      "2458897.917191 0.00002  -0.610   0.175\n",
      "2458898.802471 0.00003  -0.292  -0.822\n",
      "2458898.804721 0.00003  -1.027   0.704\n",
      "2458898.806981 0.00003  -1.507   0.154\n",
      "2458899.919611 0.00003  -1.058  -0.915\n",
      "2458899.920361 0.00003  -1.520  -0.316\n",
      "2458899.921121 0.00003  -1.766  -0.373\n",
      "2458899.921871 0.00003  -1.839  -1.301\n",
      "2458900.596702 0.00003  -0.848  -0.183\n",
      "2458900.621293 0.00003  -0.763   0.140\n",
      "2458900.647069 0.00003  -1.254  -0.505\n",
      "2458900.673069 0.00003  -1.302  -0.322\n",
      "2458900.697382 0.00003  -1.740  -0.092\n",
      "2458900.792441 0.00003  -1.127  -0.876\n",
      "2458900.793311 0.00003  -1.688  -0.766\n",
      "2458900.795061 0.00003  -0.882   0.306\n",
      "2458907.143131 0.00004  -1.403  -2.297\n",
      "2458907.144543 0.00004  -1.387  -2.297\n",
      "2458907.145957 0.00004  -1.355  -2.306\n",
      "2458909.978311 0.00005  -1.592  -2.480\n",
      "2458909.980011 0.00005  -0.837  -2.677\n",
      "2458909.981051 0.00005  -1.715  -2.498\n",
      "2458895.017041 0.00001  -3.170  -1.085\n",
      "2458895.022131 0.00001  -2.576  -0.953\n",
      "2458895.046271 0.00001  -2.823   0.331\n",
      "2458895.046441 0.00001  -3.262   0.153\n",
      "2458895.046621 0.00001  -3.046  -0.368\n",
      "2458895.046791 0.00001  -3.037  -0.249\n",
      "2458895.496318 0.00001  -1.790   0.018\n",
      "2458895.498208 0.00001  -2.197  -0.218\n",
      "2458895.500632 0.00001  -2.161  -0.634\n",
      "2458895.504814 0.00001  -1.832   0.207\n",
      "2458895.506440 0.00001  -2.109  -0.131\n",
      "2458895.864751 0.00002  -1.916  -0.120\n",
      "2458895.867331 0.00002  -1.819  -0.202\n",
      "2458895.869961 0.00002  -1.737   0.151\n",
      "2458895.938711 0.00002  -1.633   0.398\n",
      "2458895.940641 0.00002  -1.512   0.266\n",
      "2458895.942571 0.00002  -1.735   0.602\n",
      "2458895.944501 0.00002  -1.715   0.705\n",
      "2458896.541335 0.00002  -2.058   0.240\n",
      "2458896.547423 0.00002  -0.829   0.565\n",
      "2458896.551870 0.00002  -0.688   0.571\n",
      "2458896.555098 0.00002  -0.924   0.119\n",
      "2458896.570878 0.00002  -0.930   0.888\n",
      "2458896.585743 0.00002  -0.727   0.568\n",
      "2458896.601527 0.00002  -0.911   0.926\n",
      "2458897.008801 0.00002  -0.826  -0.070\n",
      "2458897.010831 0.00002  -1.274   0.417\n",
      "2458897.012861 0.00002  -1.052  -0.220\n",
      "2458897.014891 0.00002  -0.727   0.219\n",
      "2458897.480852 0.00002   0.635   0.063\n",
      "2458897.499054 0.00002   0.557   0.464\n",
      "2458897.517258 0.00002   0.565   0.540\n",
      "2458897.915451 0.00002  -0.041  -0.017\n",
      "2458897.916031 0.00002  -0.120  -0.128\n",
      "2458897.916611 0.00002  -0.490   0.953\n",
      "2458897.917191 0.00002  -0.166   0.225\n",
      "2458898.802471 0.00003   0.951  -0.687\n",
      "2458898.804721 0.00003   0.218   0.839\n",
      "2458898.806981 0.00003  -0.260   0.290\n",
      "2458899.919611 0.00003   1.002  -0.696\n",
      "2458899.920361 0.00003   0.540  -0.097\n",
      "2458899.921121 0.00003   0.294  -0.153\n",
      "2458899.921871 0.00003   0.222  -1.081\n",
      "2458900.596702 0.00003   1.627   0.073\n",
      "2458900.621293 0.00003   1.727   0.399\n",
      "2458900.647069 0.00003   1.251  -0.244\n",
      "2458900.673069 0.00003   1.217  -0.059\n",
      "2458900.697382 0.00003   0.792   0.174\n",
      "2458900.792441 0.00003   1.454  -0.615\n",
      "2458900.793311 0.00003   0.894  -0.505\n",
      "2458900.795061 0.00003   1.702   0.567\n",
      "2458907.143131 0.00004   3.634  -1.843\n",
      "2458907.144543 0.00004   3.650  -1.843\n",
      "2458907.145957 0.00004   3.682  -1.852\n",
      "2458909.978311 0.00005   4.155  -1.980\n",
      "2458909.980011 0.00005   4.911  -2.176\n",
      "2458909.981051 0.00005   4.033  -1.997\n"
     ]
    },
    {
     "name": "stdout",
     "output_type": "stream",
     "text": [
      "2458895.017041 0.00001   0.363  -4.862\n",
      "2458895.022131 0.00001   0.943  -4.715\n",
      "2458895.046271 0.00001   0.628  -3.360\n",
      "2458895.046441 0.00001   0.188  -3.538\n",
      "2458895.046621 0.00001   0.404  -4.058\n",
      "2458895.046791 0.00001   0.412  -3.939\n",
      "2458895.496318 0.00001   0.606  -2.647\n",
      "2458895.498208 0.00001   0.196  -2.879\n",
      "2458895.500632 0.00001   0.228  -3.291\n",
      "2458895.504814 0.00001   0.550  -2.442\n",
      "2458895.506440 0.00001   0.270  -2.776\n",
      "2458895.864751 0.00002  -0.155  -2.121\n",
      "2458895.867331 0.00002  -0.062  -2.198\n",
      "2458895.869961 0.00002   0.016  -1.842\n",
      "2458895.938711 0.00002   0.023  -1.484\n",
      "2458895.940641 0.00002   0.141  -1.613\n",
      "2458895.942571 0.00002  -0.084  -1.274\n",
      "2458895.944501 0.00002  -0.067  -1.167\n",
      "2458896.541335 0.00002  -1.182  -0.785\n",
      "2458896.547423 0.00002   0.040  -0.453\n",
      "2458896.551870 0.00002   0.174  -0.440\n",
      "2458896.555098 0.00002  -0.063  -0.889\n",
      "2458896.570878 0.00002  -0.088  -0.099\n",
      "2458896.585743 0.00002   0.100  -0.402\n",
      "2458896.601527 0.00002  -0.100  -0.024\n",
      "2458897.008801 0.00002  -0.416  -0.556\n",
      "2458897.010831 0.00002  -0.866  -0.067\n",
      "2458897.012861 0.00002  -0.647  -0.701\n",
      "2458897.014891 0.00002  -0.324  -0.260\n",
      "2458897.480852 0.00002   0.649   0.046\n",
      "2458897.499054 0.00002   0.557   0.463\n",
      "2458897.517258 0.00002   0.552   0.556\n",
      "2458897.915451 0.00002  -0.334   0.343\n",
      "2458897.916031 0.00002  -0.414   0.234\n",
      "2458897.916611 0.00002  -0.785   1.315\n",
      "2458897.917191 0.00002  -0.460   0.587\n",
      "2458898.802471 0.00003   0.149   0.326\n",
      "2458898.804721 0.00003  -0.585   1.854\n",
      "2458898.806981 0.00003  -1.064   1.306\n",
      "2458899.919611 0.00003  -0.301   0.986\n",
      "2458899.920361 0.00003  -0.763   1.585\n",
      "2458899.921121 0.00003  -1.009   1.529\n",
      "2458899.921871 0.00003  -1.082   0.602\n",
      "2458900.596702 0.00003   0.082   2.096\n",
      "2458900.621293 0.00003   0.171   2.433\n",
      "2458900.647069 0.00003  -0.315   1.802\n",
      "2458900.673069 0.00003  -0.359   2.000\n",
      "2458900.697382 0.00003  -0.793   2.243\n",
      "2458900.792441 0.00003  -0.147   1.495\n",
      "2458900.793311 0.00003  -0.708   1.606\n",
      "2458900.795061 0.00003   0.099   2.679\n",
      "2458907.143131 0.00004   0.694   2.262\n",
      "2458907.144543 0.00004   0.709   2.262\n",
      "2458907.145957 0.00004   0.742   2.253\n",
      "2458909.978311 0.00005   0.863   2.673\n",
      "2458909.980011 0.00005   1.618   2.477\n",
      "2458909.981051 0.00005   0.740   2.656\n",
      "2458895.017041 0.00001   0.370  -1.232\n",
      "2458895.022131 0.00001   0.950  -1.100\n",
      "2458895.046271 0.00001   0.635   0.184\n",
      "2458895.046441 0.00001   0.195   0.005\n",
      "2458895.046621 0.00001   0.411  -0.516\n",
      "2458895.046791 0.00001   0.419  -0.397\n",
      "2458895.496318 0.00001   0.607  -0.159\n",
      "2458895.498208 0.00001   0.197  -0.395\n",
      "2458895.500632 0.00001   0.229  -0.811\n",
      "2458895.504814 0.00001   0.551   0.031\n",
      "2458895.506440 0.00001   0.271  -0.307\n",
      "2458895.864751 0.00002  -0.155  -0.289\n",
      "2458895.867331 0.00002  -0.062  -0.370\n",
      "2458895.869961 0.00002   0.017  -0.017\n",
      "2458895.938711 0.00002   0.023   0.236\n",
      "2458895.940641 0.00002   0.142   0.104\n",
      "2458895.942571 0.00002  -0.084   0.440\n",
      "2458895.944501 0.00002  -0.066   0.544\n",
      "2458896.541335 0.00002  -1.182   0.130\n",
      "2458896.547423 0.00002   0.040   0.456\n",
      "2458896.551870 0.00002   0.174   0.462\n",
      "2458896.555098 0.00002  -0.063   0.010\n",
      "2458896.570878 0.00002  -0.088   0.782\n",
      "2458896.585743 0.00002   0.100   0.463\n",
      "2458896.601527 0.00002  -0.100   0.823\n",
      "2458897.008801 0.00002  -0.416  -0.128\n",
      "2458897.010831 0.00002  -0.866   0.358\n",
      "2458897.012861 0.00002  -0.647  -0.278\n",
      "2458897.014891 0.00002  -0.324   0.162\n",
      "2458897.480852 0.00002   0.649   0.061\n",
      "2458897.499054 0.00002   0.557   0.464\n",
      "2458897.517258 0.00002   0.552   0.542\n",
      "2458897.915451 0.00002  -0.334   0.035\n",
      "2458897.916031 0.00002  -0.414  -0.075\n",
      "2458897.916611 0.00002  -0.785   1.006\n",
      "2458897.917191 0.00002  -0.460   0.277\n",
      "2458898.802471 0.00003   0.149  -0.522\n",
      "2458898.804721 0.00003  -0.585   1.004\n",
      "2458898.806981 0.00003  -1.064   0.455\n",
      "2458899.919611 0.00003  -0.300  -0.392\n",
      "2458899.920361 0.00003  -0.762   0.206\n",
      "2458899.921121 0.00003  -1.008   0.150\n",
      "2458899.921871 0.00003  -1.081  -0.778\n",
      "2458900.596702 0.00003   0.084   0.456\n",
      "2458900.621293 0.00003   0.173   0.784\n",
      "2458900.647069 0.00003  -0.313   0.144\n",
      "2458900.673069 0.00003  -0.356   0.332\n",
      "2458900.697382 0.00003  -0.791   0.567\n",
      "2458900.792441 0.00003  -0.145  -0.209\n",
      "2458900.793311 0.00003  -0.706  -0.098\n",
      "2458900.795061 0.00003   0.101   0.974\n",
      "2458907.143131 0.00004   0.727  -0.819\n",
      "2458907.144543 0.00004   0.742  -0.819\n",
      "2458907.145957 0.00004   0.774  -0.828\n",
      "2458909.978311 0.00005   0.920  -0.745\n",
      "2458909.980011 0.00005   1.675  -0.941\n",
      "2458909.981051 0.00005   0.797  -0.762\n",
      "2458895.017041 0.00001   0.370  -1.232\n",
      "2458895.022131 0.00001   0.950  -1.100\n",
      "2458895.046271 0.00001   0.635   0.184\n",
      "2458895.046441 0.00001   0.195   0.005\n",
      "2458895.046621 0.00001   0.411  -0.516\n",
      "2458895.046791 0.00001   0.419  -0.397\n",
      "2458895.496318 0.00001   0.607  -0.159\n",
      "2458895.498208 0.00001   0.197  -0.395\n",
      "2458895.500632 0.00001   0.229  -0.811\n",
      "2458895.504814 0.00001   0.551   0.031\n",
      "2458895.506440 0.00001   0.271  -0.307\n",
      "2458895.864751 0.00002  -0.155  -0.289\n",
      "2458895.867331 0.00002  -0.062  -0.370\n",
      "2458895.869961 0.00002   0.017  -0.017\n",
      "2458895.938711 0.00002   0.023   0.236\n",
      "2458895.940641 0.00002   0.142   0.104\n",
      "2458895.942571 0.00002  -0.084   0.440\n",
      "2458895.944501 0.00002  -0.066   0.544\n",
      "2458896.541335 0.00002  -1.182   0.130\n",
      "2458896.547423 0.00002   0.040   0.456\n",
      "2458896.551870 0.00002   0.174   0.462\n",
      "2458896.555098 0.00002  -0.063   0.010\n",
      "2458896.570878 0.00002  -0.088   0.782\n",
      "2458896.585743 0.00002   0.100   0.463\n",
      "2458896.601527 0.00002  -0.100   0.823\n",
      "2458897.008801 0.00002  -0.416  -0.128\n",
      "2458897.010831 0.00002  -0.866   0.358\n",
      "2458897.012861 0.00002  -0.647  -0.278\n",
      "2458897.014891 0.00002  -0.324   0.162\n",
      "2458897.480852 0.00002   0.649   0.061\n",
      "2458897.499054 0.00002   0.557   0.464\n",
      "2458897.517258 0.00002   0.552   0.542\n",
      "2458897.915451 0.00002  -0.334   0.035\n",
      "2458897.916031 0.00002  -0.414  -0.075\n",
      "2458897.916611 0.00002  -0.785   1.006\n",
      "2458897.917191 0.00002  -0.460   0.277\n",
      "2458898.802471 0.00003   0.150  -0.522\n",
      "2458898.804721 0.00003  -0.585   1.004\n",
      "2458898.806981 0.00003  -1.064   0.455\n",
      "2458899.919611 0.00003  -0.300  -0.392\n",
      "2458899.920361 0.00003  -0.762   0.206\n",
      "2458899.921121 0.00003  -1.008   0.150\n",
      "2458899.921871 0.00003  -1.081  -0.778\n",
      "2458900.596702 0.00003   0.084   0.456\n",
      "2458900.621293 0.00003   0.173   0.784\n",
      "2458900.647069 0.00003  -0.313   0.144\n",
      "2458900.673069 0.00003  -0.356   0.332\n",
      "2458900.697382 0.00003  -0.791   0.567\n",
      "2458900.792441 0.00003  -0.145  -0.209\n",
      "2458900.793311 0.00003  -0.706  -0.098\n",
      "2458900.795061 0.00003   0.101   0.974\n",
      "2458907.143131 0.00004   0.727  -0.819\n",
      "2458907.144543 0.00004   0.742  -0.819\n",
      "2458907.145957 0.00004   0.774  -0.828\n",
      "2458909.978311 0.00005   0.920  -0.745\n",
      "2458909.980011 0.00005   1.675  -0.941\n",
      "2458909.981051 0.00005   0.797  -0.762\n",
      "2458895.017041 0.00001   0.370  -1.232\n",
      "2458895.022131 0.00001   0.950  -1.100\n",
      "2458895.046271 0.00001   0.635   0.184\n",
      "2458895.046441 0.00001   0.195   0.005\n",
      "2458895.046621 0.00001   0.411  -0.516\n",
      "2458895.046791 0.00001   0.419  -0.397\n",
      "2458895.496318 0.00001   0.607  -0.159\n",
      "2458895.498208 0.00001   0.197  -0.395\n",
      "2458895.500632 0.00001   0.229  -0.811\n",
      "2458895.504814 0.00001   0.551   0.031\n",
      "2458895.506440 0.00001   0.271  -0.307\n",
      "2458895.864751 0.00002  -0.155  -0.289\n",
      "2458895.867331 0.00002  -0.062  -0.370\n",
      "2458895.869961 0.00002   0.017  -0.017\n",
      "2458895.938711 0.00002   0.023   0.236\n",
      "2458895.940641 0.00002   0.142   0.104\n",
      "2458895.942571 0.00002  -0.084   0.440\n",
      "2458895.944501 0.00002  -0.066   0.544\n",
      "2458896.541335 0.00002  -1.182   0.130\n",
      "2458896.547423 0.00002   0.040   0.456\n",
      "2458896.551870 0.00002   0.174   0.462\n",
      "2458896.555098 0.00002  -0.063   0.010\n",
      "2458896.570878 0.00002  -0.088   0.782\n",
      "2458896.585743 0.00002   0.100   0.463\n",
      "2458896.601527 0.00002  -0.100   0.823\n",
      "2458897.008801 0.00002  -0.416  -0.128\n",
      "2458897.010831 0.00002  -0.866   0.358\n",
      "2458897.012861 0.00002  -0.647  -0.278\n",
      "2458897.014891 0.00002  -0.324   0.162\n",
      "2458897.480852 0.00002   0.649   0.061\n",
      "2458897.499054 0.00002   0.557   0.464\n",
      "2458897.517258 0.00002   0.552   0.542\n",
      "2458897.915451 0.00002  -0.334   0.035\n",
      "2458897.916031 0.00002  -0.414  -0.075\n",
      "2458897.916611 0.00002  -0.784   1.006\n",
      "2458897.917191 0.00002  -0.460   0.277\n",
      "2458898.802471 0.00003   0.150  -0.522\n",
      "2458898.804721 0.00003  -0.585   1.004\n",
      "2458898.806981 0.00003  -1.064   0.455\n",
      "2458899.919611 0.00003  -0.300  -0.392\n",
      "2458899.920361 0.00003  -0.762   0.206\n",
      "2458899.921121 0.00003  -1.008   0.150\n",
      "2458899.921871 0.00003  -1.081  -0.778\n",
      "2458900.596702 0.00003   0.084   0.456\n",
      "2458900.621293 0.00003   0.173   0.784\n",
      "2458900.647069 0.00003  -0.313   0.144\n",
      "2458900.673069 0.00003  -0.356   0.332\n",
      "2458900.697382 0.00003  -0.791   0.567\n",
      "2458900.792441 0.00003  -0.145  -0.209\n",
      "2458900.793311 0.00003  -0.706  -0.098\n",
      "2458900.795061 0.00003   0.101   0.974\n",
      "2458907.143131 0.00004   0.727  -0.819\n",
      "2458907.144543 0.00004   0.742  -0.819\n",
      "2458907.145957 0.00004   0.774  -0.828\n",
      "2458909.978311 0.00005   0.920  -0.745\n",
      "2458909.980011 0.00005   1.675  -0.941\n",
      "2458909.981051 0.00005   0.797  -0.762\n"
     ]
    },
    {
     "name": "stdout",
     "output_type": "stream",
     "text": [
      "2458895.017041 0.00001   0.370  -1.232\n",
      "2458895.022131 0.00001   0.950  -1.100\n",
      "2458895.046271 0.00001   0.635   0.184\n",
      "2458895.046441 0.00001   0.195   0.005\n",
      "2458895.046621 0.00001   0.411  -0.516\n",
      "2458895.046791 0.00001   0.419  -0.397\n",
      "2458895.496318 0.00001   0.607  -0.159\n",
      "2458895.498208 0.00001   0.197  -0.395\n",
      "2458895.500632 0.00001   0.229  -0.811\n",
      "2458895.504814 0.00001   0.551   0.031\n",
      "2458895.506440 0.00001   0.271  -0.307\n",
      "2458895.864751 0.00002  -0.155  -0.289\n",
      "2458895.867331 0.00002  -0.062  -0.370\n",
      "2458895.869961 0.00002   0.017  -0.017\n",
      "2458895.938711 0.00002   0.023   0.236\n",
      "2458895.940641 0.00002   0.142   0.104\n",
      "2458895.942571 0.00002  -0.084   0.440\n",
      "2458895.944501 0.00002  -0.066   0.544\n",
      "2458896.541335 0.00002  -1.182   0.130\n",
      "2458896.547423 0.00002   0.040   0.456\n",
      "2458896.551870 0.00002   0.174   0.462\n",
      "2458896.555098 0.00002  -0.063   0.010\n",
      "2458896.570878 0.00002  -0.088   0.782\n",
      "2458896.585743 0.00002   0.100   0.463\n",
      "2458896.601527 0.00002  -0.100   0.822\n",
      "2458897.008801 0.00002  -0.416  -0.128\n",
      "2458897.010831 0.00002  -0.866   0.358\n",
      "2458897.012861 0.00002  -0.647  -0.278\n",
      "2458897.014891 0.00002  -0.324   0.162\n",
      "2458897.480852 0.00002   0.649   0.061\n",
      "2458897.499054 0.00002   0.557   0.464\n",
      "2458897.517258 0.00002   0.552   0.542\n",
      "2458897.915451 0.00002  -0.334   0.035\n",
      "2458897.916031 0.00002  -0.414  -0.075\n",
      "2458897.916611 0.00002  -0.784   1.006\n",
      "2458897.917191 0.00002  -0.460   0.277\n",
      "2458898.802471 0.00003   0.150  -0.522\n",
      "2458898.804721 0.00003  -0.585   1.004\n",
      "2458898.806981 0.00003  -1.064   0.455\n",
      "2458899.919611 0.00003  -0.300  -0.392\n",
      "2458899.920361 0.00003  -0.762   0.206\n",
      "2458899.921121 0.00003  -1.008   0.150\n",
      "2458899.921871 0.00003  -1.081  -0.778\n",
      "2458900.596702 0.00003   0.084   0.456\n",
      "2458900.621293 0.00003   0.173   0.784\n",
      "2458900.647069 0.00003  -0.313   0.144\n",
      "2458900.673069 0.00003  -0.356   0.332\n",
      "2458900.697382 0.00003  -0.791   0.567\n",
      "2458900.792441 0.00003  -0.145  -0.209\n",
      "2458900.793311 0.00003  -0.706  -0.098\n",
      "2458900.795061 0.00003   0.101   0.974\n",
      "2458907.143131 0.00004   0.727  -0.819\n",
      "2458907.144543 0.00004   0.742  -0.819\n",
      "2458907.145957 0.00004   0.774  -0.828\n",
      "2458909.978311 0.00005   0.920  -0.745\n",
      "2458909.980011 0.00005   1.675  -0.941\n",
      "2458909.981051 0.00005   0.797  -0.762\n",
      "2458895.017041 0.00001   0.370  -1.232\n",
      "2458895.022131 0.00001   0.950  -1.100\n",
      "2458895.046271 0.00001   0.635   0.184\n",
      "2458895.046441 0.00001   0.195   0.005\n",
      "2458895.046621 0.00001   0.411  -0.516\n",
      "2458895.046791 0.00001   0.419  -0.397\n",
      "2458895.496318 0.00001   0.607  -0.159\n",
      "2458895.498208 0.00001   0.197  -0.395\n",
      "2458895.500632 0.00001   0.229  -0.811\n",
      "2458895.504814 0.00001   0.551   0.031\n",
      "2458895.506440 0.00001   0.271  -0.307\n",
      "2458895.864751 0.00002  -0.155  -0.289\n",
      "2458895.867331 0.00002  -0.062  -0.370\n",
      "2458895.869961 0.00002   0.017  -0.017\n",
      "2458895.938711 0.00002   0.023   0.236\n",
      "2458895.940641 0.00002   0.142   0.104\n",
      "2458895.942571 0.00002  -0.084   0.440\n",
      "2458895.944501 0.00002  -0.066   0.544\n",
      "2458896.541335 0.00002  -1.182   0.130\n",
      "2458896.547423 0.00002   0.040   0.456\n",
      "2458896.551870 0.00002   0.174   0.462\n",
      "2458896.555098 0.00002  -0.063   0.010\n",
      "2458896.570878 0.00002  -0.088   0.782\n",
      "2458896.585743 0.00002   0.100   0.463\n",
      "2458896.601527 0.00002  -0.100   0.823\n",
      "2458897.008801 0.00002  -0.416  -0.128\n",
      "2458897.010831 0.00002  -0.866   0.358\n",
      "2458897.012861 0.00002  -0.647  -0.278\n",
      "2458897.014891 0.00002  -0.324   0.162\n",
      "2458897.480852 0.00002   0.649   0.061\n",
      "2458897.499054 0.00002   0.557   0.464\n",
      "2458897.517258 0.00002   0.552   0.542\n",
      "2458897.915451 0.00002  -0.334   0.035\n",
      "2458897.916031 0.00002  -0.414  -0.075\n",
      "2458897.916611 0.00002  -0.784   1.006\n",
      "2458897.917191 0.00002  -0.460   0.277\n",
      "2458898.802471 0.00003   0.150  -0.522\n",
      "2458898.804721 0.00003  -0.585   1.004\n",
      "2458898.806981 0.00003  -1.064   0.455\n",
      "2458899.919611 0.00003  -0.300  -0.392\n",
      "2458899.920361 0.00003  -0.762   0.206\n",
      "2458899.921121 0.00003  -1.008   0.150\n",
      "2458899.921871 0.00003  -1.081  -0.778\n",
      "2458900.596702 0.00003   0.084   0.456\n",
      "2458900.621293 0.00003   0.173   0.784\n",
      "2458900.647069 0.00003  -0.313   0.144\n",
      "2458900.673069 0.00003  -0.356   0.332\n",
      "2458900.697382 0.00003  -0.791   0.567\n",
      "2458900.792441 0.00003  -0.145  -0.209\n",
      "2458900.793311 0.00003  -0.706  -0.098\n",
      "2458900.795061 0.00003   0.101   0.974\n",
      "2458907.143131 0.00004   0.727  -0.819\n",
      "2458907.144543 0.00004   0.742  -0.819\n",
      "2458907.145957 0.00004   0.774  -0.828\n",
      "2458909.978311 0.00005   0.920  -0.745\n",
      "2458909.980011 0.00005   1.675  -0.941\n",
      "2458909.981051 0.00005   0.797  -0.762\n",
      "2458895.017041 0.00001   0.370  -1.232\n",
      "2458895.022131 0.00001   0.950  -1.100\n",
      "2458895.046271 0.00001   0.635   0.184\n",
      "2458895.046441 0.00001   0.195   0.005\n",
      "2458895.046621 0.00001   0.411  -0.516\n",
      "2458895.046791 0.00001   0.419  -0.397\n",
      "2458895.496318 0.00001   0.607  -0.159\n",
      "2458895.498208 0.00001   0.197  -0.395\n",
      "2458895.500632 0.00001   0.229  -0.811\n",
      "2458895.504814 0.00001   0.551   0.031\n",
      "2458895.506440 0.00001   0.271  -0.307\n",
      "2458895.864751 0.00002  -0.155  -0.289\n",
      "2458895.867331 0.00002  -0.062  -0.370\n",
      "2458895.869961 0.00002   0.017  -0.017\n",
      "2458895.938711 0.00002   0.023   0.236\n",
      "2458895.940641 0.00002   0.142   0.104\n",
      "2458895.942571 0.00002  -0.084   0.440\n",
      "2458895.944501 0.00002  -0.066   0.544\n",
      "2458896.541335 0.00002  -1.182   0.130\n",
      "2458896.547423 0.00002   0.040   0.456\n",
      "2458896.551870 0.00002   0.174   0.462\n",
      "2458896.555098 0.00002  -0.063   0.010\n",
      "2458896.570878 0.00002  -0.088   0.782\n",
      "2458896.585743 0.00002   0.100   0.463\n",
      "2458896.601527 0.00002  -0.100   0.823\n",
      "2458897.008801 0.00002  -0.416  -0.128\n",
      "2458897.010831 0.00002  -0.866   0.358\n",
      "2458897.012861 0.00002  -0.647  -0.278\n",
      "2458897.014891 0.00002  -0.324   0.162\n",
      "2458897.480852 0.00002   0.649   0.061\n",
      "2458897.499054 0.00002   0.557   0.464\n",
      "2458897.517258 0.00002   0.552   0.542\n",
      "2458897.915451 0.00002  -0.334   0.035\n",
      "2458897.916031 0.00002  -0.414  -0.075\n",
      "2458897.916611 0.00002  -0.784   1.006\n",
      "2458897.917191 0.00002  -0.460   0.277\n",
      "2458898.802471 0.00003   0.150  -0.522\n",
      "2458898.804721 0.00003  -0.585   1.004\n",
      "2458898.806981 0.00003  -1.064   0.455\n",
      "2458899.919611 0.00003  -0.300  -0.392\n",
      "2458899.920361 0.00003  -0.762   0.206\n",
      "2458899.921121 0.00003  -1.008   0.150\n",
      "2458899.921871 0.00003  -1.081  -0.778\n",
      "2458900.596702 0.00003   0.084   0.456\n",
      "2458900.621293 0.00003   0.173   0.784\n",
      "2458900.647069 0.00003  -0.313   0.144\n",
      "2458900.673069 0.00003  -0.356   0.332\n",
      "2458900.697382 0.00003  -0.791   0.567\n",
      "2458900.792441 0.00003  -0.145  -0.209\n",
      "2458900.793311 0.00003  -0.706  -0.098\n",
      "2458900.795061 0.00003   0.101   0.974\n",
      "2458907.143131 0.00004   0.727  -0.819\n",
      "2458907.144543 0.00004   0.742  -0.819\n",
      "2458907.145957 0.00004   0.774  -0.828\n",
      "2458909.978311 0.00005   0.920  -0.745\n",
      "2458909.980011 0.00005   1.675  -0.941\n",
      "2458909.981051 0.00005   0.797  -0.762\n",
      "2458895.017041 0.00001   0.370  -1.232\n",
      "2458895.022131 0.00001   0.950  -1.100\n",
      "2458895.046271 0.00001   0.635   0.184\n",
      "2458895.046441 0.00001   0.195   0.005\n",
      "2458895.046621 0.00001   0.411  -0.516\n",
      "2458895.046791 0.00001   0.419  -0.397\n",
      "2458895.496318 0.00001   0.607  -0.159\n",
      "2458895.498208 0.00001   0.197  -0.395\n",
      "2458895.500632 0.00001   0.229  -0.811\n",
      "2458895.504814 0.00001   0.551   0.031\n",
      "2458895.506440 0.00001   0.271  -0.307\n",
      "2458895.864751 0.00002  -0.155  -0.289\n",
      "2458895.867331 0.00002  -0.062  -0.370\n",
      "2458895.869961 0.00002   0.017  -0.017\n",
      "2458895.938711 0.00002   0.023   0.236\n",
      "2458895.940641 0.00002   0.142   0.104\n",
      "2458895.942571 0.00002  -0.084   0.440\n",
      "2458895.944501 0.00002  -0.066   0.544\n",
      "2458896.541335 0.00002  -1.182   0.130\n",
      "2458896.547423 0.00002   0.040   0.456\n",
      "2458896.551870 0.00002   0.174   0.462\n",
      "2458896.555098 0.00002  -0.063   0.010\n",
      "2458896.570878 0.00002  -0.088   0.782\n",
      "2458896.585743 0.00002   0.100   0.463\n",
      "2458896.601527 0.00002  -0.100   0.822\n",
      "2458897.008801 0.00002  -0.416  -0.128\n",
      "2458897.010831 0.00002  -0.866   0.358\n",
      "2458897.012861 0.00002  -0.647  -0.278\n",
      "2458897.014891 0.00002  -0.324   0.162\n",
      "2458897.480852 0.00002   0.649   0.061\n",
      "2458897.499054 0.00002   0.557   0.464\n",
      "2458897.517258 0.00002   0.552   0.542\n",
      "2458897.915451 0.00002  -0.334   0.035\n",
      "2458897.916031 0.00002  -0.414  -0.075\n",
      "2458897.916611 0.00002  -0.784   1.006\n",
      "2458897.917191 0.00002  -0.460   0.277\n",
      "2458898.802471 0.00003   0.150  -0.522\n",
      "2458898.804721 0.00003  -0.585   1.004\n",
      "2458898.806981 0.00003  -1.064   0.455\n",
      "2458899.919611 0.00003  -0.300  -0.392\n",
      "2458899.920361 0.00003  -0.762   0.206\n",
      "2458899.921121 0.00003  -1.008   0.150\n",
      "2458899.921871 0.00003  -1.081  -0.778\n",
      "2458900.596702 0.00003   0.084   0.456\n",
      "2458900.621293 0.00003   0.173   0.784\n",
      "2458900.647069 0.00003  -0.313   0.144\n",
      "2458900.673069 0.00003  -0.356   0.332\n",
      "2458900.697382 0.00003  -0.791   0.567\n",
      "2458900.792441 0.00003  -0.145  -0.209\n",
      "2458900.793311 0.00003  -0.706  -0.098\n",
      "2458900.795061 0.00003   0.101   0.974\n",
      "2458907.143131 0.00004   0.727  -0.819\n",
      "2458907.144543 0.00004   0.742  -0.819\n",
      "2458907.145957 0.00004   0.774  -0.828\n",
      "2458909.978311 0.00005   0.920  -0.745\n",
      "2458909.980011 0.00005   1.675  -0.941\n",
      "2458909.981051 0.00005   0.797  -0.762\n",
      " "
     ]
    }
   ],
   "source": [
    "%%prun\n",
    "results = least_squares(residuals, np.array(row), args=(obs, tstart, tend), xtol=1e-12)"
   ]
  },
  {
   "cell_type": "code",
   "execution_count": 70,
   "metadata": {},
   "outputs": [
    {
     "data": {
      "text/plain": [
       "(array([-0.00311851, -0.00151268,  0.00124006, -0.00037891, -0.00033697,\n",
       "         0.00032805]),\n",
       " [-0.003118500479970055,\n",
       "  -0.001512873873465409,\n",
       "  0.001239844826099388,\n",
       "  -0.0003789003661569063,\n",
       "  -0.0003369885641555601,\n",
       "  0.0003279972338540866])"
      ]
     },
     "execution_count": 70,
     "metadata": {},
     "output_type": "execute_result"
    }
   ],
   "source": [
    "results.x, row"
   ]
  },
  {
   "cell_type": "code",
   "execution_count": 71,
   "metadata": {},
   "outputs": [
    {
     "data": {
      "text/plain": [
       "array([-1.97997083, 28.35854827, 31.62095522, -2.19392709,  3.1790456 ,\n",
       "        7.21056176])"
      ]
     },
     "execution_count": 71,
     "metadata": {},
     "output_type": "execute_result"
    }
   ],
   "source": [
    "(results.x - instates[0])*1.5e8"
   ]
  },
  {
   "cell_type": "code",
   "execution_count": 72,
   "metadata": {},
   "outputs": [
    {
     "name": "stdout",
     "output_type": "stream",
     "text": [
      "2458895.017041 0.00001  11.816  -9.917\n",
      "2458895.022131 0.00001  12.390  -9.800\n",
      "2458895.046271 0.00001  12.043  -8.588\n",
      "2458895.046441 0.00001  11.603  -8.767\n",
      "2458895.046621 0.00001  11.818  -9.289\n",
      "2458895.046791 0.00001  11.826  -9.171\n",
      "2458895.496318 0.00001  11.426 -10.240\n",
      "2458895.498208 0.00001  11.017 -10.481\n",
      "2458895.500632 0.00001  11.049 -10.904\n",
      "2458895.504814 0.00001  11.371 -10.074\n",
      "2458895.506440 0.00001  11.091 -10.416\n",
      "2458895.864751 0.00002  10.428 -11.146\n",
      "2458895.867331 0.00002  10.522 -11.233\n",
      "2458895.869961 0.00002  10.601 -10.886\n",
      "2458895.938711 0.00002  10.617 -10.756\n",
      "2458895.940641 0.00002  10.735 -10.891\n",
      "2458895.942571 0.00002  10.509 -10.558\n",
      "2458895.944501 0.00002  10.527 -10.458\n",
      "2458896.541335 0.00002   9.069 -11.646\n",
      "2458896.547423 0.00002  10.292 -11.327\n",
      "2458896.551870 0.00002  10.401 -11.307\n",
      "2458896.555098 0.00002  10.190 -11.782\n",
      "2458896.570878 0.00002  10.141 -11.013\n",
      "2458896.585743 0.00002  10.330 -11.350\n",
      "2458896.601527 0.00002  10.130 -11.009\n",
      "2458897.008801 0.00002   9.710 -12.353\n",
      "2458897.010831 0.00002   9.259 -11.867\n",
      "2458897.012861 0.00002   9.479 -12.505\n",
      "2458897.014891 0.00002   9.801 -12.066\n",
      "2458897.480852 0.00002  10.526 -12.481\n",
      "2458897.499054 0.00002  10.440 -12.100\n",
      "2458897.517258 0.00002  10.441 -12.043\n",
      "2458897.915451 0.00002   9.508 -12.811\n",
      "2458897.916031 0.00002   9.428 -12.921\n",
      "2458897.916611 0.00002   9.058 -11.841\n",
      "2458897.917191 0.00002   9.382 -12.569\n",
      "2458898.802471 0.00003   9.767 -13.728\n",
      "2458898.804721 0.00003   9.034 -12.203\n",
      "2458898.806981 0.00003   8.555 -12.754\n",
      "2458899.919611 0.00003   9.218 -13.948\n",
      "2458899.920361 0.00003   8.756 -13.350\n",
      "2458899.921121 0.00003   8.510 -13.406\n",
      "2458899.921871 0.00003   8.437 -14.334\n",
      "2458900.596702 0.00003   9.528 -13.234\n",
      "2458900.621293 0.00003   9.622 -12.911\n",
      "2458900.647069 0.00003   9.140 -13.554\n",
      "2458900.673069 0.00003   9.098 -13.367\n",
      "2458900.697382 0.00003   8.664 -13.132\n",
      "2458900.792441 0.00003   9.245 -13.907\n",
      "2458900.793311 0.00003   8.685 -13.797\n",
      "2458900.795061 0.00003   9.492 -12.726\n",
      "2458907.143131 0.00004  10.021 -14.740\n",
      "2458907.144543 0.00004  10.036 -14.739\n",
      "2458907.145957 0.00004  10.068 -14.748\n",
      "2458909.978311 0.00005  10.279 -14.516\n",
      "2458909.980011 0.00005  11.034 -14.712\n",
      "2458909.981051 0.00005  10.156 -14.532\n",
      "2458895.017041 0.00001   0.370  -1.232\n",
      "2458895.022131 0.00001   0.950  -1.100\n",
      "2458895.046271 0.00001   0.635   0.184\n",
      "2458895.046441 0.00001   0.195   0.005\n",
      "2458895.046621 0.00001   0.411  -0.516\n",
      "2458895.046791 0.00001   0.419  -0.397\n",
      "2458895.496318 0.00001   0.607  -0.159\n",
      "2458895.498208 0.00001   0.197  -0.395\n",
      "2458895.500632 0.00001   0.229  -0.811\n",
      "2458895.504814 0.00001   0.551   0.031\n",
      "2458895.506440 0.00001   0.271  -0.307\n",
      "2458895.864751 0.00002  -0.155  -0.289\n",
      "2458895.867331 0.00002  -0.062  -0.370\n",
      "2458895.869961 0.00002   0.017  -0.017\n",
      "2458895.938711 0.00002   0.023   0.236\n",
      "2458895.940641 0.00002   0.142   0.104\n",
      "2458895.942571 0.00002  -0.084   0.440\n",
      "2458895.944501 0.00002  -0.066   0.544\n",
      "2458896.541335 0.00002  -1.182   0.130\n",
      "2458896.547423 0.00002   0.040   0.456\n",
      "2458896.551870 0.00002   0.174   0.462\n",
      "2458896.555098 0.00002  -0.063   0.010\n",
      "2458896.570878 0.00002  -0.088   0.782\n",
      "2458896.585743 0.00002   0.100   0.463\n",
      "2458896.601527 0.00002  -0.100   0.823\n",
      "2458897.008801 0.00002  -0.416  -0.128\n",
      "2458897.010831 0.00002  -0.866   0.358\n",
      "2458897.012861 0.00002  -0.647  -0.278\n",
      "2458897.014891 0.00002  -0.324   0.162\n",
      "2458897.480852 0.00002   0.649   0.061\n",
      "2458897.499054 0.00002   0.557   0.464\n",
      "2458897.517258 0.00002   0.552   0.542\n",
      "2458897.915451 0.00002  -0.334   0.035\n",
      "2458897.916031 0.00002  -0.414  -0.075\n",
      "2458897.916611 0.00002  -0.784   1.006\n",
      "2458897.917191 0.00002  -0.460   0.277\n",
      "2458898.802471 0.00003   0.150  -0.522\n",
      "2458898.804721 0.00003  -0.585   1.004\n",
      "2458898.806981 0.00003  -1.064   0.455\n",
      "2458899.919611 0.00003  -0.300  -0.392\n",
      "2458899.920361 0.00003  -0.762   0.206\n",
      "2458899.921121 0.00003  -1.008   0.150\n",
      "2458899.921871 0.00003  -1.081  -0.778\n",
      "2458900.596702 0.00003   0.084   0.456\n",
      "2458900.621293 0.00003   0.173   0.784\n",
      "2458900.647069 0.00003  -0.313   0.144\n",
      "2458900.673069 0.00003  -0.356   0.332\n",
      "2458900.697382 0.00003  -0.791   0.567\n",
      "2458900.792441 0.00003  -0.145  -0.209\n",
      "2458900.793311 0.00003  -0.706  -0.098\n",
      "2458900.795061 0.00003   0.101   0.974\n",
      "2458907.143131 0.00004   0.727  -0.819\n",
      "2458907.144543 0.00004   0.742  -0.819\n",
      "2458907.145957 0.00004   0.774  -0.828\n",
      "2458909.978311 0.00005   0.920  -0.745\n",
      "2458909.980011 0.00005   1.675  -0.941\n",
      "2458909.981051 0.00005   0.797  -0.762\n",
      "CPU times: user 252 ms, sys: 30.4 ms, total: 283 ms\n",
      "Wall time: 268 ms\n"
     ]
    }
   ],
   "source": [
    "%%time\n",
    "res0 = np.array(residuals(np.array(row).reshape(1, 6), obs, tstart, tend, geocentric=True))*206265\n",
    "res1 = np.array(residuals(results.x, obs, tstart, tend))*206265"
   ]
  },
  {
   "cell_type": "code",
   "execution_count": 74,
   "metadata": {},
   "outputs": [
    {
     "data": {
      "text/plain": [
       "(-0.968962945412066,\n",
       " 11.162027010931878,\n",
       " -0.002281606721271617,\n",
       " 0.5696466239852355)"
      ]
     },
     "execution_count": 74,
     "metadata": {},
     "output_type": "execute_result"
    }
   ],
   "source": [
    "res0.mean(), res0.std(), res1.mean(), res1.std()"
   ]
  },
  {
   "cell_type": "code",
   "execution_count": 75,
   "metadata": {},
   "outputs": [
    {
     "data": {
      "text/plain": [
       "([-0.003118500479970055,\n",
       "  -0.001512873873465409,\n",
       "  0.001239844826099388,\n",
       "  -0.0003789003661569063,\n",
       "  -0.0003369885641555601,\n",
       "  0.0003279972338540866],)"
      ]
     },
     "execution_count": 75,
     "metadata": {},
     "output_type": "execute_result"
    }
   ],
   "source": [
    "row, "
   ]
  },
  {
   "cell_type": "code",
   "execution_count": 100,
   "metadata": {},
   "outputs": [],
   "source": [
    "instates_res = np.array([results.x.tolist()])\n",
    "\n",
    "n_particles = 1\n",
    "\n",
    "tstart, tstep, tend = 2458694.500000000, 2, 2459232.50\n",
    "\n",
    "epoch = 2458897.500000000\n",
    "\n",
    "timesp, statesp, varp, varp_ng, statusp = ephem_forces.production_integration_function_wrapper(tstart, tend, epoch, instates_res, tstep=2.0, geocentric=1)#, epsilon=1e-8, tstep=20)\n",
    "\n",
    "tstart, tstep, tend = 2458894.500000000, 2, 2458932.50\n",
    "timesf, statesf, varf, varf_ng, statusf = ephem_forces.production_integration_function_wrapper(tstart, tend, epoch, instates_res, tstep=2.0, geocentric=1)#, epsilon=1e-8, tstep=20)\n"
   ]
  },
  {
   "cell_type": "code",
   "execution_count": 117,
   "metadata": {},
   "outputs": [
    {
     "data": {
      "image/png": "[encoded data removed]",
      "text/plain": [
       "<Figure size 468x360 with 1 Axes>"
      ]
     },
     "metadata": {
      "needs_background": "light"
     },
     "output_type": "display_data"
    }
   ],
   "source": [
    "fig, ax = plt.subplots(figsize=(6.5,5))\n",
    "#plt.figure(figsize=(5, 5))\n",
    "ax.plot(statesp[:,:,0], statesp[:,:,1])\n",
    "ax.plot(statesf[:,:,0], statesf[:,:,1])\n",
    "ax.set_xlim(-0.030, 0.005)\n",
    "ax.set_ylim(-0.020, 0.010)\n",
    "ax.set_xlabel('x (AU)')\n",
    "ax.set_ylabel('y (AU)')\n",
    "plt.savefig('2020_CD3.png')\n",
    "\n",
    "plt.tight_layout()\n",
    "plt.show()"
   ]
  },
  {
   "cell_type": "code",
   "execution_count": 119,
   "metadata": {},
   "outputs": [],
   "source": [
    "def first(x):\n",
    "    return x[0]\n",
    "\n",
    "def second(x):\n",
    "    return x[1]"
   ]
  },
  {
   "cell_type": "code",
   "execution_count": 123,
   "metadata": {},
   "outputs": [
    {
     "data": {
      "text/plain": [
       "1204.1666666666667"
      ]
     },
     "execution_count": 123,
     "metadata": {},
     "output_type": "execute_result"
    }
   ],
   "source": [
    "3400*1.0625/3"
   ]
  },
  {
   "cell_type": "code",
   "execution_count": 125,
   "metadata": {},
   "outputs": [
    {
     "data": {
      "text/plain": [
       "0.0012813333333333333"
      ]
     },
     "execution_count": 125,
     "metadata": {},
     "output_type": "execute_result"
    }
   ],
   "source": [
    "0.5*384400/1.5e8"
   ]
  },
  {
   "cell_type": "code",
   "execution_count": 120,
   "metadata": {},
   "outputs": [],
   "source": [
    "ts = np.array(list(map(first, obs)))"
   ]
  },
  {
   "cell_type": "code",
   "execution_count": 121,
   "metadata": {},
   "outputs": [
    {
     "data": {
      "image/png": "[encoded data removed]",
      "text/plain": [
       "<Figure size 468x360 with 1 Axes>"
      ]
     },
     "metadata": {
      "needs_background": "light"
     },
     "output_type": "display_data"
    }
   ],
   "source": [
    "fig, ax = plt.subplots(figsize=(6.5,5))\n",
    "\n",
    "\n",
    "ax.scatter(ts-ts[0], res1[0::2], s=4)\n",
    "ax.scatter(ts-ts[0], res1[1::2], s=4)\n",
    "ax.set_xlabel('days')\n",
    "ax.set_ylabel('residual (arcsec)')\n",
    "plt.savefig('residuals.png')\n",
    "plt.tight_layout()\n",
    "plt.show()\n"
   ]
  },
  {
   "cell_type": "code",
   "execution_count": 85,
   "metadata": {},
   "outputs": [
    {
     "data": {
      "text/plain": [
       "array([-0.00311831, -0.00151259,  0.00123999, -0.00037892, -0.00033696,\n",
       "        0.00032804])"
      ]
     },
     "execution_count": 85,
     "metadata": {},
     "output_type": "execute_result"
    }
   ],
   "source": [
    "results.x"
   ]
  },
  {
   "cell_type": "code",
   "execution_count": 86,
   "metadata": {},
   "outputs": [
    {
     "data": {
      "text/plain": [
       "[-0.003118500479970055,\n",
       " -0.001512873873465409,\n",
       " 0.001239844826099388,\n",
       " -0.0003789003661569063,\n",
       " -0.0003369885641555601,\n",
       " 0.0003279972338540866]"
      ]
     },
     "execution_count": 86,
     "metadata": {},
     "output_type": "execute_result"
    }
   ],
   "source": [
    "row"
   ]
  },
  {
   "cell_type": "code",
   "execution_count": null,
   "metadata": {},
   "outputs": [],
   "source": [
    "results.x"
   ]
  },
  {
   "cell_type": "code",
   "execution_count": null,
   "metadata": {},
   "outputs": [],
   "source": [
    "tstart, obs[0], tend, obs[-1]"
   ]
  },
  {
   "cell_type": "code",
   "execution_count": null,
   "metadata": {},
   "outputs": [],
   "source": [
    "results.x"
   ]
  },
  {
   "cell_type": "code",
   "execution_count": null,
   "metadata": {},
   "outputs": [],
   "source": [
    "_= plt.hist(res0, bins=30)\n",
    "_= plt.hist(res1, bins=30)\n",
    "plt.yscale('log')"
   ]
  },
  {
   "cell_type": "code",
   "execution_count": null,
   "metadata": {},
   "outputs": [],
   "source": [
    "results.x - np.array(row)"
   ]
  },
  {
   "cell_type": "code",
   "execution_count": null,
   "metadata": {},
   "outputs": [],
   "source": [
    "results"
   ]
  },
  {
   "cell_type": "code",
   "execution_count": null,
   "metadata": {},
   "outputs": [],
   "source": [
    "\n",
    "instates = np.array([row])\n",
    "timesp, statesp, varp, varp_ng, statusp = ephem_forces.production_integration_function_wrapper(tstart, tend, epoch, instates)\n",
    "\n",
    "time_tags, fits = save_trajectory(timesp, statesp)"
   ]
  },
  {
   "cell_type": "code",
   "execution_count": null,
   "metadata": {},
   "outputs": [],
   "source": []
  },
  {
   "cell_type": "code",
   "execution_count": null,
   "metadata": {},
   "outputs": [],
   "source": [
    "%%time\n",
    "diffs = []\n",
    "for i, t in enumerate(timesp):\n",
    "    diffs.append(statesp[i][0][0:3]-trajectory(fits, time_tags, t, timesp[-1]))\n",
    "\n",
    "diffs = np.array(diffs)"
   ]
  },
  {
   "cell_type": "code",
   "execution_count": null,
   "metadata": {},
   "outputs": [],
   "source": [
    "timesp[-1]"
   ]
  },
  {
   "cell_type": "code",
   "execution_count": null,
   "metadata": {},
   "outputs": [],
   "source": [
    "x,y,z = trajectory(fits, time_tags, 2467000.5, timesp[-1])"
   ]
  },
  {
   "cell_type": "code",
   "execution_count": null,
   "metadata": {},
   "outputs": [],
   "source": [
    " test = np.array([3.513219995999942E+00, -6.229832838087752E-02, -1.608033362738477E-01])"
   ]
  },
  {
   "cell_type": "code",
   "execution_count": null,
   "metadata": {},
   "outputs": [],
   "source": [
    "(test - trajectory(fits, time_tags, 2467000.5, timesp[-1]))*1.5e11"
   ]
  },
  {
   "cell_type": "markdown",
   "metadata": {},
   "source": [
    "The interpolation errors look to be substantially less than 1 m, which is certainly good.  But I'm not quite sure why it's so large."
   ]
  },
  {
   "cell_type": "code",
   "execution_count": null,
   "metadata": {},
   "outputs": [],
   "source": [
    "plt.plot(timesp-timesp[0], diffs[:,0]*1.5e11)"
   ]
  },
  {
   "cell_type": "markdown",
   "metadata": {},
   "source": [
    "A next step will be to iteratively generate a light-time corrected RA/Dec observation from a particular observatory at a particular observing time.\n",
    "\n",
    "F51 at JD 2467000.5 TDB."
   ]
  },
  {
   "cell_type": "code",
   "execution_count": null,
   "metadata": {},
   "outputs": [],
   "source": []
  },
  {
   "cell_type": "code",
   "execution_count": null,
   "metadata": {},
   "outputs": [],
   "source": [
    "F51 = np.array([-8.162323545253964E-01, -5.297985179472369E-01, -2.298084817347363E-01])\n",
    "F51 = np.array([-9.116190007936418E-01, 3.719152151402167E-01, 1.614743792421127E-01])\n"
   ]
  },
  {
   "cell_type": "code",
   "execution_count": null,
   "metadata": {},
   "outputs": [],
   "source": [
    "t_obs = 2460000.5\n"
   ]
  },
  {
   "cell_type": "code",
   "execution_count": null,
   "metadata": {},
   "outputs": [],
   "source": [
    "generate_observation(fits, time_tags, F51, t_obs)"
   ]
  },
  {
   "cell_type": "code",
   "execution_count": null,
   "metadata": {},
   "outputs": [],
   "source": [
    "x, y, z"
   ]
  },
  {
   "cell_type": "code",
   "execution_count": null,
   "metadata": {},
   "outputs": [],
   "source": [
    "x, y, z = (pos-F51)/delta"
   ]
  },
  {
   "cell_type": "code",
   "execution_count": null,
   "metadata": {},
   "outputs": [],
   "source": [
    "((180./np.pi*np.arctan2(y, x)) + 360 - 204.262489518)*3600"
   ]
  },
  {
   "cell_type": "code",
   "execution_count": null,
   "metadata": {},
   "outputs": [],
   "source": [
    "x, y, z"
   ]
  },
  {
   "cell_type": "code",
   "execution_count": null,
   "metadata": {},
   "outputs": [],
   "source": [
    "\n",
    "(180./np.pi*np.arcsin(z) - -6.836971568)*3600"
   ]
  },
  {
   "cell_type": "code",
   "execution_count": null,
   "metadata": {},
   "outputs": [],
   "source": [
    "00 24 38.49 +00 54 24.4\n",
    "13 37 03.00 -06 50 13.1\n",
    "204.262489518  -6.836971568\n"
   ]
  },
  {
   "cell_type": "code",
   "execution_count": null,
   "metadata": {},
   "outputs": [],
   "source": [
    "delta_t = 69.185544/86400.\n",
    "delta_t = 69.185284/86400.\n",
    "t_utc = t_obs-delta_t\n",
    "t_utc"
   ]
  },
  {
   "cell_type": "code",
   "execution_count": null,
   "metadata": {},
   "outputs": [],
   "source": [
    "i=0\n",
    "sat_dict = defaultdict(list)\n",
    "with open('3le_new.txt') as f:\n",
    "    lines = f.readlines()\n",
    "    first = lines[0::3]\n",
    "    second = lines[1::3]\n",
    "    third = lines[2::3]\n",
    "    names = list(map(lambda x: x[2:].rstrip(), first))\n",
    "    mm = list(map(lambda x: float(x[53:64]), third))"
   ]
  },
  {
   "cell_type": "code",
   "execution_count": null,
   "metadata": {},
   "outputs": [],
   "source": [
    "_=plt.hist(mm, bins=21, cumulative=False, range=(0,1.05))\n",
    "plt.yscale('log', nonposy='clip')\n",
    "plt.xlabel('rev/day')\n",
    "plt.ylabel('N')\n",
    "plt.savefig('rev_hist_v4.png')"
   ]
  },
  {
   "cell_type": "code",
   "execution_count": null,
   "metadata": {},
   "outputs": [],
   "source": [
    "sat_dict = {k:v for k,v in zip(names, mm)}"
   ]
  },
  {
   "cell_type": "code",
   "execution_count": null,
   "metadata": {},
   "outputs": [],
   "source": [
    "def secnd(x):\n",
    "    return x[1]"
   ]
  },
  {
   "cell_type": "code",
   "execution_count": null,
   "metadata": {},
   "outputs": [],
   "source": [
    "with open('names_mm.txt', 'w') as f:\n",
    "    for k,v in sorted(zip(names, mm), key=secnd):\n",
    "        f.write('%15f %s\\n'% (v, k))"
   ]
  },
  {
   "cell_type": "markdown",
   "metadata": {},
   "source": [
    "### Challenging Examples"
   ]
  },
  {
   "cell_type": "markdown",
   "metadata": {},
   "source": [
    "Now let's try some more challenging cases.  First Apophis, an NEO that makes repeated close approaches to Earth.  It will make an approach on 2021 Mar 06 1:06 UT.  This approach will not be particularly close.  However, the 2029 Apr 13 approach will be extremely close.\n",
    "\n",
    "The initial conditions below are for 2020 Aug 01, before the first approach.  We will integrate through the first approach and to just before the closer second approach."
   ]
  },
  {
   "cell_type": "code",
   "execution_count": null,
   "metadata": {},
   "outputs": [],
   "source": [
    "importlib.reload(ephem_forces)"
   ]
  },
  {
   "cell_type": "code",
   "execution_count": null,
   "metadata": {},
   "outputs": [],
   "source": [
    "# DE441\n",
    "#2459062.500000000 = A.D. 2020-Aug-01 00:00:00.0000 TDB [del_T=     69.183254 s]\n",
    "# X =-5.147481787179418E-03 Y =-7.554300268214853E-01 Z =-2.803431979691921E-01\n",
    "# VX= 1.994372371206607E-02 VY= 2.695051098855493E-03 VZ= 1.506829667479476E-03\n",
    "row = [-5.147481787179418E-03, -7.554300268214853E-01, -2.803431979691921E-01,\n",
    "        1.994372371206607E-02, 2.695051098855493E-03, 1.506829667479476E-03]\n",
    "\n",
    "# DE431\n",
    "#row = [-5.145897476309183E-03, -7.554295792725090E-01, -2.803430954241811E-01, 1.994372392258838E-02, 2.695069501106252E-03, 1.506836811826654E-03]\n",
    "    \n",
    "tstart, tstep, trange = 2459062.5, 1.0, 3150\n",
    "tend = tstart + trange\n",
    "geocentric = 0\n",
    "n_particles = 1\n",
    "scale = 1e-8\n",
    "\n",
    "instates = np.array(row)\n",
    "\n",
    "times, states, var, var_ng, status = ephem_forces.integration_function(tstart, tend, tstep, geocentric, \n",
    "                                                               n_particles, instates, n_var, invar_part, invar)#, epsilon=1e-8)\n"
   ]
  },
  {
   "cell_type": "code",
   "execution_count": null,
   "metadata": {},
   "outputs": [],
   "source": [
    "times[-1], states[-1][0]\n"
   ]
  },
  {
   "cell_type": "code",
   "execution_count": null,
   "metadata": {},
   "outputs": [],
   "source": [
    "2462212.500000000 = A.D. 2029-Mar-17 00:00:00.0000 TDB [del_T=     69.185579 s]\n",
    " X =-1.065242948790426E+00 Y = 1.336576685926274E-02 Z =-2.189407072944644E-02\n",
    " VX= 1.615083976122256E-03 VY=-1.426641205899967E-02 VZ=-5.259456864467629E-03"
   ]
  },
  {
   "cell_type": "code",
   "execution_count": null,
   "metadata": {},
   "outputs": [],
   "source": [
    "# No non-gravs\n",
    "apophis_before = np.array([\n",
    "-1.065242948790426E+00, 1.336576685926274E-02, -2.189407072944644E-02,\n",
    " 1.615083976122256E-03, -1.426641205899967E-02, -5.259456864467629E-03])\n",
    "\n",
    "\n",
    "# Including non-gravs\n",
    "# dt_min = 1e-3\n",
    "# epsilon = 1e-8\n",
    "#apophis_before = np.array([\n",
    "#    -1.061749621090919E+00, -1.342851936299780E-02, -3.176051171408323E-02,\n",
    "#     2.104893542927364E-03, -1.426673477234808E-02, -5.247194855985309E-03])\n",
    "\n",
    "\n"
   ]
  },
  {
   "cell_type": "code",
   "execution_count": null,
   "metadata": {},
   "outputs": [],
   "source": [
    "(states[-1][0]-apophis_before)*1.5e8"
   ]
  },
  {
   "cell_type": "markdown",
   "metadata": {},
   "source": [
    "The largest discrepancy is ~42 km just before the 2029 close approach.\n",
    "\n",
    "Now I will include the non-gravitational terms, using the A2 value provided by JPL Horizons (A1 and A3 = 0.0).\n",
    "\n",
    "At the moment, the non-grav values are hard-coded.  The code needs to be recompiled and the library reloaded."
   ]
  },
  {
   "cell_type": "code",
   "execution_count": null,
   "metadata": {},
   "outputs": [],
   "source": [
    "importlib.reload(ephem_forces)"
   ]
  },
  {
   "cell_type": "code",
   "execution_count": null,
   "metadata": {},
   "outputs": [],
   "source": [
    "# DE441\n",
    "#2459062.500000000 = A.D. 2020-Aug-01 00:00:00.0000 TDB [del_T=     69.183254 s]\n",
    "# X =-5.147481787179418E-03 Y =-7.554300268214853E-01 Z =-2.803431979691921E-01\n",
    "# VX= 1.994372371206607E-02 VY= 2.695051098855493E-03 VZ= 1.506829667479476E-03\n",
    "row = [-5.147481787179418E-03, -7.554300268214853E-01, -2.803431979691921E-01,\n",
    "        1.994372371206607E-02, 2.695051098855493E-03, 1.506829667479476E-03]\n",
    "\n",
    "# DE431\n",
    "#row = [-5.145897476309183E-03, -7.554295792725090E-01, -2.803430954241811E-01, 1.994372392258838E-02, 2.695069501106252E-03, 1.506836811826654E-03]\n",
    "    \n",
    "tstart, tstep, trange = 2459062.5, 1.0, 3150\n",
    "tend = tstart + trange\n",
    "geocentric = 0\n",
    "n_particles = 1\n",
    "scale = 1e-8\n",
    "\n",
    "instates = np.array(row)\n",
    "\n",
    "times, states, var, var_ng, status = ephem_forces.integration_function(tstart, tend, tstep, geocentric, n_particles, instates, n_var, invar_part, invar)#, epsilon=1e-8)\n",
    "\n"
   ]
  },
  {
   "cell_type": "code",
   "execution_count": null,
   "metadata": {},
   "outputs": [],
   "source": [
    "times[-1]"
   ]
  },
  {
   "cell_type": "code",
   "execution_count": null,
   "metadata": {},
   "outputs": [],
   "source": [
    "apophis_after = np.array([\n",
    "-6.343441804789555E-01, -6.456269834869176E-01, -2.636333964165063E-01,\n",
    " 1.546139923046551E-02, -1.029411916646655E-02, -3.777044399870865E-03])"
   ]
  },
  {
   "cell_type": "code",
   "execution_count": null,
   "metadata": {},
   "outputs": [],
   "source": [
    "states[-1][0], (states[-1][0]-apophis_before)*1.5e8"
   ]
  },
  {
   "cell_type": "code",
   "execution_count": null,
   "metadata": {},
   "outputs": [],
   "source": [
    "states[-1][0], (states[-1][0]-apophis_after)*1.5e8"
   ]
  },
  {
   "cell_type": "markdown",
   "metadata": {},
   "source": [
    "Now the largest discrepancy is ~1 km.  How carefully the very close approaches are handled matters, as expected."
   ]
  },
  {
   "cell_type": "markdown",
   "metadata": {},
   "source": [
    "Let's try geocentric integrations."
   ]
  },
  {
   "cell_type": "code",
   "execution_count": null,
   "metadata": {},
   "outputs": [],
   "source": [
    "row = [6.634500992578179E-02, 2.122458699845356E-03, -3.507415858744104E-04,\n",
    "     -1.060257698567525E-03, 6.078332955992950E-04, 2.240712392485767E-04]"
   ]
  },
  {
   "cell_type": "code",
   "execution_count": null,
   "metadata": {},
   "outputs": [],
   "source": [
    "tstart, tstep, trange = 2459062.5, -1.0, -400\n",
    "geocentric = 1\n",
    "n_particles = 1\n",
    "scale = 1e-8\n",
    "\n",
    "instates = np.array(row)\n",
    "timesb, statesb, n_out, n_particles = ephem_forces.integration_function(tstart, tstep, trange, geocentric, n_particles, instates)  \n"
   ]
  },
  {
   "cell_type": "code",
   "execution_count": null,
   "metadata": {},
   "outputs": [],
   "source": [
    "statesb"
   ]
  },
  {
   "cell_type": "code",
   "execution_count": null,
   "metadata": {},
   "outputs": [],
   "source": [
    "plt.plot(statesb[:,0,0], statesb[:,0,1])"
   ]
  },
  {
   "cell_type": "code",
   "execution_count": null,
   "metadata": {},
   "outputs": [],
   "source": [
    "del statesb"
   ]
  },
  {
   "cell_type": "code",
   "execution_count": null,
   "metadata": {},
   "outputs": [],
   "source": [
    "tstart, tstep, trange = 2459062.5, 1.0, 400\n",
    "geocentric = 1\n",
    "n_particles = 1\n",
    "scale = 1e-8\n",
    "instates = np.array(row)\n",
    "\n",
    "timesf, statesf, n_out, n_particles = ephem_forces.integration_function(tstart, tstep, trange, geocentric, n_particles, instates)"
   ]
  },
  {
   "cell_type": "code",
   "execution_count": null,
   "metadata": {},
   "outputs": [],
   "source": [
    "statesf"
   ]
  },
  {
   "cell_type": "code",
   "execution_count": null,
   "metadata": {},
   "outputs": [],
   "source": [
    "plt.plot(statesf[:,0,0], statesf[:,0,1])\n",
    "plt.plot(statesb[:,0,0], statesb[:,0,1])"
   ]
  },
  {
   "cell_type": "code",
   "execution_count": null,
   "metadata": {},
   "outputs": [],
   "source": [
    "tstart, tstep, trange = timesb[-1], 1.0, 400\n",
    "instatesb = statesb[-1][0].copy()\n",
    "timesf, statesf, n_out, n_particles = ephem_forces.integration_function(tstart, tstep, trange, geocentric, n_particles, instatesb)  "
   ]
  },
  {
   "cell_type": "code",
   "execution_count": null,
   "metadata": {},
   "outputs": [],
   "source": [
    "plt.plot(statesb[:,0,0], statesb[:,0,1])\n",
    "\n",
    "plt.plot(statesf[:,0,0], statesf[:,0,1])"
   ]
  },
  {
   "cell_type": "code",
   "execution_count": null,
   "metadata": {},
   "outputs": [],
   "source": [
    "statesb"
   ]
  },
  {
   "cell_type": "code",
   "execution_count": null,
   "metadata": {},
   "outputs": [],
   "source": [
    "len(states)"
   ]
  },
  {
   "cell_type": "code",
   "execution_count": null,
   "metadata": {},
   "outputs": [],
   "source": [
    "\n",
    "2462263.697021989 = A.D. 2029-May-07 04:43:42.6999 TDB \n",
    " X = 7.771821449378258E-02 Y = 1.444568330466675E-02 Z = 2.318152988506329E-02\n",
    " VX= 3.531021355764523E-03 VY= 8.992784904633009E-04 VZ= 1.064745760510192E-03\n",
    "\n"
   ]
  },
  {
   "cell_type": "code",
   "execution_count": null,
   "metadata": {},
   "outputs": [],
   "source": [
    "apophis_geo_after=np.array([\n",
    "    7.771821449378258E-02, 1.444568330466675E-02, 2.318152988506329E-02, \n",
    "    3.531021355764523E-03, 8.992784904633009E-04, 1.064745760510192E-03])\n"
   ]
  },
  {
   "cell_type": "code",
   "execution_count": null,
   "metadata": {},
   "outputs": [],
   "source": [
    "(states[-1][0]-apophis_geo_after)*1.5e8"
   ]
  },
  {
   "cell_type": "markdown",
   "metadata": {},
   "source": [
    "This is worse.  I wonder if this is due to the interpolated acceleration of the Earth."
   ]
  },
  {
   "cell_type": "code",
   "execution_count": null,
   "metadata": {},
   "outputs": [],
   "source": [
    "def plot_results(results):\n",
    "    t, p0, p1, p2 = results\n",
    "    d = np.linalg.norm(p0, axis=1)\n",
    "    z = np.polyfit(t, d, deg=2)\n",
    "    f = np.poly1d(z)\n",
    "    plt.plot(t, d-f(t), label='x')\n",
    "    #plt.plot(t, d, label='x')\n",
    "    d = np.linalg.norm(p1, axis=1)\n",
    "    z = np.polyfit(t, d, deg=2)\n",
    "    f = np.poly1d(z)\n",
    "    plt.plot(t, d-f(t), label='y')\n",
    "    #plt.plot(t, d, label='y')\n",
    "    d = np.linalg.norm(p2, axis=1)\n",
    "    z = np.polyfit(t, d, deg=2)\n",
    "    f = np.poly1d(z)\n",
    "    plt.plot(t, d-f(t), label='z')\n",
    "    #plt.plot(t, d, label='z')\n",
    "    plt.legend()"
   ]
  },
  {
   "cell_type": "code",
   "execution_count": null,
   "metadata": {},
   "outputs": [],
   "source": [
    "prec_x = np.array(sorted([(k, np.linalg.norm(p0[-1]), np.linalg.norm(p1[-1]), np.linalg.norm(p2[-1])) for k, (t, p0, p1, p2) in results_dict.items()]))\n",
    "\n"
   ]
  },
  {
   "cell_type": "code",
   "execution_count": null,
   "metadata": {},
   "outputs": [],
   "source": [
    "plt.plot(prec_x[:,0], prec_x[:, 1])\n",
    "plt.plot(prec_x[:,0], prec_x[:, 2])\n",
    "plt.plot(prec_x[:,0], prec_x[:, 3])\n",
    "plt.yscale('log')\n",
    "plt.xscale ('log')"
   ]
  },
  {
   "cell_type": "code",
   "execution_count": null,
   "metadata": {},
   "outputs": [],
   "source": [
    "plot_results(results_dict[1e-6])"
   ]
  },
  {
   "cell_type": "code",
   "execution_count": null,
   "metadata": {},
   "outputs": [],
   "source": [
    "np.logspace(-8, -2, num=10)"
   ]
  },
  {
   "cell_type": "code",
   "execution_count": null,
   "metadata": {},
   "outputs": [],
   "source": [
    "output.stdout"
   ]
  },
  {
   "cell_type": "code",
   "execution_count": null,
   "metadata": {},
   "outputs": [],
   "source": [
    "from ctypes import *"
   ]
  },
  {
   "cell_type": "code",
   "execution_count": null,
   "metadata": {},
   "outputs": [],
   "source": [
    "libc = CDLL(\"libc.dylib\")"
   ]
  },
  {
   "cell_type": "code",
   "execution_count": null,
   "metadata": {},
   "outputs": [],
   "source": [
    "print(libc.time(None))  "
   ]
  },
  {
   "cell_type": "code",
   "execution_count": null,
   "metadata": {},
   "outputs": [],
   "source": [
    "c_int()"
   ]
  },
  {
   "cell_type": "code",
   "execution_count": null,
   "metadata": {},
   "outputs": [],
   "source": [
    "i = c_int(42)"
   ]
  },
  {
   "cell_type": "code",
   "execution_count": null,
   "metadata": {},
   "outputs": [],
   "source": [
    "print(i)"
   ]
  },
  {
   "cell_type": "code",
   "execution_count": null,
   "metadata": {},
   "outputs": [],
   "source": [
    "print(i.value)"
   ]
  },
  {
   "cell_type": "code",
   "execution_count": null,
   "metadata": {},
   "outputs": [],
   "source": [
    "i.value=-99\n",
    "print(i.value)"
   ]
  },
  {
   "cell_type": "code",
   "execution_count": null,
   "metadata": {},
   "outputs": [],
   "source": [
    "s = \"Hello, World\"\n",
    "c_s = c_wchar_p(s)\n",
    "print(c_s)"
   ]
  },
  {
   "cell_type": "code",
   "execution_count": null,
   "metadata": {},
   "outputs": [],
   "source": [
    "c_wchar_p(139966785747344)\n",
    "print(c_s.value)"
   ]
  },
  {
   "cell_type": "code",
   "execution_count": null,
   "metadata": {},
   "outputs": [],
   "source": [
    "print(c_s)"
   ]
  },
  {
   "cell_type": "code",
   "execution_count": null,
   "metadata": {},
   "outputs": [],
   "source": [
    "c_s.value = \"Hi, there\"\n",
    "print(c_s)              # the memory location has changed"
   ]
  },
  {
   "cell_type": "code",
   "execution_count": null,
   "metadata": {},
   "outputs": [],
   "source": [
    "c_wchar_p(139966783348904)\n",
    ">>> print(c_s.value)"
   ]
  },
  {
   "cell_type": "code",
   "execution_count": null,
   "metadata": {},
   "outputs": [],
   "source": [
    "print(s)                # first object is unchanged\n"
   ]
  },
  {
   "cell_type": "code",
   "execution_count": null,
   "metadata": {},
   "outputs": [],
   "source": [
    "p = create_string_buffer(3)            # create a 3 byte buffer, initialized to NUL bytes\n",
    "print(sizeof(p), repr(p.raw))"
   ]
  },
  {
   "cell_type": "code",
   "execution_count": null,
   "metadata": {},
   "outputs": [],
   "source": [
    "p = create_string_buffer(b\"Hello\")     # create a buffer containing a NUL terminated string\n",
    "print(sizeof(p), repr(p.raw))"
   ]
  },
  {
   "cell_type": "code",
   "execution_count": null,
   "metadata": {},
   "outputs": [],
   "source": [
    "print(repr(p.value))"
   ]
  },
  {
   "cell_type": "code",
   "execution_count": null,
   "metadata": {},
   "outputs": [],
   "source": [
    "p = create_string_buffer(b\"Hello\", 10) # create a 10 byte buffer\n",
    "print(sizeof(p), repr(p.raw))"
   ]
  },
  {
   "cell_type": "code",
   "execution_count": null,
   "metadata": {},
   "outputs": [],
   "source": [
    "p.value = b\"Hi\"\n",
    "print(sizeof(p), repr(p.raw))"
   ]
  },
  {
   "cell_type": "code",
   "execution_count": null,
   "metadata": {},
   "outputs": [],
   "source": [
    "printf = libc.printf\n",
    "printf(b\"Hello, %s\\n\", b\"World!\")"
   ]
  },
  {
   "cell_type": "code",
   "execution_count": null,
   "metadata": {},
   "outputs": [],
   "source": [
    "printf(b\"Hello, %S\\n\", \"World!\")"
   ]
  },
  {
   "cell_type": "code",
   "execution_count": null,
   "metadata": {},
   "outputs": [],
   "source": [
    "Hello, World!\n",
    "14\n",
    ">>> printf(b\"Hello, %S\\n\", \"World!\")\n",
    "Hello, World!\n",
    "14\n",
    ">>> printf(b\"%d bottles of beer\\n\", 42)\n",
    "42 bottles of beer\n",
    "19\n",
    ">>> printf(b\"%f bottles of beer\\n\", 42.5)\n",
    "Traceback (most recent call last):\n",
    "  File \"<stdin>\", line 1, in <module>\n",
    "ArgumentError: argument 2: exceptions.TypeError: Don't know how to convert parameter 2\n",
    ">>>"
   ]
  },
  {
   "cell_type": "code",
   "execution_count": null,
   "metadata": {},
   "outputs": [],
   "source": [
    "import datetime\n",
    "import random\n",
    "import matplotlib.pyplot as plt\n",
    "\n",
    "# make up some data\n",
    "x = [datetime.datetime.now() + datetime.timedelta(hours=i) for i in range(12)]\n",
    "y = [i+random.gauss(0,1) for i,_ in enumerate(x)]\n",
    "\n",
    "# plot\n",
    "plt.bar(x,y)\n",
    "# beautify the x-labels\n",
    "plt.gcf().autofmt_xdate()\n",
    "\n",
    "plt.show()"
   ]
  },
  {
   "cell_type": "code",
   "execution_count": null,
   "metadata": {},
   "outputs": [],
   "source": [
    "df = pd.read_csv(\"/Users/mholman/Dropbox/misc/dates.csv\")"
   ]
  },
  {
   "cell_type": "code",
   "execution_count": null,
   "metadata": {},
   "outputs": [],
   "source": [
    "df2 = pd.read_csv(\"/Users/mholman/Dropbox/misc/funding.csv\")"
   ]
  },
  {
   "cell_type": "code",
   "execution_count": null,
   "metadata": {},
   "outputs": [],
   "source": [
    "df['d'] = df.date.apply(lambda x: pd.to_datetime(x))\n",
    "df2['d'] = df2.date.apply(lambda x: pd.to_datetime(x))"
   ]
  },
  {
   "cell_type": "code",
   "execution_count": null,
   "metadata": {},
   "outputs": [],
   "source": [
    "cumulative = np.cumsum(df.delta)"
   ]
  },
  {
   "cell_type": "code",
   "execution_count": null,
   "metadata": {},
   "outputs": [],
   "source": [
    "labor=np.cumsum((cumulative+6)*(df.d-df.d.shift())/(365.25*np.timedelta64(1,'D')))"
   ]
  },
  {
   "cell_type": "code",
   "execution_count": null,
   "metadata": {
    "scrolled": true
   },
   "outputs": [],
   "source": [
    "\n",
    "import matplotlib.dates as mdates\n",
    "fig, ax = plt.subplots(figsize=(10, 6))\n",
    "ax.scatter(df.d, cumulative+6)\n",
    "\n",
    "#ax2 = ax.twinx()\n",
    "\n",
    "linestyle = (0, (1, 4))\n",
    "\n",
    "ax.xaxis.set_major_formatter(mdates.DateFormatter('%Y'))\n",
    "#ax2.xaxis.set_major_formatter(mdates.DateFormatter('%Y'))\n",
    "\n",
    "panel = datetime.datetime(2015, 5, 5)\n",
    "ax.axvline(panel, -10, 20, ls=linestyle, color='r')\n",
    "\n",
    "prop = datetime.datetime(2016, 10, 28)\n",
    "ax.axvline(prop, -10, 20, ls=linestyle, color='g')\n",
    "\n",
    "funds = datetime.datetime(2017, 1, 27)\n",
    "ax.axvline(funds, -10, 20, color='g')\n",
    "\n",
    "ma = datetime.datetime(2017, 5, 29)\n",
    "ax.axvline(ma, -10, 20, ls='--', color='black')\n",
    "\n",
    "sk = datetime.datetime(2018, 8, 13)\n",
    "ax.axvline(sk, -10, 20, ls='--', color='black')\n",
    "\n",
    "mug1 = datetime.datetime(2017, 6, 22)\n",
    "ax.axvline(mug1, -10, 20, ls='dotted', color='r')\n",
    "\n",
    "mug2 = datetime.datetime(2017, 12, 18)\n",
    "ax.axvline(mug2, -10, 20, ls='dotted', color='r')\n",
    "\n",
    "mug3 = datetime.datetime(2018, 6, 28)\n",
    "ax.axvline(mug3, -10, 20, ls='dotted', color='r')\n",
    "\n",
    "neocp = datetime.datetime(2018, 11, 1)\n",
    "ax.axvline(neocp, -10, 20, ls='solid', color='blue')\n",
    "\n",
    "mug4 = datetime.datetime(2018, 12, 17)\n",
    "ax.axvline(mug4, -10, 20, ls='dotted', color='r')\n",
    "\n",
    "mug5 = datetime.datetime(2019, 7, 9)\n",
    "ax.axvline(mug5, -10, 20, ls='dotted', color='r')\n",
    "\n",
    "mug6 = datetime.datetime(2019, 12, 10)\n",
    "ax.axvline(mug6, -10, 20, ls='dotted', color='r')\n",
    "\n",
    "mug7 = datetime.datetime(2020, 6, 11)\n",
    "ax.axvline(mug7, -10, 20, ls='dotted', color='r')\n",
    "\n",
    "mug8 = datetime.datetime(2020, 12, 2)\n",
    "ax.axvline(mug8, -10, 20, ls='dotted', color='r')\n",
    "\n",
    "covid = datetime.datetime(2020, 3, 13)\n",
    "ax.axvline(covid, -10, 20, ls='dashdot', color='purple')\n",
    "\n",
    "vms = datetime.datetime(2019, 6, 6)\n",
    "ax.axvline(vms, -10, 20, ls='dashdot', color='purple')\n",
    "\n",
    "d_start = datetime.datetime(2018, 10, 1)\n",
    "d_end = datetime.datetime(2019, 2, 10)\n",
    "#ax.axhline(y=3, xmin=0.62, xmax=0.68, color='black')\n",
    "\n",
    "\n",
    "dates = datetime.datetime(2016, 11, 1), datetime.datetime(2017, 11, 1), datetime.datetime(2018, 11, 1), datetime.datetime(2019, 11, 1), datetime.datetime(2020, 11, 1)\n",
    "levels = 7, 7, 10, 11, 11\n",
    "#ax.plot(dates, levels, color='gray')\n",
    "\n",
    "ax.set_xlabel('Date')\n",
    "ax.set_ylabel('MPC FTEs')\n",
    "\n",
    "\n",
    "#ax2.set_ylabel('Total Funding ($M)')\n",
    "\n",
    "funding = df2['total_funding']\n",
    "d = df2['d']\n",
    "\n",
    "linestyle = (0, (1, 4))\n",
    "\n",
    "#ax2.xaxis_date() \n",
    "#ax2.xaxis.set_major_formatter(mdates.DateFormatter('%Y'))\n",
    "#ax2.plot(d, funding/1e6)\n",
    "\n",
    "#ax2.plot(df.d, labor)\n",
    "\n",
    "plt.savefig('/Users/mholman/Dropbox/misc/FTEs.png')"
   ]
  },
  {
   "cell_type": "code",
   "execution_count": null,
   "metadata": {},
   "outputs": [],
   "source": [
    "\n",
    "import matplotlib.dates as mdates\n",
    "fig, ax = plt.subplots(figsize=(10, 6))\n",
    "#ax.scatter(df.d, cumulative+6)\n",
    "\n",
    "ax2 = ax.twinx()\n",
    "\n",
    "linestyle = (0, (1, 4))\n",
    "\n",
    "ax.xaxis.set_major_formatter(mdates.DateFormatter('%Y'))\n",
    "ax2.xaxis.set_major_formatter(mdates.DateFormatter('%Y'))\n",
    "\n",
    "panel = datetime.datetime(2015, 5, 5)\n",
    "ax.axvline(panel, -10, 20, ls=linestyle, color='r')\n",
    "\n",
    "prop = datetime.datetime(2016, 10, 28)\n",
    "ax.axvline(prop, -10, 20, ls=linestyle, color='g')\n",
    "\n",
    "funds = datetime.datetime(2017, 1, 27)\n",
    "ax.axvline(funds, -10, 20, color='g')\n",
    "\n",
    "ma = datetime.datetime(2017, 5, 29)\n",
    "#ax.axvline(ma, -10, 20, ls='--', color='black')\n",
    "\n",
    "sk = datetime.datetime(2018, 8, 13)\n",
    "#ax.axvline(sk, -10, 20, ls='--', color='black')\n",
    "\n",
    "mug1 = datetime.datetime(2017, 6, 22)\n",
    "ax.axvline(mug1, -10, 20, ls='dotted', color='r')\n",
    "\n",
    "mug2 = datetime.datetime(2017, 12, 18)\n",
    "ax.axvline(mug2, -10, 20, ls='dotted', color='r')\n",
    "\n",
    "mug3 = datetime.datetime(2018, 6, 28)\n",
    "ax.axvline(mug3, -10, 20, ls='dotted', color='r')\n",
    "\n",
    "neocp = datetime.datetime(2018, 11, 1)\n",
    "#ax.axvline(neocp, -10, 20, ls='solid', color='blue')\n",
    "\n",
    "mug4 = datetime.datetime(2018, 12, 17)\n",
    "ax.axvline(mug4, -10, 20, ls='dotted', color='r')\n",
    "\n",
    "mug5 = datetime.datetime(2019, 7, 9)\n",
    "ax.axvline(mug5, -10, 20, ls='dotted', color='r')\n",
    "\n",
    "mug6 = datetime.datetime(2019, 12, 10)\n",
    "ax.axvline(mug6, -10, 20, ls='dotted', color='r')\n",
    "\n",
    "mug7 = datetime.datetime(2020, 6, 11)\n",
    "ax.axvline(mug7, -10, 20, ls='dotted', color='r')\n",
    "\n",
    "mug8 = datetime.datetime(2020, 12, 2)\n",
    "ax.axvline(mug8, -10, 20, ls='dotted', color='r')\n",
    "\n",
    "covid = datetime.datetime(2020, 3, 13)\n",
    "#ax.axvline(covid, -10, 20, ls='dashdot', color='purple')\n",
    "\n",
    "vms = datetime.datetime(2019, 6, 6)\n",
    "#ax.axvline(vms, -10, 20, ls='dashdot', color='purple')\n",
    "\n",
    "d_start = datetime.datetime(2018, 10, 1)\n",
    "d_end = datetime.datetime(2019, 2, 10)\n",
    "#ax.axhline(y=3, xmin=0.62, xmax=0.68, color='black')\n",
    "\n",
    "\n",
    "dates = datetime.datetime(2016, 11, 1), datetime.datetime(2017, 11, 1), datetime.datetime(2018, 11, 1), datetime.datetime(2019, 11, 1), datetime.datetime(2020, 11, 1)\n",
    "levels = 7, 7, 10, 11, 11\n",
    "#ax.plot(dates, levels, color='gray')\n",
    "\n",
    "ax.set_xlabel('Date')\n",
    "ax.set_ylabel('MPC FTE-years')\n",
    "\n",
    "\n",
    "ax2.set_ylabel('Funding ($M)')\n",
    "\n",
    "funding = df2['total_funding']\n",
    "coh_me = df2['coh_me']\n",
    "expected = df2['expected']\n",
    "d = df2['d']\n",
    "\n",
    "linestyle = (0, (1, 4))\n",
    "\n",
    "ax2.xaxis_date() \n",
    "ax2.xaxis.set_major_formatter(mdates.DateFormatter('%Y'))\n",
    "ax2.plot(d, funding/1e6)\n",
    "ax2.plot(d, coh_me/1e6, 'red')\n",
    "ax2.plot(d, expected/1e6)\n",
    "\n",
    "ax.plot(df.d, labor-9.7, 'black')\n",
    "ax.set_ylim(-0.1, 40)\n",
    "ax2.set_ylim(-0.1, 8)\n",
    "\n",
    "\n",
    "plt.savefig('/Users/mholman/Dropbox/misc/funding.pdf')"
   ]
  },
  {
   "cell_type": "code",
   "execution_count": null,
   "metadata": {},
   "outputs": [],
   "source": [
    "d_start"
   ]
  },
  {
   "cell_type": "code",
   "execution_count": null,
   "metadata": {},
   "outputs": [],
   "source": [
    "plt.bar(df.d, cumulative+6)"
   ]
  },
  {
   "cell_type": "code",
   "execution_count": null,
   "metadata": {},
   "outputs": [],
   "source": [
    "cumulative+6, df.d"
   ]
  },
  {
   "cell_type": "code",
   "execution_count": null,
   "metadata": {},
   "outputs": [],
   "source": [
    "cumulative+6"
   ]
  },
  {
   "cell_type": "code",
   "execution_count": null,
   "metadata": {},
   "outputs": [],
   "source": [
    "df.d"
   ]
  },
  {
   "cell_type": "code",
   "execution_count": null,
   "metadata": {},
   "outputs": [],
   "source": [
    "df.diff"
   ]
  },
  {
   "cell_type": "code",
   "execution_count": null,
   "metadata": {},
   "outputs": [],
   "source": [
    "import spicey as sp"
   ]
  },
  {
   "cell_type": "code",
   "execution_count": null,
   "metadata": {},
   "outputs": [],
   "source": [
    "import wis"
   ]
  },
  {
   "cell_type": "code",
   "execution_count": null,
   "metadata": {},
   "outputs": [],
   "source": [
    "(440e6-45.9e6)/(2*1.5e6*30)"
   ]
  }
 ],
 "metadata": {
  "anaconda-cloud": {},
  "kernelspec": {
   "display_name": "Python 3",
   "language": "python",
   "name": "python3"
  },
  "language_info": {
   "codemirror_mode": {
    "name": "ipython",
    "version": 3
   },
   "file_extension": ".py",
   "mimetype": "text/x-python",
   "name": "python",
   "nbconvert_exporter": "python",
   "pygments_lexer": "ipython3",
   "version": "3.8.5"
  }
 },
 "nbformat": 4,
 "nbformat_minor": 1
}
